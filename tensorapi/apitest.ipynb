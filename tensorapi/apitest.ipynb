{
 "cells": [
  {
   "cell_type": "code",
   "execution_count": 1,
   "metadata": {
    "collapsed": true
   },
   "outputs": [],
   "source": [
    "import tensorflow as tf\n",
    "import pandas as pd\n",
    "import numpy as np\n",
    "from sklearn import preprocessing\n",
    "tf.set_random_seed(42)"
   ]
  },
  {
   "cell_type": "code",
   "execution_count": 2,
   "metadata": {
    "collapsed": true
   },
   "outputs": [],
   "source": [
    "s = tf.Session()\n",
    "init = tf.global_variables_initializer()\n",
    "s.run(init)"
   ]
  },
  {
   "cell_type": "code",
   "execution_count": 3,
   "metadata": {
    "collapsed": true
   },
   "outputs": [],
   "source": [
    "x =tf.random_normal([2,3])\n",
    "y =tf.random_normal([2,3])\n",
    "t = tf.random_normal(shape=(3,4))\n",
    "t = tf.constant([[3.,4.],[2.,3.],[4.,5.]])"
   ]
  },
  {
   "cell_type": "code",
   "execution_count": 4,
   "metadata": {},
   "outputs": [
    {
     "name": "stdout",
     "output_type": "stream",
     "text": [
      "Tensor(\"test/fc1/BiasAdd:0\", shape=(3, 1), dtype=float32)\n",
      "Tensor(\"test/Neg:0\", shape=(), dtype=float32)\n",
      "[14.893255]\n"
     ]
    }
   ],
   "source": [
    "with tf.variable_scope('test') :\n",
    "    \n",
    "    t = tf.contrib.layers.linear(t, 1, scope='fc1')\n",
    "    print(t)\n",
    "    t = -tf.reduce_sum(t)\n",
    "init = tf.global_variables_initializer()\n",
    "s.run(init)\n",
    "print(t)\n",
    "data = s.run([t])\n",
    "print(data)"
   ]
  },
  {
   "cell_type": "code",
   "execution_count": 98,
   "metadata": {},
   "outputs": [
    {
     "name": "stdout",
     "output_type": "stream",
     "text": [
      "[None, -6.8777485]\n"
     ]
    }
   ],
   "source": [
    "train = tf.train.GradientDescentOptimizer(1e-3).minimize(t)\n",
    "print(s.run([train, t]))\n",
    "# fc1_val = tf.get_variable('test/fc1/weights/d')"
   ]
  },
  {
   "cell_type": "code",
   "execution_count": 4,
   "metadata": {
    "collapsed": true
   },
   "outputs": [],
   "source": [
    "bat_x, bat_y = tf.train.batch(tensors=[x,y],batch_size=1, dynamic_pad=False)\n",
    "# bat = tf.contrib.training.bucket_by_sequence_length(input_length=3, tensors=[x,y], batch_size=1)\n",
    "coord = tf.train.Coordinator()\n",
    "threads = tf.train.start_queue_runners(sess=s, coord=coord)\n"
   ]
  },
  {
   "cell_type": "code",
   "execution_count": 8,
   "metadata": {},
   "outputs": [
    {
     "name": "stdout",
     "output_type": "stream",
     "text": [
      "[array([[[-1.44549644,  1.31358135, -1.60024261],\n",
      "        [ 1.06059265, -0.29766434, -0.71426326]]], dtype=float32), array([[[ -8.14662993e-01,   1.55203253e-01,   1.87591243e+00],\n",
      "        [  3.93171698e-01,  -2.44468236e+00,  -1.34637242e-03]]], dtype=float32)]\n"
     ]
    }
   ],
   "source": [
    "print(s.run([bat_x, bat_y]))"
   ]
  },
  {
   "cell_type": "code",
   "execution_count": 3,
   "metadata": {},
   "outputs": [
    {
     "name": "stdout",
     "output_type": "stream",
     "text": [
      "[ 0 10  6]\n"
     ]
    }
   ],
   "source": [
    "a = (tf.range(3) * [10,10,3])\n",
    "print(s.run(a))\n",
    "\n"
   ]
  },
  {
   "cell_type": "code",
   "execution_count": 75,
   "metadata": {},
   "outputs": [
    {
     "name": "stdout",
     "output_type": "stream",
     "text": [
      "[array([ 1.8343811], dtype=float32), None]\n"
     ]
    },
    {
     "data": {
      "text/plain": [
       "1.8343811"
      ]
     },
     "execution_count": 75,
     "metadata": {},
     "output_type": "execute_result"
    }
   ],
   "source": [
    "varr = tf.Variable(tf.random_uniform(shape=[1], maxval=10, dtype=tf.float32))\n",
    "\n",
    "s.run(tf.global_variables_initializer())\n",
    "\n",
    "\n",
    "reduced = tf.reduce_sum(varr)\n",
    "train = tf.train.GradientDescentOptimizer(0.01).minimize(reduced)\n",
    "print(s.run([varr,train]))\n",
    "s.run(reduced)\n"
   ]
  },
  {
   "cell_type": "code",
   "execution_count": 77,
   "metadata": {},
   "outputs": [
    {
     "data": {
      "text/plain": [
       "[1.8143811, None, array([ 1.81438112], dtype=float32)]"
      ]
     },
     "execution_count": 77,
     "metadata": {},
     "output_type": "execute_result"
    }
   ],
   "source": [
    "s.run([reduced,train,varr])"
   ]
  },
  {
   "cell_type": "code",
   "execution_count": 66,
   "metadata": {},
   "outputs": [
    {
     "name": "stdout",
     "output_type": "stream",
     "text": [
      "[array([[3, 3],\n",
      "       [2, 3],\n",
      "       [5, 2],\n",
      "       [4, 6],\n",
      "       [5, 2]]), array([2, 5, 0, 6, 7]), array([[0, 0, 0, 0, 0, 0, 0],\n",
      "       [0, 0, 0, 0, 0, 0, 0],\n",
      "       [0, 0, 0, 5, 0, 0, 0],\n",
      "       [0, 0, 0, 2, 0, 0, 0],\n",
      "       [0, 0, 0, 0, 0, 0, 6],\n",
      "       [0, 0, 7, 0, 0, 0, 0],\n",
      "       [0, 0, 0, 0, 0, 0, 0],\n",
      "       [0, 0, 0, 0, 0, 0, 0],\n",
      "       [0, 0, 0, 0, 0, 0, 0],\n",
      "       [0, 0, 0, 0, 0, 0, 0]])]\n"
     ]
    }
   ],
   "source": [
    "sp_indices = tf.random_uniform(shape=[5,2], maxval=10, dtype=tf.int32)\n",
    "alpha = tf.random_uniform(shape=[5], maxval=10, dtype=tf.int32)\n",
    "\n",
    "sparsed = tf.sparse_to_dense(sp_indices, [10, 7], alpha, validate_indices=False,\n",
    "                                                 name=\"att_sparse_to_dense\")\n",
    "# print(s.run([sp_indices,alpha,sparsed]))\n",
    "print(s.run([sp_indices,alpha, sparsed]))"
   ]
  },
  {
   "cell_type": "code",
   "execution_count": 6,
   "metadata": {},
   "outputs": [
    {
     "name": "stdout",
     "output_type": "stream",
     "text": [
      "[       0     1458     2916 ..., 14575626 14577084 14578542]\n"
     ]
    }
   ],
   "source": [
    "labels = tf.range(10000) *1458\n",
    "print(s.run(labels))"
   ]
  },
  {
   "cell_type": "code",
   "execution_count": 9,
   "metadata": {},
   "outputs": [
    {
     "name": "stdout",
     "output_type": "stream",
     "text": [
      "[[[2 7 7 2 0]\n",
      "  [8 0 7 6 7]\n",
      "  [9 6 6 9 1]\n",
      "  [3 2 8 8 5]]\n",
      "\n",
      " [[8 7 9 8 1]\n",
      "  [2 3 4 7 2]\n",
      "  [1 8 2 2 3]\n",
      "  [5 7 0 9 2]]\n",
      "\n",
      " [[4 7 3 2 5]\n",
      "  [7 5 3 1 4]\n",
      "  [4 0 1 4 0]\n",
      "  [3 8 1 0 0]]]\n"
     ]
    }
   ],
   "source": [
    "X = tf.random_uniform(shape=[3,4,5], maxval=10, dtype=tf.int32)\n",
    "print(s.run(X))"
   ]
  },
  {
   "cell_type": "code",
   "execution_count": 14,
   "metadata": {},
   "outputs": [
    {
     "name": "stdout",
     "output_type": "stream",
     "text": [
      "(12, 5)\n"
     ]
    }
   ],
   "source": [
    "x_reshaped = tf.reshape(X,[-1,5])\n",
    "expand = tf.expand_dims(X,3)\n",
    "print(s.run([X,x_reshaped, expand])[1].shape)"
   ]
  },
  {
   "cell_type": "code",
   "execution_count": 10,
   "metadata": {},
   "outputs": [
    {
     "name": "stdout",
     "output_type": "stream",
     "text": [
      "[[9 1 7]]\n",
      "[[9 8]\n",
      " [9 5]\n",
      " [0 8]\n",
      " [1 0]\n",
      " [2 8]\n",
      " [3 1]\n",
      " [9 7]\n",
      " [2 1]\n",
      " [1 8]\n",
      " [1 4]]\n",
      "[[[1 4]\n",
      "  [9 5]\n",
      "  [2 1]]] Tensor(\"Gather_2:0\", shape=(1, 3, 2), dtype=int32)\n"
     ]
    }
   ],
   "source": [
    "input_data =tf.random_uniform(shape=[1,3] , maxval=10, dtype=tf.int32) \n",
    "embedding = tf.random_uniform(shape=[10,2] , maxval=10, dtype=tf.int32)\n",
    "gathered = tf.gather(embedding, input_data)\n",
    "\n",
    "inputs_, embedding_, gathered_ = s.run([input_data, embedding,gathered])\n",
    "\n",
    "\n",
    "print(inputs_)\n",
    "print(embedding_)\n",
    "print(gathered_, gathered)"
   ]
  },
  {
   "cell_type": "code",
   "execution_count": 220,
   "metadata": {},
   "outputs": [
    {
     "data": {
      "text/plain": [
       "[array([[ 2, -2, -6]]), array([[ 1, -1, -1]])]"
      ]
     },
     "execution_count": 220,
     "metadata": {},
     "output_type": "execute_result"
    }
   ],
   "source": [
    "input_data =tf.random_uniform(shape=[1,3] ,minval=-10 ,maxval=10, dtype=tf.int32) \n",
    "abss = tf.sign(input_data)\n",
    "s.run([input_data,abss])"
   ]
  },
  {
   "cell_type": "code",
   "execution_count": 19,
   "metadata": {},
   "outputs": [
    {
     "data": {
      "text/plain": [
       "('22', '44', '55', 1, 2, 3, 4, '22', '44', '55', 1, 2, 3, 4)"
      ]
     },
     "execution_count": 19,
     "metadata": {},
     "output_type": "execute_result"
    }
   ],
   "source": [
    "lt=[\"22\",\"44\",\"55\"]\n",
    "df = [1,2,3,4]\n",
    "# lt.append(df)\n",
    "lt.extend(df)\n",
    "tuple(lt *2)"
   ]
  },
  {
   "cell_type": "code",
   "execution_count": 83,
   "metadata": {},
   "outputs": [
    {
     "data": {
      "text/plain": [
       "array([[-1.41211283, -0.57831031, -0.75640547],\n",
       "       [-0.56167918, -2.10854745, -1.75196922],\n",
       "       [ 1.48033059, -1.19437778, -0.73439193],\n",
       "       [-0.48297727, -0.41073939,  1.78392351],\n",
       "       [ 0.48129374, -1.17940354,  0.72481978],\n",
       "       [-0.10496811, -0.31811568,  0.21208768],\n",
       "       [-1.27551186, -0.74990308, -0.26338577],\n",
       "       [ 0.19356929, -0.21194717, -1.84980297],\n",
       "       [ 0.02437377,  1.05214   , -0.55775386],\n",
       "       [-0.82035667, -1.07654941, -0.48308611],\n",
       "       [ 0.43199149, -1.07883418,  1.06760204],\n",
       "       [ 1.36018074,  1.26381958,  1.30093861],\n",
       "       [ 1.11742103,  0.12374764,  1.90662074],\n",
       "       [-0.94280595,  0.28615844,  0.57828796],\n",
       "       [-0.16717513, -0.50508827, -1.96472681],\n",
       "       [ 1.44028485, -1.18124712,  0.03504804]], dtype=float32)"
      ]
     },
     "execution_count": 83,
     "metadata": {},
     "output_type": "execute_result"
    }
   ],
   "source": [
    "cast_test = tf.cast(X, dtype=tf.bool)\n",
    "s.run(y)"
   ]
  },
  {
   "cell_type": "code",
   "execution_count": 111,
   "metadata": {},
   "outputs": [
    {
     "name": "stdout",
     "output_type": "stream",
     "text": [
      "[[[2 6]\n",
      "  [4 7]\n",
      "  [2 9]]\n",
      "\n",
      " [[7 2]\n",
      "  [9 8]\n",
      "  [9 0]]\n",
      "\n",
      " [[7 4]\n",
      "  [5 9]\n",
      "  [9 8]]]\n",
      "[[ 8 11 11]\n",
      " [ 9 17  9]\n",
      " [11 14 17]]\n"
     ]
    }
   ],
   "source": [
    "m2 = tf.random_uniform(shape=[3,4], maxval=10, dtype=tf.int32)\n",
    "m1 = tf.random_uniform(shape=[3,3,2], maxval=10, dtype=tf.int32)\n",
    "reduced = tf.reduce_sum(m1,2)\n",
    "test_size = 3\n",
    "# m1_ = s.run(m1)\n",
    "reshaped = tf.reshape(m2_, [-1, test_size])  # (batch*k, size)\n",
    "# print(m1_)\n",
    "reshaped_, reduced_, m1_ = s.run([reshaped,reduced,m1])\n",
    "# print(m2_)\n",
    "# print(reshaped_)\n",
    "print(m1_)\n",
    "print(reduced_)\n"
   ]
  },
  {
   "cell_type": "code",
   "execution_count": 115,
   "metadata": {},
   "outputs": [
    {
     "name": "stdout",
     "output_type": "stream",
     "text": [
      "[[[2 6]\n",
      "  [4 7]\n",
      "  [2 9]]\n",
      "\n",
      " [[7 2]\n",
      "  [9 8]\n",
      "  [9 0]]\n",
      "\n",
      " [[7 4]\n",
      "  [5 9]\n",
      "  [9 8]]]\n"
     ]
    },
    {
     "data": {
      "text/plain": [
       "array([[[3, 4],\n",
       "        [4, 4],\n",
       "        [3, 4]],\n",
       "\n",
       "       [[4, 3],\n",
       "        [4, 4],\n",
       "        [4, 1]],\n",
       "\n",
       "       [[4, 4],\n",
       "        [4, 4],\n",
       "        [4, 4]]])"
      ]
     },
     "execution_count": 115,
     "metadata": {},
     "output_type": "execute_result"
    }
   ],
   "source": [
    "print(m1_)\n",
    "s.run(tf.minimum(m1_+1,4))"
   ]
  },
  {
   "cell_type": "code",
   "execution_count": 23,
   "metadata": {},
   "outputs": [
    {
     "name": "stdout",
     "output_type": "stream",
     "text": [
      "Tensor(\"Shape_5:0\", shape=(2,), dtype=int32)\n",
      "(3, 1)\n",
      "[[ 0.457571  ]\n",
      " [-0.15787232]\n",
      " [ 0.05245945]]\n"
     ]
    }
   ],
   "source": [
    "print(tf.shape(data))\n",
    "print(data.shape)\n",
    "print(data)"
   ]
  },
  {
   "cell_type": "code",
   "execution_count": 2,
   "metadata": {},
   "outputs": [
    {
     "data": {
      "text/plain": [
       "[array([[1, 0, 2, 5]], dtype=int64), array([[1, 0, 2, 3, 3, 3]], dtype=int64)]"
      ]
     },
     "execution_count": 2,
     "metadata": {},
     "output_type": "execute_result"
    }
   ],
   "source": [
    "y_one_hot = [[[0, 1, 0, 0],   # i 1\n",
    "              [1, 0, 0, 0],   # h 0\n",
    "              [0, 0, 1, 0],   # e 2\n",
    "              [0, 0, 0, 3],   # l 3\n",
    "              [0, 0, 0, 4],   # l 3\n",
    "              [0, 0, 0, 5]]]  # o 4\n",
    "\n",
    "argtest = tf.argmax(y_one_hot,1)\n",
    "argtest_2 = tf.argmax(y_one_hot,2)\n",
    "s = tf.Session()\n",
    "s.run([argtest, argtest_2])"
   ]
  },
  {
   "cell_type": "code",
   "execution_count": 3,
   "metadata": {},
   "outputs": [],
   "source": [
    "embedding = tf.get_variable('variable_embedding', [128, 32])\n",
    "s.run(tf.global_variables_initializer())\n",
    "t = tf.nn.embedding_lookup(params=embedding, ids=[[0],[4]])\n",
    "# tf.identity()\n",
    "# tf.argmax()\n",
    "# t = tf.reduce_max([2,31,4,5])\n",
    "# tf.sequence_mask()\n"
   ]
  },
  {
   "cell_type": "code",
   "execution_count": 5,
   "metadata": {},
   "outputs": [
    {
     "data": {
      "text/plain": [
       "array([[ 0.114669  , -0.00071345,  0.06677443, ..., -0.1298181 ,\n",
       "        -0.06117569,  0.14669898],\n",
       "       [ 0.08785665, -0.05807771,  0.19225189, ..., -0.100212  ,\n",
       "         0.07535726, -0.05911684],\n",
       "       [-0.04900821, -0.0079432 ,  0.05898544, ...,  0.1835174 ,\n",
       "        -0.07373639, -0.02473161],\n",
       "       ..., \n",
       "       [ 0.18895945,  0.16350222, -0.09569921, ...,  0.12499744,\n",
       "        -0.01557086, -0.11011218],\n",
       "       [-0.0050191 ,  0.0099555 ,  0.00597554, ..., -0.17203383,\n",
       "        -0.10057817,  0.08145738],\n",
       "       [-0.00075492,  0.05036263, -0.02716316, ..., -0.08613453,\n",
       "        -0.16590865,  0.10215229]], dtype=float32)"
      ]
     },
     "execution_count": 5,
     "metadata": {},
     "output_type": "execute_result"
    }
   ],
   "source": [
    "s.run(embedding)\n",
    "# s.run(t)"
   ]
  },
  {
   "cell_type": "code",
   "execution_count": 11,
   "metadata": {},
   "outputs": [
    {
     "name": "stdout",
     "output_type": "stream",
     "text": [
      "Tensor(\"Tile_2:0\", shape=(10, 768), dtype=int32)\n"
     ]
    }
   ],
   "source": [
    "from tensorflow.python.util import nest\n",
    "tiled = tf.tile([[22,2,3]],(10,nest.flatten([256])[0]))\n",
    "print(tiled)"
   ]
  },
  {
   "cell_type": "code",
   "execution_count": 6,
   "metadata": {},
   "outputs": [
    {
     "data": {
      "text/plain": [
       "<tf.Tensor 'Tile_1:0' shape=(3, 6) dtype=int32>"
      ]
     },
     "execution_count": 6,
     "metadata": {},
     "output_type": "execute_result"
    }
   ],
   "source": [
    "tf.tile([[2,1,3]],[3,2])"
   ]
  },
  {
   "cell_type": "code",
   "execution_count": 7,
   "metadata": {},
   "outputs": [
    {
     "name": "stdout",
     "output_type": "stream",
     "text": [
      "Tensor(\"Tile:0\", shape=(10, 768), dtype=int32)\n"
     ]
    }
   ],
   "source": [
    "nest_pack_sequence = nest.pack_sequence_as(structure=256, flat_sequence=[tiled])\n",
    "print(nest_pack_sequence)"
   ]
  },
  {
   "cell_type": "code",
   "execution_count": 46,
   "metadata": {},
   "outputs": [
    {
     "name": "stdout",
     "output_type": "stream",
     "text": [
      "Tensor(\"ExpandDims_3:0\", shape=(10, 1, 768), dtype=int32)\n"
     ]
    }
   ],
   "source": [
    "tf_expanded_dims = tf.expand_dims(nest_pack_sequence,1)\n",
    "print(tf_expanded_dims)"
   ]
  },
  {
   "cell_type": "code",
   "execution_count": 44,
   "metadata": {
    "collapsed": true
   },
   "outputs": [],
   "source": [
    "from tensorflow.python.ops.gen_array_ops import _concat_v2 as concat_v2"
   ]
  },
  {
   "cell_type": "code",
   "execution_count": 61,
   "metadata": {},
   "outputs": [
    {
     "data": {
      "text/plain": [
       "<tf.Tensor 'ConcatV2_3:0' shape=(10, 2, 768) dtype=int32>"
      ]
     },
     "execution_count": 61,
     "metadata": {},
     "output_type": "execute_result"
    }
   ],
   "source": [
    "tf_rand_normed = tf.random_uniform([10,1,768], maxval=10, dtype=tf.int32)\n",
    "concat_v2([tf_expanded_dims, tf_rand_normed], 1)\n",
    "# tf.constant()\n"
   ]
  },
  {
   "cell_type": "code",
   "execution_count": 60,
   "metadata": {},
   "outputs": [
    {
     "name": "stdout",
     "output_type": "stream",
     "text": [
      "replicated_first_indices Tensor(\"range_51:0\", shape=(?,), dtype=int32)\n",
      "tf_normal_get_shape (128, 10)\n",
      "normal.shape (128, 10)\n",
      "(128,)\n",
      "[  0   1   2   3   4   5   6   7   8   9  10  11  12  13  14  15  16  17\n",
      "  18  19  20  21  22  23  24  25  26  27  28  29  30  31  32  33  34  35\n",
      "  36  37  38  39  40  41  42  43  44  45  46  47  48  49  50  51  52  53\n",
      "  54  55  56  57  58  59  60  61  62  63  64  65  66  67  68  69  70  71\n",
      "  72  73  74  75  76  77  78  79  80  81  82  83  84  85  86  87  88  89\n",
      "  90  91  92  93  94  95  96  97  98  99 100 101 102 103 104 105 106 107\n",
      " 108 109 110 111 112 113 114 115 116 117 118 119 120 121 122 123 124 125\n",
      " 126 127]\n"
     ]
    }
   ],
   "source": [
    "tf_normal = tf.random_normal(shape=[128,10])\n",
    "replicated_first_indices = tf.range(tf.shape(tf_normal)[0])\n",
    "print('replicated_first_indices', replicated_first_indices)\n",
    "print('tf_normal_get_shape', tf_normal.get_shape())\n",
    "normal = s.run(tf_normal)\n",
    "replicated = tf.range(tf.shape(normal)[0])\n",
    "replicated = s.run(replicated)\n",
    "print('normal.shape',normal.shape)\n",
    "print(replicated.shape)\n",
    "print(replicated)"
   ]
  },
  {
   "cell_type": "code",
   "execution_count": 59,
   "metadata": {},
   "outputs": [
    {
     "name": "stdout",
     "output_type": "stream",
     "text": [
      "(1, 128)\n",
      "[[  0   1   2   3   4   5   6   7   8   9  10  11  12  13  14  15  16  17\n",
      "   18  19  20  21  22  23  24  25  26  27  28  29  30  31  32  33  34  35\n",
      "   36  37  38  39  40  41  42  43  44  45  46  47  48  49  50  51  52  53\n",
      "   54  55  56  57  58  59  60  61  62  63  64  65  66  67  68  69  70  71\n",
      "   72  73  74  75  76  77  78  79  80  81  82  83  84  85  86  87  88  89\n",
      "   90  91  92  93  94  95  96  97  98  99 100 101 102 103 104 105 106 107\n",
      "  108 109 110 111 112 113 114 115 116 117 118 119 120 121 122 123 124 125\n",
      "  126 127]]\n"
     ]
    }
   ],
   "source": [
    "expanded = s.run(tf.expand_dims(replicated,dim=0))\n",
    "print(expanded.shape)\n",
    "print(expanded)"
   ]
  },
  {
   "cell_type": "code",
   "execution_count": null,
   "metadata": {
    "collapsed": true
   },
   "outputs": [],
   "source": []
  },
  {
   "cell_type": "code",
   "execution_count": 10,
   "metadata": {},
   "outputs": [
    {
     "name": "stdout",
     "output_type": "stream",
     "text": [
      "[[ 0.1   0.3   0.5   0.9 ]\n",
      " [ 0.01  0.03  0.1   0.09]]\n",
      "[[ 0.16838508  0.205666    0.25120102  0.37474789]\n",
      " [ 0.23822781  0.24304033  0.26066275  0.25806911]]\n",
      "[3 2]\n"
     ]
    }
   ],
   "source": [
    "a = tf.constant(np.array([[.1,.3,.5,.9],\n",
    "                          [.01,.03,.10,.09]\n",
    "                         ]))\n",
    "s = tf.Session()\n",
    "b = tf.nn.softmax(a)\n",
    "argmxtext = tf.arg_max(a,1)\n",
    "argmxtext = tf.argmax(a,1)\n",
    "before_softmax, after_softmax, argm = s.run([a,b, argmxtext])\n",
    "print(before_softmax)\n",
    "print(after_softmax)\n",
    "print(argm)"
   ]
  },
  {
   "cell_type": "code",
   "execution_count": 8,
   "metadata": {},
   "outputs": [
    {
     "name": "stdout",
     "output_type": "stream",
     "text": [
      "1.8 0.45\n"
     ]
    }
   ],
   "source": [
    "c = tf.reduce_sum(a)\n",
    "d = tf.reduce_mean(a)\n",
    "reduced_sum, reduce_mean  = s.run([c,d])\n",
    "print(reduced_sum, reduce_mean)"
   ]
  },
  {
   "cell_type": "code",
   "execution_count": 10,
   "metadata": {},
   "outputs": [
    {
     "name": "stdout",
     "output_type": "stream",
     "text": [
      "[  4   5 505] [  6 508]\n"
     ]
    }
   ],
   "source": [
    "x = [[1,2,3],[3,3,502]]\n",
    "e = tf.reduce_sum(x, axis=0)\n",
    "f = tf.reduce_sum(x, axis=1)\n",
    "row_sum, column_sum = s.run([e,f])\n",
    "print(row_sum, column_sum)"
   ]
  },
  {
   "cell_type": "code",
   "execution_count": 11,
   "metadata": {},
   "outputs": [
    {
     "name": "stdout",
     "output_type": "stream",
     "text": [
      "[[ 0.26726124  0.53452248  0.80178373]\n",
      " [ 0.00597588  0.00597588  0.99996429]]\n"
     ]
    }
   ],
   "source": [
    "normal_x = preprocessing.normalize(x)\n",
    "print(normal_x)"
   ]
  },
  {
   "cell_type": "code",
   "execution_count": 16,
   "metadata": {},
   "outputs": [
    {
     "name": "stdout",
     "output_type": "stream",
     "text": [
      "[array([2, 3])]\n"
     ]
    }
   ],
   "source": [
    "a = tf.constant([2,3])\n",
    "g = s.run([a])\n",
    "print(g)"
   ]
  },
  {
   "cell_type": "code",
   "execution_count": 2,
   "metadata": {},
   "outputs": [
    {
     "ename": "NameError",
     "evalue": "name 's' is not defined",
     "output_type": "error",
     "traceback": [
      "\u001b[1;31m---------------------------------------------------------------------------\u001b[0m",
      "\u001b[1;31mNameError\u001b[0m                                 Traceback (most recent call last)",
      "\u001b[1;32m<ipython-input-2-558f7e39a262>\u001b[0m in \u001b[0;36m<module>\u001b[1;34m()\u001b[0m\n\u001b[0;32m      3\u001b[0m \u001b[0mlogted_\u001b[0m \u001b[1;33m=\u001b[0m \u001b[0mtf\u001b[0m\u001b[1;33m.\u001b[0m\u001b[0mlog\u001b[0m\u001b[1;33m(\u001b[0m\u001b[0mdd\u001b[0m\u001b[1;33m)\u001b[0m\u001b[1;33m\u001b[0m\u001b[0m\n\u001b[0;32m      4\u001b[0m \u001b[0mmeand\u001b[0m \u001b[1;33m=\u001b[0m \u001b[0mtf\u001b[0m\u001b[1;33m.\u001b[0m\u001b[0mreduce_mean\u001b[0m\u001b[1;33m(\u001b[0m\u001b[0mlogted_\u001b[0m\u001b[1;33m)\u001b[0m\u001b[1;33m\u001b[0m\u001b[0m\n\u001b[1;32m----> 5\u001b[1;33m \u001b[0mssd\u001b[0m\u001b[1;33m,\u001b[0m \u001b[0mlogted\u001b[0m\u001b[1;33m,\u001b[0m \u001b[0mmea\u001b[0m \u001b[1;33m=\u001b[0m \u001b[0ms\u001b[0m\u001b[1;33m.\u001b[0m\u001b[0mrun\u001b[0m\u001b[1;33m(\u001b[0m\u001b[1;33m[\u001b[0m\u001b[0mdd\u001b[0m\u001b[1;33m,\u001b[0m \u001b[0mlogted_\u001b[0m\u001b[1;33m,\u001b[0m \u001b[0mmeand\u001b[0m\u001b[1;33m]\u001b[0m\u001b[1;33m)\u001b[0m\u001b[1;33m\u001b[0m\u001b[0m\n\u001b[0m\u001b[0;32m      6\u001b[0m \u001b[0mprint\u001b[0m\u001b[1;33m(\u001b[0m\u001b[0mssd\u001b[0m\u001b[1;33m,\u001b[0m \u001b[0mlogted\u001b[0m\u001b[1;33m,\u001b[0m \u001b[0mmea\u001b[0m\u001b[1;33m)\u001b[0m\u001b[1;33m\u001b[0m\u001b[0m\n",
      "\u001b[1;31mNameError\u001b[0m: name 's' is not defined"
     ]
    }
   ],
   "source": [
    "\n",
    "dd = tf.sigmoid(tf.constant([-.10,-20,200]))\n",
    "logted_ = tf.log(dd)\n",
    "meand = tf.reduce_mean(logted_)\n",
    "ssd, logted, mea = s.run([dd, logted_, meand])\n",
    "print(ssd, logted, mea)"
   ]
  },
  {
   "cell_type": "code",
   "execution_count": 34,
   "metadata": {},
   "outputs": [
    {
     "name": "stdout",
     "output_type": "stream",
     "text": [
      "[array([ 0.0110203], dtype=float32), array([ 0.0110203], dtype=float32)]\n"
     ]
    }
   ],
   "source": [
    "dd = tf.constant([.01102030239029302390])\n",
    "s = tf.Session()\n",
    "da = tf.clip_by_value(dd, clip_value_max=1-1e-2, clip_value_min=1e-2)\n",
    "print(s.run([dd, da]))"
   ]
  }
 ],
 "metadata": {
  "anaconda-cloud": {},
  "kernelspec": {
   "display_name": "Python [conda root]",
   "language": "python",
   "name": "conda-root-py"
  },
  "language_info": {
   "codemirror_mode": {
    "name": "ipython",
    "version": 3
   },
   "file_extension": ".py",
   "mimetype": "text/x-python",
   "name": "python",
   "nbconvert_exporter": "python",
   "pygments_lexer": "ipython3",
   "version": "3.5.2"
  }
 },
 "nbformat": 4,
 "nbformat_minor": 2
}

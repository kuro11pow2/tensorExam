{
 "cells": [
  {
   "cell_type": "code",
   "execution_count": 20,
   "metadata": {
    "collapsed": true
   },
   "outputs": [],
   "source": [
    "import tensorflow as tf\n",
    "import pandas as pd\n",
    "import numpy as np\n",
    "from sklearn import preprocessing"
   ]
  },
  {
   "cell_type": "code",
   "execution_count": 12,
   "metadata": {},
   "outputs": [
    {
     "name": "stdout",
     "output_type": "stream",
     "text": [
      "[[ 0.1  0.3  0.5  0.9]]\n",
      "[[ 0.16838508  0.205666    0.25120102  0.37474789]]\n"
     ]
    }
   ],
   "source": [
    "a = tf.constant(np.array([[.1,.3,.5,.9]]))\n",
    "s = tf.Session()\n",
    "b = tf.nn.softmax(a)\n",
    "before_softmax, after_softmax = s.run([a,b])\n",
    "print(before_softmax)\n",
    "print(after_softmax)"
   ]
  },
  {
   "cell_type": "code",
   "execution_count": 16,
   "metadata": {},
   "outputs": [
    {
     "name": "stdout",
     "output_type": "stream",
     "text": [
      "1.8 0.45\n"
     ]
    }
   ],
   "source": [
    "c = tf.reduce_sum(a)\n",
    "d = tf.reduce_mean(a)\n",
    "reduced_sum, reduce_mean  = s.run([c,d])\n",
    "print(reduced_sum, reduce_mean)"
   ]
  },
  {
   "cell_type": "code",
   "execution_count": 29,
   "metadata": {},
   "outputs": [
    {
     "name": "stdout",
     "output_type": "stream",
     "text": [
      "[3 3 3] [  6 508]\n"
     ]
    }
   ],
   "source": [
    "x = [[1,2,3],[3,3,502]]\n",
    "e = tf.reduce_sum(x, axis=0)\n",
    "f = tf.reduce_sum(x, axis=1)\n",
    "row_sum, column_sum = s.run([e,f])\n",
    "print(axis_sum, column_sum)"
   ]
  },
  {
   "cell_type": "code",
   "execution_count": 31,
   "metadata": {},
   "outputs": [
    {
     "name": "stdout",
     "output_type": "stream",
     "text": [
      "[[ 0.26726124  0.53452248  0.80178373]\n",
      " [ 0.00597588  0.00597588  0.99996429]]\n"
     ]
    }
   ],
   "source": [
    "normal_x = preprocessing.normalize(x)\n",
    "print(normal_x)"
   ]
  }
 ],
 "metadata": {
  "anaconda-cloud": {},
  "kernelspec": {
   "display_name": "Python [conda root]",
   "language": "python",
   "name": "conda-root-py"
  },
  "language_info": {
   "codemirror_mode": {
    "name": "ipython",
    "version": 3
   },
   "file_extension": ".py",
   "mimetype": "text/x-python",
   "name": "python",
   "nbconvert_exporter": "python",
   "pygments_lexer": "ipython3",
   "version": "3.5.2"
  }
 },
 "nbformat": 4,
 "nbformat_minor": 2
}

{
 "cells": [
  {
   "cell_type": "code",
   "execution_count": 1,
   "metadata": {
    "collapsed": true
   },
   "outputs": [],
   "source": [
    "import tensorflow as tf\n",
    "import pandas as pd\n",
    "import numpy as np\n",
    "from sklearn import preprocessing\n",
    "\n"
   ]
  },
  {
   "cell_type": "code",
   "execution_count": 2,
   "metadata": {
    "collapsed": true
   },
   "outputs": [],
   "source": [
    "y_one_hot = [[[0, 1, 0, 0],   # i 1\n",
    "              [1, 0, 0, 0],   # h 0\n",
    "              [0, 0, 1, 0],   # e 2\n",
    "              [0, 0, 0, 1],   # l 3\n",
    "              [0, 0, 0, 1],   # l 3\n",
    "              [0, 0, 0, -1]]]  # o 4\n",
    "y_test = [[0,1,2,3,4],[1,2,3,4,5]]"
   ]
  },
  {
   "cell_type": "code",
   "execution_count": 3,
   "metadata": {},
   "outputs": [
    {
     "name": "stdout",
     "output_type": "stream",
     "text": [
      "Tensor(\"concat:0\", shape=(6, 4), dtype=int32)\n",
      "None\n"
     ]
    }
   ],
   "source": [
    "out = tf.concat(y_one_hot, 0)\n",
    "print(out)\n",
    "s = tf.Session()\n",
    "s.run(out)\n",
    "with tf.variable_scope('rnn_decoder'):\n",
    "    t = tf.get_variable_scope().reuse_variables()\n",
    "    print(t)\n",
    "    "
   ]
  },
  {
   "cell_type": "code",
   "execution_count": 4,
   "metadata": {},
   "outputs": [
    {
     "data": {
      "text/plain": [
       "tensorflow.python.ops.rnn_cell_impl.LSTMStateTuple"
      ]
     },
     "execution_count": 4,
     "metadata": {},
     "output_type": "execute_result"
    }
   ],
   "source": [
    "tf.contrib.rnn.LSTMStateTuple()"
   ]
  },
  {
   "cell_type": "code",
   "execution_count": 20,
   "metadata": {},
   "outputs": [
    {
     "name": "stdout",
     "output_type": "stream",
     "text": [
      "Tensor(\"Const_31:0\", shape=(1, 6, 4), dtype=float32) Tensor(\"Const_32:0\", shape=(1, 1, 4), dtype=float32)\n",
      "Tensor(\"add_28:0\", shape=(1, 6, 4), dtype=float32)\n",
      "[[[ 0.  2.  0.  0.]\n",
      "  [ 1.  1.  0.  0.]\n",
      "  [ 0.  1.  1.  0.]\n",
      "  [ 0.  1.  0.  1.]\n",
      "  [ 0.  1.  0.  1.]\n",
      "  [ 0.  1.  0. -1.]]]\n",
      "[[[ 0.          0.96402758  0.          0.        ]\n",
      "  [ 0.76159418  0.76159418  0.          0.        ]\n",
      "  [ 0.          0.76159418  0.76159418  0.        ]\n",
      "  [ 0.          0.76159418  0.          0.76159418]\n",
      "  [ 0.          0.76159418  0.          0.76159418]\n",
      "  [ 0.          0.76159418  0.         -0.76159418]]]\n"
     ]
    }
   ],
   "source": [
    "y_one_hot_add = [[[0, 1, 0, 0]]]  # o 4\n",
    "y_add = np.array(y_one_hot_add)\n",
    "t = tf.constant(y_one_hot, dtype=tf.float32)\n",
    "y = tf.constant(y_add, dtype=tf.float32)\n",
    "t_y = tf.tanh(t+y)\n",
    "print(t,y)\n",
    "print(t+y)\n",
    "s = tf.Session()\n",
    "print(s.run(t+y))\n",
    "print(s.run(t_y))\n",
    "# v = tf.tanh(tf.matmul(tf.reshape(input_, [-1, hidden_size]), w) + tf.reshape(b ,[1,-1]))\n"
   ]
  },
  {
   "cell_type": "code",
   "execution_count": 13,
   "metadata": {},
   "outputs": [
    {
     "data": {
      "text/plain": [
       "[array([[1, 0, 2, 3]], dtype=int64), array([[1, 0, 2, 3, 3, 3]], dtype=int64)]"
      ]
     },
     "execution_count": 13,
     "metadata": {},
     "output_type": "execute_result"
    }
   ],
   "source": [
    "y_one_hot = [[[0, 1, 0, 0],   # i 1\n",
    "              [1, 0, 0, 0],   # h 0\n",
    "              [0, 0, 1, 0],   # e 2\n",
    "              [0, 0, 0, 1],   # l 3\n",
    "              [0, 0, 0, 1],   # l 3\n",
    "              [0, 0, 0, 1]]]  # o 4\n",
    "\n",
    "argtest = tf.argmax(y_one_hot,1)\n",
    "argtest_2 = tf.argmax(y_one_hot,2)\n",
    "s = tf.Session()\n",
    "s.run([argtest, argtest_2])"
   ]
  },
  {
   "cell_type": "code",
   "execution_count": 10,
   "metadata": {},
   "outputs": [
    {
     "name": "stdout",
     "output_type": "stream",
     "text": [
      "[[ 0.1   0.3   0.5   0.9 ]\n",
      " [ 0.01  0.03  0.1   0.09]]\n",
      "[[ 0.16838508  0.205666    0.25120102  0.37474789]\n",
      " [ 0.23822781  0.24304033  0.26066275  0.25806911]]\n",
      "[3 2]\n"
     ]
    }
   ],
   "source": [
    "a = tf.constant(np.array([[.1,.3,.5,.9],\n",
    "                          [.01,.03,.10,.09]\n",
    "                         ]))\n",
    "s = tf.Session()\n",
    "b = tf.nn.softmax(a)\n",
    "argmxtext = tf.arg_max(a,1)\n",
    "argmxtext = tf.argmax(a,1)\n",
    "before_softmax, after_softmax, argm = s.run([a,b, argmxtext])\n",
    "print(before_softmax)\n",
    "print(after_softmax)\n",
    "print(argm)"
   ]
  },
  {
   "cell_type": "code",
   "execution_count": 8,
   "metadata": {},
   "outputs": [
    {
     "name": "stdout",
     "output_type": "stream",
     "text": [
      "1.8 0.45\n"
     ]
    }
   ],
   "source": [
    "c = tf.reduce_sum(a)\n",
    "d = tf.reduce_mean(a)\n",
    "reduced_sum, reduce_mean  = s.run([c,d])\n",
    "print(reduced_sum, reduce_mean)"
   ]
  },
  {
   "cell_type": "code",
   "execution_count": 10,
   "metadata": {},
   "outputs": [
    {
     "name": "stdout",
     "output_type": "stream",
     "text": [
      "[  4   5 505] [  6 508]\n"
     ]
    }
   ],
   "source": [
    "x = [[1,2,3],[3,3,502]]\n",
    "e = tf.reduce_sum(x, axis=0)\n",
    "f = tf.reduce_sum(x, axis=1)\n",
    "row_sum, column_sum = s.run([e,f])\n",
    "print(row_sum, column_sum)"
   ]
  },
  {
   "cell_type": "code",
   "execution_count": 11,
   "metadata": {},
   "outputs": [
    {
     "name": "stdout",
     "output_type": "stream",
     "text": [
      "[[ 0.26726124  0.53452248  0.80178373]\n",
      " [ 0.00597588  0.00597588  0.99996429]]\n"
     ]
    }
   ],
   "source": [
    "normal_x = preprocessing.normalize(x)\n",
    "print(normal_x)"
   ]
  },
  {
   "cell_type": "code",
   "execution_count": 16,
   "metadata": {},
   "outputs": [
    {
     "name": "stdout",
     "output_type": "stream",
     "text": [
      "[array([2, 3])]\n"
     ]
    }
   ],
   "source": [
    "a = tf.constant([2,3])\n",
    "g = s.run([a])\n",
    "print(g)"
   ]
  },
  {
   "cell_type": "code",
   "execution_count": 2,
   "metadata": {},
   "outputs": [
    {
     "ename": "NameError",
     "evalue": "name 's' is not defined",
     "output_type": "error",
     "traceback": [
      "\u001b[1;31m---------------------------------------------------------------------------\u001b[0m",
      "\u001b[1;31mNameError\u001b[0m                                 Traceback (most recent call last)",
      "\u001b[1;32m<ipython-input-2-558f7e39a262>\u001b[0m in \u001b[0;36m<module>\u001b[1;34m()\u001b[0m\n\u001b[0;32m      3\u001b[0m \u001b[0mlogted_\u001b[0m \u001b[1;33m=\u001b[0m \u001b[0mtf\u001b[0m\u001b[1;33m.\u001b[0m\u001b[0mlog\u001b[0m\u001b[1;33m(\u001b[0m\u001b[0mdd\u001b[0m\u001b[1;33m)\u001b[0m\u001b[1;33m\u001b[0m\u001b[0m\n\u001b[0;32m      4\u001b[0m \u001b[0mmeand\u001b[0m \u001b[1;33m=\u001b[0m \u001b[0mtf\u001b[0m\u001b[1;33m.\u001b[0m\u001b[0mreduce_mean\u001b[0m\u001b[1;33m(\u001b[0m\u001b[0mlogted_\u001b[0m\u001b[1;33m)\u001b[0m\u001b[1;33m\u001b[0m\u001b[0m\n\u001b[1;32m----> 5\u001b[1;33m \u001b[0mssd\u001b[0m\u001b[1;33m,\u001b[0m \u001b[0mlogted\u001b[0m\u001b[1;33m,\u001b[0m \u001b[0mmea\u001b[0m \u001b[1;33m=\u001b[0m \u001b[0ms\u001b[0m\u001b[1;33m.\u001b[0m\u001b[0mrun\u001b[0m\u001b[1;33m(\u001b[0m\u001b[1;33m[\u001b[0m\u001b[0mdd\u001b[0m\u001b[1;33m,\u001b[0m \u001b[0mlogted_\u001b[0m\u001b[1;33m,\u001b[0m \u001b[0mmeand\u001b[0m\u001b[1;33m]\u001b[0m\u001b[1;33m)\u001b[0m\u001b[1;33m\u001b[0m\u001b[0m\n\u001b[0m\u001b[0;32m      6\u001b[0m \u001b[0mprint\u001b[0m\u001b[1;33m(\u001b[0m\u001b[0mssd\u001b[0m\u001b[1;33m,\u001b[0m \u001b[0mlogted\u001b[0m\u001b[1;33m,\u001b[0m \u001b[0mmea\u001b[0m\u001b[1;33m)\u001b[0m\u001b[1;33m\u001b[0m\u001b[0m\n",
      "\u001b[1;31mNameError\u001b[0m: name 's' is not defined"
     ]
    }
   ],
   "source": [
    "\n",
    "dd = tf.sigmoid(tf.constant([-.10,-20,200]))\n",
    "logted_ = tf.log(dd)\n",
    "meand = tf.reduce_mean(logted_)\n",
    "ssd, logted, mea = s.run([dd, logted_, meand])\n",
    "print(ssd, logted, mea)"
   ]
  },
  {
   "cell_type": "code",
   "execution_count": 34,
   "metadata": {},
   "outputs": [
    {
     "name": "stdout",
     "output_type": "stream",
     "text": [
      "[array([ 0.0110203], dtype=float32), array([ 0.0110203], dtype=float32)]\n"
     ]
    }
   ],
   "source": [
    "dd = tf.constant([.01102030239029302390])\n",
    "s = tf.Session()\n",
    "da = tf.clip_by_value(dd, clip_value_max=1-1e-2, clip_value_min=1e-2)\n",
    "print(s.run([dd, da]))"
   ]
  },
  {
   "cell_type": "code",
   "execution_count": null,
   "metadata": {
    "collapsed": true
   },
   "outputs": [],
   "source": []
  }
 ],
 "metadata": {
  "anaconda-cloud": {},
  "kernelspec": {
   "display_name": "Python [conda root]",
   "language": "python",
   "name": "conda-root-py"
  },
  "language_info": {
   "codemirror_mode": {
    "name": "ipython",
    "version": 3
   },
   "file_extension": ".py",
   "mimetype": "text/x-python",
   "name": "python",
   "nbconvert_exporter": "python",
   "pygments_lexer": "ipython3",
   "version": "3.5.2"
  }
 },
 "nbformat": 4,
 "nbformat_minor": 2
}

{
 "cells": [
  {
   "cell_type": "code",
   "execution_count": 1,
   "metadata": {},
   "outputs": [],
   "source": [
    "import tensorflow as tf\n",
    "import pandas as pd\n",
    "import numpy as np\n",
    "from sklearn import preprocessing"
   ]
  },
  {
   "cell_type": "code",
   "execution_count": 2,
   "metadata": {},
   "outputs": [
    {
     "data": {
      "text/plain": [
       "[array([[1, 0, 2, 5]], dtype=int64), array([[1, 0, 2, 3, 3, 3]], dtype=int64)]"
      ]
     },
     "execution_count": 2,
     "metadata": {},
     "output_type": "execute_result"
    }
   ],
   "source": [
    "y_one_hot = [[[0, 1, 0, 0],   # i 1\n",
    "              [1, 0, 0, 0],   # h 0\n",
    "              [0, 0, 1, 0],   # e 2\n",
    "              [0, 0, 0, 3],   # l 3\n",
    "              [0, 0, 0, 4],   # l 3\n",
    "              [0, 0, 0, 5]]]  # o 4\n",
    "\n",
    "argtest = tf.argmax(y_one_hot,1)\n",
    "argtest_2 = tf.argmax(y_one_hot,2)\n",
    "s = tf.Session()\n",
    "s.run([argtest, argtest_2])"
   ]
  },
  {
   "cell_type": "code",
   "execution_count": 10,
   "metadata": {},
   "outputs": [],
   "source": [
    "t = tf.nn.embedding_lookup(params=y_one_hot, ids=[[0],[4]])\n",
    "# tf.identity()\n",
    "# tf.argmax()\n",
    "t = tf.reduce_max([2,31,4,5])\n",
    "# tf.sequence_mask()\n",
    "# s.run(t)"
   ]
  },
  {
   "cell_type": "code",
   "execution_count": 62,
   "metadata": {},
   "outputs": [
    {
     "name": "stdout",
     "output_type": "stream",
     "text": [
      "Tensor(\"Tile_9:0\", shape=(10, 768), dtype=int32)\n"
     ]
    }
   ],
   "source": [
    "from tensorflow.python.util import nest\n",
    "tiled = tf.tile([[22,2,3]],(10,nest.flatten([256])[0]))\n",
    "print(tiled)"
   ]
  },
  {
   "cell_type": "code",
   "execution_count": 75,
   "metadata": {},
   "outputs": [
    {
     "data": {
      "text/plain": [
       "<tf.Tensor 'Tile_19:0' shape=(3, 6) dtype=int32>"
      ]
     },
     "execution_count": 75,
     "metadata": {},
     "output_type": "execute_result"
    }
   ],
   "source": [
    "tf.tile([[2,1,3]],[3,2])"
   ]
  },
  {
   "cell_type": "code",
   "execution_count": 40,
   "metadata": {},
   "outputs": [
    {
     "name": "stdout",
     "output_type": "stream",
     "text": [
      "Tensor(\"Tile_8:0\", shape=(10, 768), dtype=int32)\n"
     ]
    }
   ],
   "source": [
    "nest_pack_sequence = nest.pack_sequence_as(structure=256, flat_sequence=[tiled])\n",
    "print(nest_pack_sequence)"
   ]
  },
  {
   "cell_type": "code",
   "execution_count": 46,
   "metadata": {},
   "outputs": [
    {
     "name": "stdout",
     "output_type": "stream",
     "text": [
      "Tensor(\"ExpandDims_3:0\", shape=(10, 1, 768), dtype=int32)\n"
     ]
    }
   ],
   "source": [
    "tf_expanded_dims = tf.expand_dims(nest_pack_sequence,1)\n",
    "print(tf_expanded_dims)"
   ]
  },
  {
   "cell_type": "code",
   "execution_count": 44,
   "metadata": {
    "collapsed": true
   },
   "outputs": [],
   "source": [
    "from tensorflow.python.ops.gen_array_ops import _concat_v2 as concat_v2"
   ]
  },
  {
   "cell_type": "code",
   "execution_count": 61,
   "metadata": {},
   "outputs": [
    {
     "data": {
      "text/plain": [
       "<tf.Tensor 'ConcatV2_3:0' shape=(10, 2, 768) dtype=int32>"
      ]
     },
     "execution_count": 61,
     "metadata": {},
     "output_type": "execute_result"
    }
   ],
   "source": [
    "tf_rand_normed = tf.random_uniform([10,1,768], maxval=10, dtype=tf.int32)\n",
    "concat_v2([tf_expanded_dims, tf_rand_normed], 1)\n",
    "# tf.constant()\n"
   ]
  },
  {
   "cell_type": "code",
   "execution_count": null,
   "metadata": {
    "collapsed": true
   },
   "outputs": [],
   "source": []
  },
  {
   "cell_type": "code",
   "execution_count": null,
   "metadata": {
    "collapsed": true
   },
   "outputs": [],
   "source": []
  },
  {
   "cell_type": "code",
   "execution_count": null,
   "metadata": {
    "collapsed": true
   },
   "outputs": [],
   "source": []
  },
  {
   "cell_type": "code",
   "execution_count": 10,
   "metadata": {},
   "outputs": [
    {
     "name": "stdout",
     "output_type": "stream",
     "text": [
      "[[ 0.1   0.3   0.5   0.9 ]\n",
      " [ 0.01  0.03  0.1   0.09]]\n",
      "[[ 0.16838508  0.205666    0.25120102  0.37474789]\n",
      " [ 0.23822781  0.24304033  0.26066275  0.25806911]]\n",
      "[3 2]\n"
     ]
    }
   ],
   "source": [
    "a = tf.constant(np.array([[.1,.3,.5,.9],\n",
    "                          [.01,.03,.10,.09]\n",
    "                         ]))\n",
    "s = tf.Session()\n",
    "b = tf.nn.softmax(a)\n",
    "argmxtext = tf.arg_max(a,1)\n",
    "argmxtext = tf.argmax(a,1)\n",
    "before_softmax, after_softmax, argm = s.run([a,b, argmxtext])\n",
    "print(before_softmax)\n",
    "print(after_softmax)\n",
    "print(argm)"
   ]
  },
  {
   "cell_type": "code",
   "execution_count": 8,
   "metadata": {},
   "outputs": [
    {
     "name": "stdout",
     "output_type": "stream",
     "text": [
      "1.8 0.45\n"
     ]
    }
   ],
   "source": [
    "c = tf.reduce_sum(a)\n",
    "d = tf.reduce_mean(a)\n",
    "reduced_sum, reduce_mean  = s.run([c,d])\n",
    "print(reduced_sum, reduce_mean)"
   ]
  },
  {
   "cell_type": "code",
   "execution_count": 10,
   "metadata": {},
   "outputs": [
    {
     "name": "stdout",
     "output_type": "stream",
     "text": [
      "[  4   5 505] [  6 508]\n"
     ]
    }
   ],
   "source": [
    "x = [[1,2,3],[3,3,502]]\n",
    "e = tf.reduce_sum(x, axis=0)\n",
    "f = tf.reduce_sum(x, axis=1)\n",
    "row_sum, column_sum = s.run([e,f])\n",
    "print(row_sum, column_sum)"
   ]
  },
  {
   "cell_type": "code",
   "execution_count": 11,
   "metadata": {},
   "outputs": [
    {
     "name": "stdout",
     "output_type": "stream",
     "text": [
      "[[ 0.26726124  0.53452248  0.80178373]\n",
      " [ 0.00597588  0.00597588  0.99996429]]\n"
     ]
    }
   ],
   "source": [
    "normal_x = preprocessing.normalize(x)\n",
    "print(normal_x)"
   ]
  },
  {
   "cell_type": "code",
   "execution_count": 16,
   "metadata": {},
   "outputs": [
    {
     "name": "stdout",
     "output_type": "stream",
     "text": [
      "[array([2, 3])]\n"
     ]
    }
   ],
   "source": [
    "a = tf.constant([2,3])\n",
    "g = s.run([a])\n",
    "print(g)"
   ]
  },
  {
   "cell_type": "code",
   "execution_count": 2,
   "metadata": {},
   "outputs": [
    {
     "ename": "NameError",
     "evalue": "name 's' is not defined",
     "output_type": "error",
     "traceback": [
      "\u001b[1;31m---------------------------------------------------------------------------\u001b[0m",
      "\u001b[1;31mNameError\u001b[0m                                 Traceback (most recent call last)",
      "\u001b[1;32m<ipython-input-2-558f7e39a262>\u001b[0m in \u001b[0;36m<module>\u001b[1;34m()\u001b[0m\n\u001b[0;32m      3\u001b[0m \u001b[0mlogted_\u001b[0m \u001b[1;33m=\u001b[0m \u001b[0mtf\u001b[0m\u001b[1;33m.\u001b[0m\u001b[0mlog\u001b[0m\u001b[1;33m(\u001b[0m\u001b[0mdd\u001b[0m\u001b[1;33m)\u001b[0m\u001b[1;33m\u001b[0m\u001b[0m\n\u001b[0;32m      4\u001b[0m \u001b[0mmeand\u001b[0m \u001b[1;33m=\u001b[0m \u001b[0mtf\u001b[0m\u001b[1;33m.\u001b[0m\u001b[0mreduce_mean\u001b[0m\u001b[1;33m(\u001b[0m\u001b[0mlogted_\u001b[0m\u001b[1;33m)\u001b[0m\u001b[1;33m\u001b[0m\u001b[0m\n\u001b[1;32m----> 5\u001b[1;33m \u001b[0mssd\u001b[0m\u001b[1;33m,\u001b[0m \u001b[0mlogted\u001b[0m\u001b[1;33m,\u001b[0m \u001b[0mmea\u001b[0m \u001b[1;33m=\u001b[0m \u001b[0ms\u001b[0m\u001b[1;33m.\u001b[0m\u001b[0mrun\u001b[0m\u001b[1;33m(\u001b[0m\u001b[1;33m[\u001b[0m\u001b[0mdd\u001b[0m\u001b[1;33m,\u001b[0m \u001b[0mlogted_\u001b[0m\u001b[1;33m,\u001b[0m \u001b[0mmeand\u001b[0m\u001b[1;33m]\u001b[0m\u001b[1;33m)\u001b[0m\u001b[1;33m\u001b[0m\u001b[0m\n\u001b[0m\u001b[0;32m      6\u001b[0m \u001b[0mprint\u001b[0m\u001b[1;33m(\u001b[0m\u001b[0mssd\u001b[0m\u001b[1;33m,\u001b[0m \u001b[0mlogted\u001b[0m\u001b[1;33m,\u001b[0m \u001b[0mmea\u001b[0m\u001b[1;33m)\u001b[0m\u001b[1;33m\u001b[0m\u001b[0m\n",
      "\u001b[1;31mNameError\u001b[0m: name 's' is not defined"
     ]
    }
   ],
   "source": [
    "\n",
    "dd = tf.sigmoid(tf.constant([-.10,-20,200]))\n",
    "logted_ = tf.log(dd)\n",
    "meand = tf.reduce_mean(logted_)\n",
    "ssd, logted, mea = s.run([dd, logted_, meand])\n",
    "print(ssd, logted, mea)"
   ]
  },
  {
   "cell_type": "code",
   "execution_count": 34,
   "metadata": {},
   "outputs": [
    {
     "name": "stdout",
     "output_type": "stream",
     "text": [
      "[array([ 0.0110203], dtype=float32), array([ 0.0110203], dtype=float32)]\n"
     ]
    }
   ],
   "source": [
    "dd = tf.constant([.01102030239029302390])\n",
    "s = tf.Session()\n",
    "da = tf.clip_by_value(dd, clip_value_max=1-1e-2, clip_value_min=1e-2)\n",
    "print(s.run([dd, da]))"
   ]
  },
  {
   "cell_type": "code",
   "execution_count": null,
   "metadata": {
    "collapsed": true
   },
   "outputs": [],
   "source": []
  }
 ],
 "metadata": {
  "anaconda-cloud": {},
  "kernelspec": {
   "display_name": "Python [conda root]",
   "language": "python",
   "name": "conda-root-py"
  }
 },
 "nbformat": 4,
 "nbformat_minor": 2
}

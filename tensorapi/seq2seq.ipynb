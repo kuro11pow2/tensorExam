{
 "cells": [
  {
   "cell_type": "code",
   "execution_count": 8,
   "metadata": {},
   "outputs": [
    {
     "data": {
      "text/plain": [
       "<tf.Tensor 'fully_connected/Relu:0' shape=(3, 10) dtype=float32>"
      ]
     },
     "execution_count": 8,
     "metadata": {},
     "output_type": "execute_result"
    }
   ],
   "source": [
    "import tensorflow as tf\n",
    "import numpy as np\n",
    "from sklearn.model_selection import train_test_split\n",
    "tf.reset_default_graph()\n",
    "tf.set_random_seed(777)  # reproducibility\n",
    "\n",
    "idx2char = ['h', 'i', 'e', 'l', 'o']\n",
    "# Teach hello: hihell -> ihello\n",
    "x_data = [[0, 1, 0, 2, 3, 3]]   # hihell\n",
    "x_one_hot = [[[1, 0, 0, 0, 0],   # h 0 \n",
    "              [0, 1, 0, 0, 0],   # i 1\n",
    "              [1, 0, 0, 0, 0],   # h 0\n",
    "              [0, 0, 1, 0, 0],   # e 2\n",
    "              [0, 0, 0, 1, 0],   # l 3\n",
    "              [0, 0, 0, 1, 0]]]  # l 3\n",
    "\n",
    "y_data = [[1, 0, 2, 3, 3, 4]]    # ihello\n",
    "y_one_hot = [[[0, 1, 0, 0, 0],   # i 1\n",
    "              [1, 0, 0, 0, 0],   # h 0\n",
    "              [0, 0, 1, 0, 0],   # e 2\n",
    "              [0, 0, 0, 1, 0],   # l 3\n",
    "              [0, 0, 0, 1, 0],   # l 3\n",
    "              [0, 0, 0, 0, 1]]]  # o 4\n",
    "\n",
    "inp = tf.random_normal([3, 4])\n",
    "attns = tf.random_normal([4, 2])\n",
    "tf.contrib.layers.fully_connected(tf.matmul(inp,attns),10)"
   ]
  },
  {
   "cell_type": "code",
   "execution_count": 8,
   "metadata": {},
   "outputs": [
    {
     "name": "stdout",
     "output_type": "stream",
     "text": [
      "Tensor(\"rnn/transpose:0\", shape=(1, 6, 10), dtype=float32) Tensor(\"rnn/while/Exit_2:0\", shape=(1, 10), dtype=float32) 10 10\n",
      "y_pred Tensor(\"Reshape_1:0\", shape=(1, 6, 5), dtype=float32)\n"
     ]
    }
   ],
   "source": [
    "input_dim = 5  # one-hot size\n",
    "hidden_size = 10  # output from the LSTM. 5 to directly predict one-hot\n",
    "output_dim = 5\n",
    "batch_size = 1   # one sentence\n",
    "sequence_length = 6  # |ihello| == 6\n",
    "\n",
    "X = tf.placeholder(tf.float32, [None, sequence_length, input_dim])  # X one-hot\n",
    "Y = tf.placeholder(tf.float32, [None, sequence_length, output_dim])  # Y one-hot\n",
    "\n",
    "cell = tf.contrib.rnn.BasicRNNCell(num_units=hidden_size)\n",
    "#cell = tf.contrib.rnn.GRUCell(num_units=hidden_size)\n",
    "#cell = tf.contrib.rnn.BasicLSTMCell(num_units=hidden_size)\n",
    "initial_state = cell.zero_state(batch_size, tf.float32)\n",
    "\n",
    "outputs, _states = tf.nn.dynamic_rnn(cell, X, initial_state=initial_state, dtype=tf.float32)\n",
    "\n",
    "print(outputs, _states, cell.output_size, cell.state_size)\n",
    "\n",
    "w = tf.Variable(tf.random_normal([hidden_size, output_dim]))\n",
    "b = tf.Variable(tf.random_normal([output_dim]))\n",
    "\n",
    "outputs = tf.reshape(outputs, [-1, hidden_size])\n",
    "y_pred = tf.nn.softmax(tf.matmul(outputs,w)+b)\n",
    "y_pred = tf.reshape(y_pred, [-1, sequence_length, output_dim])\n",
    "print('y_pred', y_pred)\n",
    "\n",
    "y_label_pred = tf.argmax(y_pred, 2)\n"
   ]
  },
  {
   "cell_type": "code",
   "execution_count": 3,
   "metadata": {
    "collapsed": true
   },
   "outputs": [],
   "source": [
    "loss = -tf.reduce_sum(Y*tf.log(y_pred), name = 'cross_entropy')\n",
    "train = tf.train.AdamOptimizer(learning_rate=0.1).minimize(loss)"
   ]
  },
  {
   "cell_type": "code",
   "execution_count": 17,
   "metadata": {},
   "outputs": [
    {
     "name": "stdout",
     "output_type": "stream",
     "text": [
      "lost: 13.7961 pred : [[4 0 2 3 3 4]] real_y [[[0, 1, 0, 0, 0], [1, 0, 0, 0, 0], [0, 0, 1, 0, 0], [0, 0, 0, 1, 0], [0, 0, 0, 1, 0], [0, 0, 0, 0, 1]]]\n",
      " prediction str:  ohello\n",
      "lost: 0.00132686 pred : [[1 0 2 3 3 4]] real_y [[[0, 1, 0, 0, 0], [1, 0, 0, 0, 0], [0, 0, 1, 0, 0], [0, 0, 0, 1, 0], [0, 0, 0, 1, 0], [0, 0, 0, 0, 1]]]\n",
      " prediction str:  ihello\n",
      "lost: 0.000774916 pred : [[1 0 2 3 3 4]] real_y [[[0, 1, 0, 0, 0], [1, 0, 0, 0, 0], [0, 0, 1, 0, 0], [0, 0, 0, 1, 0], [0, 0, 0, 1, 0], [0, 0, 0, 0, 1]]]\n",
      " prediction str:  ihello\n",
      "lost: 0.000507617 pred : [[1 0 2 3 3 4]] real_y [[[0, 1, 0, 0, 0], [1, 0, 0, 0, 0], [0, 0, 1, 0, 0], [0, 0, 0, 1, 0], [0, 0, 0, 1, 0], [0, 0, 0, 0, 1]]]\n",
      " prediction str:  ihello\n",
      "lost: 0.000357997 pred : [[1 0 2 3 3 4]] real_y [[[0, 1, 0, 0, 0], [1, 0, 0, 0, 0], [0, 0, 1, 0, 0], [0, 0, 0, 1, 0], [0, 0, 0, 1, 0], [0, 0, 0, 0, 1]]]\n",
      " prediction str:  ihello\n",
      "lost: 0.000265366 pred : [[1 0 2 3 3 4]] real_y [[[0, 1, 0, 0, 0], [1, 0, 0, 0, 0], [0, 0, 1, 0, 0], [0, 0, 0, 1, 0], [0, 0, 0, 1, 0], [0, 0, 0, 0, 1]]]\n",
      " prediction str:  ihello\n",
      "lost: 0.000204448 pred : [[1 0 2 3 3 4]] real_y [[[0, 1, 0, 0, 0], [1, 0, 0, 0, 0], [0, 0, 1, 0, 0], [0, 0, 0, 1, 0], [0, 0, 0, 1, 0], [0, 0, 0, 0, 1]]]\n",
      " prediction str:  ihello\n",
      "lost: 0.000161769 pred : [[1 0 2 3 3 4]] real_y [[[0, 1, 0, 0, 0], [1, 0, 0, 0, 0], [0, 0, 1, 0, 0], [0, 0, 0, 1, 0], [0, 0, 0, 1, 0], [0, 0, 0, 0, 1]]]\n",
      " prediction str:  ihello\n",
      "lost: 0.000130893 pred : [[1 0 2 3 3 4]] real_y [[[0, 1, 0, 0, 0], [1, 0, 0, 0, 0], [0, 0, 1, 0, 0], [0, 0, 0, 1, 0], [0, 0, 0, 1, 0], [0, 0, 0, 0, 1]]]\n",
      " prediction str:  ihello\n",
      "lost: 0.000108124 pred : [[1 0 2 3 3 4]] real_y [[[0, 1, 0, 0, 0], [1, 0, 0, 0, 0], [0, 0, 1, 0, 0], [0, 0, 0, 1, 0], [0, 0, 0, 1, 0], [0, 0, 0, 0, 1]]]\n",
      " prediction str:  ihello\n"
     ]
    }
   ],
   "source": [
    "feed_dict = {X:x_one_hot, Y:y_one_hot}\n",
    "sess = tf.Session()\n",
    "sess.run(tf.global_variables_initializer())\n",
    "for i in range(1000):\n",
    "    l, _ = sess.run([loss,train], feed_dict=feed_dict)\n",
    "    if i% 100==0:\n",
    "#         print('lost:', l)\n",
    "        predy, realy = sess.run([y_label_pred, y_pred], feed_dict={X:x_one_hot})\n",
    "        print('lost:', l, 'pred :',predy, 'real_y',y_one_hot)\n",
    "        \n",
    "        result_str = [idx2char[c] for c in np.squeeze(predy)]\n",
    "        print( \" prediction str: \" ,''.join(result_str))\n",
    "        \n",
    "    \n"
   ]
  }
 ],
 "metadata": {
  "anaconda-cloud": {},
  "kernelspec": {
   "display_name": "Python [conda root]",
   "language": "python",
   "name": "conda-root-py"
  },
  "language_info": {
   "codemirror_mode": {
    "name": "ipython",
    "version": 3
   },
   "file_extension": ".py",
   "mimetype": "text/x-python",
   "name": "python",
   "nbconvert_exporter": "python",
   "pygments_lexer": "ipython3",
   "version": "3.5.2"
  }
 },
 "nbformat": 4,
 "nbformat_minor": 2
}

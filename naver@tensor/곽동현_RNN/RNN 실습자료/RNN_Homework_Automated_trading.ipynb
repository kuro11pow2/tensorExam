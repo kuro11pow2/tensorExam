{
 "cells": [
  {
   "cell_type": "markdown",
   "metadata": {},
   "source": [
    "# 이더리움 시세 예측 with RNN\n",
    "이더리움은 비트코인과 같은 블록체인으로, 최근 엄청난 가격 폭등으로 이슈가 되고 있다. 이번 숙제에서는 이더리움의 가격을 예측하는 모델을 RNN으로 학습시켜본다."
   ]
  },
  {
   "cell_type": "markdown",
   "metadata": {},
   "source": [
    "<img src=\"images/news.png\" width=600 alt=\"hi\" class=\"inline\"/>"
   ]
  },
  {
   "cell_type": "markdown",
   "metadata": {},
   "source": [
    "\n",
    "![](images/eth.png)"
   ]
  },
  {
   "cell_type": "markdown",
   "metadata": {},
   "source": [
    "<img src=\"images/excel.png\" width=600 alt=\"hi\" class=\"inline\"/>\n",
    "\n",
    "- 제공되는 데이터는 미국의 가상화폐 거래소의 시세를 12/19/2016 @ 8:00pm (UTC) 를 기준으로 1800초(30분)마다 기록한 것이다.\n",
    "- 이를 학습하여, 다음 time step에서의 가격을 예측하는 sequential model을 RNN으로 학습해보자."
   ]
  },
  {
   "cell_type": "code",
   "execution_count": 2,
   "metadata": {
    "collapsed": true
   },
   "outputs": [],
   "source": [
    "import numpy as np\n",
    "from numpy import genfromtxt\n",
    "raw_data = genfromtxt('1800_recent.csv', delimiter=',', skip_header=1)"
   ]
  },
  {
   "cell_type": "code",
   "execution_count": 5,
   "metadata": {},
   "outputs": [
    {
     "name": "stdout",
     "output_type": "stream",
     "text": [
      "(8437, 6)\n",
      "[[  7.73181935e+00   7.64366106e+00   7.70923820e+00   7.64366106e+00\n",
      "    1.56108530e+02   2.03057873e+01]\n",
      " [  7.68999818e+00   7.63542000e+00   7.64000000e+00   7.68999818e+00\n",
      "    5.26239564e+01   6.88413339e+00]\n",
      " [  7.68999997e+00   7.63542011e+00   7.63643005e+00   7.68999985e+00\n",
      "    2.64346039e+00   3.43931810e-01]\n",
      " ..., \n",
      " [  3.70000000e+02   3.63577192e+02   3.66546740e+02   3.65353691e+02\n",
      "    1.45889692e+05   3.97810160e+02]\n",
      " [  3.71565000e+02   3.63913407e+02   3.65353691e+02   3.68400000e+02\n",
      "    1.61053736e+05   4.38938788e+02]\n",
      " [  3.70899930e+02   3.66000000e+02   3.69825698e+02   3.68144535e+02\n",
      "    9.56366389e+04   2.59342470e+02]]\n"
     ]
    }
   ],
   "source": [
    "print(raw_data.shape)\n",
    "print(raw_data)"
   ]
  },
  {
   "cell_type": "code",
   "execution_count": null,
   "metadata": {
    "collapsed": true
   },
   "outputs": [],
   "source": []
  }
 ],
 "metadata": {
  "anaconda-cloud": {},
  "kernelspec": {
   "display_name": "Python [conda root]",
   "language": "python",
   "name": "conda-root-py"
  },
  "language_info": {
   "codemirror_mode": {
    "name": "ipython",
    "version": 3
   },
   "file_extension": ".py",
   "mimetype": "text/x-python",
   "name": "python",
   "nbconvert_exporter": "python",
   "pygments_lexer": "ipython3",
   "version": "3.5.2"
  }
 },
 "nbformat": 4,
 "nbformat_minor": 1
}

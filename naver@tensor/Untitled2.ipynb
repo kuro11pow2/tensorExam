{
 "cells": [
  {
   "cell_type": "code",
   "execution_count": 1,
   "metadata": {},
   "outputs": [
    {
     "name": "stdout",
     "output_type": "stream",
     "text": [
      "Extracting MNIST-data/train-images-idx3-ubyte.gz\n",
      "Extracting MNIST-data/train-labels-idx1-ubyte.gz\n",
      "Extracting MNIST-data/t10k-images-idx3-ubyte.gz\n",
      "Extracting MNIST-data/t10k-labels-idx1-ubyte.gz\n"
     ]
    }
   ],
   "source": [
    "from tensorflow.examples.tutorials.mnist import input_data\n",
    "mnist = input_data.read_data_sets(\"MNIST-data/\", one_hot=True)"
   ]
  },
  {
   "cell_type": "code",
   "execution_count": 2,
   "metadata": {
    "collapsed": true
   },
   "outputs": [],
   "source": [
    "import tensorflow as tf"
   ]
  },
  {
   "cell_type": "code",
   "execution_count": 3,
   "metadata": {
    "collapsed": true
   },
   "outputs": [],
   "source": [
    "x = tf.placeholder(tf.float32, [None, 784])\n",
    "y_ = tf.placeholder(tf.float32,[None, 10])\n",
    "\n",
    "W = tf.Variable(tf.random_normal([784, 100]))\n",
    "b = tf.Variable(tf.random_normal([100]))\n",
    "\n",
    "layer = tf.nn.relu(tf.matmul(x,W)+ b)\n",
    "\n",
    "W_2 = tf.Variable(tf.random_normal([100,10]))\n",
    "b_2 = tf.Variable(tf.random_normal([10]))\n",
    "\n",
    "\n",
    "hypothesis = tf.matmul(layer,W_2)+ b_2\n",
    "\n",
    "\n",
    "# y = tf.clip_by_value(layer_2, clip_value_min=1e-7, clip_value_max=1-1e-7)\n",
    "\n",
    "cross_entropy = tf.reduce_mean(tf.nn.softmax_cross_entropy_with_logits (logits=hypothesis, labels=y_))\n",
    "train_step = tf.train.AdamOptimizer(0.0001).minimize(cross_entropy)\n",
    "\n",
    "correct_prediction = tf.equal(tf.argmax(hypothesis,1), tf.argmax(y_,1))\n",
    "accuracy = tf.reduce_mean(tf.cast(correct_prediction, tf.float32))"
   ]
  },
  {
   "cell_type": "code",
   "execution_count": 5,
   "metadata": {
    "collapsed": true
   },
   "outputs": [],
   "source": [
    "init = tf.global_variables_initializer()\n",
    "sess = tf.Session()\n",
    "sess.run(init)"
   ]
  },
  {
   "cell_type": "code",
   "execution_count": 8,
   "metadata": {
    "scrolled": true
   },
   "outputs": [
    {
     "name": "stdout",
     "output_type": "stream",
     "text": [
      "[0.58350003]\n",
      "[0.61369997]\n",
      "[0.63459998]\n",
      "[0.65750003]\n",
      "[0.67400002]\n",
      "[0.68510002]\n",
      "[0.69840002]\n",
      "[0.71109998]\n",
      "[0.72170001]\n",
      "[0.73189998]\n",
      "[0.73949999]\n",
      "[0.7475]\n",
      "[0.75309998]\n",
      "[0.7597]\n",
      "[0.76609999]\n",
      "[0.77179998]\n",
      "[0.77590001]\n",
      "[0.7809]\n",
      "[0.78640002]\n",
      "[0.7895]\n",
      "[0.7942]\n",
      "[0.79799998]\n",
      "[0.8017]\n",
      "[0.80470002]\n",
      "[0.80659997]\n",
      "[0.80949998]\n",
      "[0.81089997]\n",
      "[0.81480002]\n",
      "[0.81720001]\n",
      "[0.81959999]\n",
      "[0.82099998]\n",
      "[0.82279998]\n",
      "[0.82529998]\n",
      "[0.8283]\n",
      "[0.8312]\n",
      "[0.83340001]\n",
      "[0.83359998]\n",
      "[0.83569998]\n",
      "[0.83850002]\n",
      "[0.84130001]\n",
      "[0.8423]\n",
      "[0.84469998]\n",
      "[0.84530002]\n",
      "[0.8477]\n",
      "[0.84920001]\n",
      "[0.8502]\n",
      "[0.85079998]\n",
      "[0.85140002]\n",
      "[0.85350001]\n",
      "[0.85519999]\n",
      "[0.8567]\n",
      "[0.85820001]\n",
      "[0.85960001]\n",
      "[0.8603]\n",
      "[0.86189997]\n",
      "[0.86150002]\n",
      "[0.86379999]\n",
      "[0.86500001]\n",
      "[0.86549997]\n",
      "[0.86610001]\n",
      "[0.86669999]\n",
      "[0.86690003]\n",
      "[0.8682]\n",
      "[0.86860001]\n",
      "[0.86940002]\n",
      "[0.86979997]\n",
      "[0.8721]\n",
      "[0.87180001]\n",
      "[0.87260002]\n",
      "[0.87360001]\n",
      "[0.87400001]\n",
      "[0.87489998]\n"
     ]
    }
   ],
   "source": [
    "for i in range(10000):\n",
    "    batch_xs, batch_ys = mnist.train.next_batch(100)\n",
    "    _,cos = sess.run([train_step, cross_entropy], feed_dict={x:batch_xs, y_: batch_ys})\n",
    "    \n",
    "    if i % 140 == 0:\n",
    "        print(sess.run([accuracy], feed_dict={x:mnist.test.images,y_:mnist.test.labels}))"
   ]
  },
  {
   "cell_type": "code",
   "execution_count": null,
   "metadata": {
    "collapsed": true
   },
   "outputs": [],
   "source": []
  },
  {
   "cell_type": "code",
   "execution_count": null,
   "metadata": {
    "collapsed": true
   },
   "outputs": [],
   "source": []
  }
 ],
 "metadata": {
  "anaconda-cloud": {},
  "kernelspec": {
   "display_name": "Python [conda root]",
   "language": "python",
   "name": "conda-root-py"
  },
  "language_info": {
   "codemirror_mode": {
    "name": "ipython",
    "version": 3
   },
   "file_extension": ".py",
   "mimetype": "text/x-python",
   "name": "python",
   "nbconvert_exporter": "python",
   "pygments_lexer": "ipython3",
   "version": "3.5.2"
  }
 },
 "nbformat": 4,
 "nbformat_minor": 2
}

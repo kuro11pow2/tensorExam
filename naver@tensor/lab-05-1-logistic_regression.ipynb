{
 "cells": [
  {
   "cell_type": "markdown",
   "metadata": {},
   "source": [
    "# Logistic Regression Classifier"
   ]
  },
  {
   "cell_type": "code",
   "execution_count": 1,
   "metadata": {
    "collapsed": true
   },
   "outputs": [],
   "source": [
    "import tensorflow as tf\n",
    "tf.set_random_seed(777)  # for reproducibility"
   ]
  },
  {
   "cell_type": "code",
   "execution_count": 2,
   "metadata": {
    "collapsed": true
   },
   "outputs": [],
   "source": [
    "x_data = [[1, 2],  # Dim: 6 X 2\n",
    "          [2, 3],\n",
    "          [3, 1],\n",
    "          [4, 3],\n",
    "          [5, 3],\n",
    "          [6, 2]]\n",
    "y_data = [[0],     # Dim: 6 X 1\n",
    "          [0],\n",
    "          [0],\n",
    "          [1],\n",
    "          [1],\n",
    "          [1]]\n",
    "# placeholders for a tensor that will be always fed.\n",
    "X = tf.placeholder(tf.float32, shape=[None, 2])\n",
    "Y = tf.placeholder(tf.float32, shape=[None, 1])"
   ]
  },
  {
   "cell_type": "code",
   "execution_count": 3,
   "metadata": {
    "collapsed": true
   },
   "outputs": [],
   "source": [
    "W = tf.Variable(tf.random_normal([2, 1]), name='weight')\n",
    "b = tf.Variable(tf.random_normal([1]), name='bias')"
   ]
  },
  {
   "cell_type": "markdown",
   "metadata": {},
   "source": [
    "#### Do It Yourself"
   ]
  },
  {
   "cell_type": "code",
   "execution_count": 8,
   "metadata": {},
   "outputs": [],
   "source": [
    "# Hypothesis using sigmoid: tf.div(1., 1. + tf.exp(tf.matmul(X, W) + b))\n",
    "hypothesis = tf.matmul(X, W) + b\n",
    "cost = -tf.reduce_mean(-tf.sigmoid(hypothesis))"
   ]
  },
  {
   "cell_type": "code",
   "execution_count": 9,
   "metadata": {
    "collapsed": true
   },
   "outputs": [],
   "source": [
    "train = tf.train.GradientDescentOptimizer(learning_rate=0.01).minimize(cost)\n",
    "\n",
    "# Accuracy computation\n",
    "# True if hypothesis>0.5 else False\n",
    "predicted = tf.cast(hypothesis > 0.5, dtype=tf.float32)\n",
    "accuracy = tf.reduce_mean(tf.cast(tf.equal(predicted, Y), dtype=tf.float32))"
   ]
  },
  {
   "cell_type": "code",
   "execution_count": 10,
   "metadata": {},
   "outputs": [
    {
     "name": "stdout",
     "output_type": "stream",
     "text": [
      "0 0.980259\n",
      "200 0.972033\n",
      "400 0.950368\n",
      "600 0.641201\n",
      "800 0.0587504\n",
      "1000 0.0313275\n",
      "1200 0.02163\n",
      "1400 0.0165967\n",
      "1600 0.0134968\n",
      "1800 0.0113893\n",
      "2000 0.00986067\n",
      "2200 0.00869971\n",
      "2400 0.00778725\n",
      "2600 0.00705073\n",
      "2800 0.00644344\n",
      "3000 0.00593394\n",
      "3200 0.0055002\n",
      "3400 0.00512642\n",
      "3600 0.00480089\n",
      "3800 0.00451479\n",
      "4000 0.00426132\n",
      "4200 0.00403517\n",
      "4400 0.00383212\n",
      "4600 0.00364878\n",
      "4800 0.00348242\n",
      "5000 0.00333075\n",
      "5200 0.0031919\n",
      "5400 0.00306431\n",
      "5600 0.00294666\n",
      "5800 0.00283781\n",
      "6000 0.00273682\n",
      "6200 0.00264285\n",
      "6400 0.0025552\n",
      "6600 0.00247324\n",
      "6800 0.00239644\n",
      "7000 0.00232432\n",
      "7200 0.00225646\n",
      "7400 0.0021925\n",
      "7600 0.0021321\n",
      "7800 0.00207499\n",
      "8000 0.00202088\n",
      "8200 0.00196956\n",
      "8400 0.00192081\n",
      "8600 0.00187444\n",
      "8800 0.00183028\n",
      "9000 0.00178817\n",
      "9200 0.00174798\n",
      "9400 0.00170958\n",
      "9600 0.00167285\n",
      "9800 0.00163767\n",
      "10000 0.00160396\n",
      "Hypothesis:  [[ -4.89416742]\n",
      " [ -7.77497292]\n",
      " [ -6.35541487]\n",
      " [-10.66967487]\n",
      " [-12.11702633]\n",
      " [-12.13092232]]\n",
      "Predicted (Y):  [[ 0.]\n",
      " [ 0.]\n",
      " [ 0.]\n",
      " [ 0.]\n",
      " [ 0.]\n",
      " [ 0.]]\n",
      "Accuracy:  0.5\n"
     ]
    }
   ],
   "source": [
    "# Launch graph\n",
    "with tf.Session() as sess:\n",
    "    # Initialize TensorFlow variables\n",
    "    sess.run(tf.global_variables_initializer())\n",
    "\n",
    "    for step in range(10001):\n",
    "        cost_val, _ = sess.run([cost, train], feed_dict={X: x_data, Y: y_data})\n",
    "        if step % 200 == 0:\n",
    "            print(step, cost_val)\n",
    "\n",
    "    # Accuracy report\n",
    "    h, c, a = sess.run([hypothesis, predicted, accuracy],\n",
    "                       feed_dict={X: x_data, Y: y_data})\n",
    "    print(\"Hypothesis: \", h)\n",
    "    print(\"Predicted (Y): \", c)\n",
    "    print(\"Accuracy: \", a)"
   ]
  },
  {
   "cell_type": "code",
   "execution_count": null,
   "metadata": {
    "collapsed": true
   },
   "outputs": [],
   "source": []
  }
 ],
 "metadata": {
  "anaconda-cloud": {},
  "kernelspec": {
   "display_name": "Python [conda root]",
   "language": "python",
   "name": "conda-root-py"
  },
  "language_info": {
   "codemirror_mode": {
    "name": "ipython",
    "version": 3
   },
   "file_extension": ".py",
   "mimetype": "text/x-python",
   "name": "python",
   "nbconvert_exporter": "python",
   "pygments_lexer": "ipython3",
   "version": "3.5.2"
  }
 },
 "nbformat": 4,
 "nbformat_minor": 1
}

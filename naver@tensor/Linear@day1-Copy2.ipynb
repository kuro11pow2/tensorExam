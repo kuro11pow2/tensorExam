{
 "cells": [
  {
   "cell_type": "markdown",
   "metadata": {},
   "source": [
    "## TensorFlow Linear"
   ]
  },
  {
   "cell_type": "code",
   "execution_count": 1,
   "metadata": {
    "collapsed": true
   },
   "outputs": [],
   "source": [
    "import tensorflow as tf\n",
    "import numpy as np\n",
    "\n",
    "csvFile = 'pima-indians-diabetes.csv'"
   ]
  },
  {
   "cell_type": "code",
   "execution_count": 2,
   "metadata": {
    "collapsed": true
   },
   "outputs": [],
   "source": [
    "def clip(x, vmin = 1e-7, vmax = 1-1e-7):\n",
    "    return tf.clip_by_value(x, clip_value_max= vmax, clip_value_min= vmin)"
   ]
  },
  {
   "cell_type": "code",
   "execution_count": 3,
   "metadata": {
    "collapsed": true
   },
   "outputs": [],
   "source": [
    "learning_rate = 0.01\n",
    "epoch = 1\n",
    "xy = np.loadtxt(csvFile, delimiter=',',dtype='float32')\n",
    "x_data = xy[:,:-1]\n",
    "y_data = xy[:,-1:]"
   ]
  },
  {
   "cell_type": "code",
   "execution_count": 4,
   "metadata": {},
   "outputs": [
    {
     "data": {
      "text/plain": [
       "array([   6.        ,  148.        ,   72.        ,   35.        ,\n",
       "          0.        ,   33.59999847,    0.62699997,   50.        ], dtype=float32)"
      ]
     },
     "execution_count": 4,
     "metadata": {},
     "output_type": "execute_result"
    }
   ],
   "source": [
    "x_data[0]"
   ]
  },
  {
   "cell_type": "code",
   "execution_count": 5,
   "metadata": {
    "collapsed": true
   },
   "outputs": [],
   "source": [
    "def normalize(array):\n",
    "    mu_x = np.mean(array)\n",
    "    sigma_x = 0\n",
    "    for i in range(len(array)):\n",
    "        sigma_x+=(array[i]-mu_x)*(array[i]-mu_x)\n",
    "    sigma_x/=len(array)\n",
    "    sigma_x = np.sqrt(sigma_x)\n",
    "    return (array-mu_x)/sigma_x"
   ]
  },
  {
   "cell_type": "code",
   "execution_count": 43,
   "metadata": {},
   "outputs": [
    {
     "name": "stdout",
     "output_type": "stream",
     "text": [
      "[[ 0.63994718 -0.84488505  1.23388028 ...,  0.34298074 -0.84488505\n",
      "  -0.84488505]\n",
      " [ 0.84832382 -1.1233964   1.94372392 ...,  0.00330089  0.1597866\n",
      "  -0.87301922]\n",
      " [ 0.14964075 -0.16054575 -0.26394126 ...,  0.14964075 -0.47073224\n",
      "   0.04624525]\n",
      " ..., \n",
      " [ 0.20401259 -0.6844219  -1.10325563 ..., -0.7351895  -0.24020453\n",
      "  -0.20212884]\n",
      " [ 0.46849188 -0.36506072  0.60439724 ..., -0.68519336 -0.37110099\n",
      "  -0.47378504]\n",
      " [ 1.42599535 -0.19067189 -0.10558418 ..., -0.27575964  1.17073214\n",
      "  -0.87137389]] [[ 0.63994718  0.84832382  0.14964075 ...,  0.20401259  0.46849188\n",
      "   1.42599535]\n",
      " [-0.84488505 -1.1233964  -0.16054575 ..., -0.6844219  -0.36506072\n",
      "  -0.19067189]\n",
      " [ 1.23388028  1.94372392 -0.26394126 ..., -1.10325563  0.60439724\n",
      "  -0.10558418]\n",
      " ..., \n",
      " [ 0.34298074  0.00330089  0.14964075 ..., -0.7351895  -0.68519336\n",
      "  -0.27575964]\n",
      " [-0.84488505  0.1597866  -0.47073224 ..., -0.24020453 -0.37110099\n",
      "   1.17073214]\n",
      " [-0.84488505 -0.87301922  0.04624525 ..., -0.20212884 -0.47378504\n",
      "  -0.87137389]]\n"
     ]
    }
   ],
   "source": [
    "x_data_transpose = np.transpose(x_data, [1, 0])\n",
    "for i in range(len(x_data_transpose)):\n",
    "    x_data_transpose[i] = normalize(x_data_transpose[i])\n",
    "x_data_normalize = np.transpose(x_data_transpose)\n",
    "print(x_data_transpose, x_data)"
   ]
  },
  {
   "cell_type": "code",
   "execution_count": 10,
   "metadata": {},
   "outputs": [
    {
     "data": {
      "text/plain": [
       "(768, 8)"
      ]
     },
     "execution_count": 10,
     "metadata": {},
     "output_type": "execute_result"
    }
   ],
   "source": [
    "x_data_normalize.shape"
   ]
  },
  {
   "cell_type": "code",
   "execution_count": 11,
   "metadata": {},
   "outputs": [
    {
     "data": {
      "text/plain": [
       "array([ 0.63994724,  0.84832382,  0.14964074,  0.9072699 , -0.69289052,\n",
       "        0.20401253,  0.46849191,  1.42599523], dtype=float32)"
      ]
     },
     "execution_count": 11,
     "metadata": {},
     "output_type": "execute_result"
    }
   ],
   "source": [
    "x_data_normalize[0]"
   ]
  },
  {
   "cell_type": "code",
   "execution_count": 13,
   "metadata": {
    "collapsed": true
   },
   "outputs": [],
   "source": [
    "train_data = {}\n",
    "test_data = {}\n",
    "train_data['input'] = x_data_normalize[:600]\n",
    "train_data['output'] = y_data[:600]\n",
    "test_data['input'] = x_data_normalize[600:]\n",
    "test_data['output'] = y_data[600:]"
   ]
  },
  {
   "cell_type": "code",
   "execution_count": 14,
   "metadata": {
    "collapsed": true
   },
   "outputs": [],
   "source": [
    "def print_shape(dataset):\n",
    "    print(\"input data shape : {}, output_data shape : {}\".format(dataset['input'].shape, dataset['output'].shape))"
   ]
  },
  {
   "cell_type": "code",
   "execution_count": 15,
   "metadata": {},
   "outputs": [
    {
     "name": "stdout",
     "output_type": "stream",
     "text": [
      "input data shape : (600, 8), output_data shape : (600, 1)\n",
      "input data shape : (168, 8), output_data shape : (168, 1)\n"
     ]
    }
   ],
   "source": [
    "print_shape(train_data)\n",
    "print_shape(test_data)"
   ]
  },
  {
   "cell_type": "code",
   "execution_count": 16,
   "metadata": {
    "collapsed": true
   },
   "outputs": [],
   "source": [
    "nfeatures = x_data.shape[1]\n",
    "nclasses = y_data.shape[1]\n",
    "# mean, var = tf.nn.moments(x=tf.constant(x_data[0]), axes=[0])"
   ]
  },
  {
   "cell_type": "code",
   "execution_count": 17,
   "metadata": {
    "collapsed": true
   },
   "outputs": [],
   "source": [
    "X = tf.placeholder(tf.float32, [None, nfeatures], name=\"input\")\n",
    "Y = tf.placeholder(tf.float32, [None, nclasses], name=\"output\")\n",
    "\n",
    "W = tf.Variable(tf.random_normal([nfeatures, nclasses]), name = 'weights')\n",
    "b = tf.Variable(tf.random_normal([nclasses], name='bias'))\n",
    "\n",
    "hypothesis = tf.sigmoid(tf.matmul(X, W) + b)"
   ]
  },
  {
   "cell_type": "code",
   "execution_count": 18,
   "metadata": {},
   "outputs": [
    {
     "data": {
      "text/plain": [
       "<tf.Tensor 'Sigmoid:0' shape=(?, 1) dtype=float32>"
      ]
     },
     "execution_count": 18,
     "metadata": {},
     "output_type": "execute_result"
    }
   ],
   "source": [
    "hypothesis"
   ]
  },
  {
   "cell_type": "code",
   "execution_count": 19,
   "metadata": {
    "collapsed": true
   },
   "outputs": [],
   "source": [
    "cost = -tf.reduce_mean(Y * tf.log(clip(hypothesis)) + (1 - Y) * tf.log(clip(1 - hypothesis)))\n",
    "train = tf.train.GradientDescentOptimizer(learning_rate=learning_rate).minimize(cost)"
   ]
  },
  {
   "cell_type": "code",
   "execution_count": 20,
   "metadata": {
    "collapsed": true,
    "scrolled": true
   },
   "outputs": [],
   "source": [
    "correct_prediction = tf.equal(tf.cast(hypothesis>0.5, tf.float32), Y)\n",
    "accuracy = tf.reduce_mean(tf.cast(correct_prediction, tf.float32))"
   ]
  },
  {
   "cell_type": "code",
   "execution_count": 21,
   "metadata": {
    "scrolled": false
   },
   "outputs": [
    {
     "name": "stdout",
     "output_type": "stream",
     "text": [
      "accuracy 0.4345238208770752\n",
      "0 step cost 1.2426375150680542 accuracy 0.4345238208770752\n",
      "500 step cost 0.5898807644844055 accuracy 0.7321428656578064\n",
      "1000 step cost 0.498197078704834 accuracy 0.7797619104385376\n",
      "1500 step cost 0.48015451431274414 accuracy 0.7797619104385376\n",
      "2000 step cost 0.4758443236351013 accuracy 0.7678571343421936\n",
      "2500 step cost 0.4746570885181427 accuracy 0.7678571343421936\n",
      "3000 step cost 0.47427690029144287 accuracy 0.7678571343421936\n",
      "3500 step cost 0.4741356372833252 accuracy 0.7678571343421936\n",
      "4000 step cost 0.4740765392780304 accuracy 0.773809552192688\n",
      "4500 step cost 0.47404998540878296 accuracy 0.7797619104385376\n",
      "5000 step cost 0.47403737902641296 accuracy 0.7797619104385376\n",
      "5500 step cost 0.4740314185619354 accuracy 0.7797619104385376\n",
      "6000 step cost 0.47402846813201904 accuracy 0.7797619104385376\n",
      "6500 step cost 0.4740268886089325 accuracy 0.7797619104385376\n",
      "7000 step cost 0.47402623295783997 accuracy 0.773809552192688\n",
      "7500 step cost 0.4740258753299713 accuracy 0.773809552192688\n",
      "8000 step cost 0.4740257263183594 accuracy 0.773809552192688\n",
      "8500 step cost 0.4740256667137146 accuracy 0.773809552192688\n",
      "9000 step cost 0.4740256369113922 accuracy 0.773809552192688\n",
      "9500 step cost 0.47402557730674744 accuracy 0.773809552192688\n",
      "10000 step cost 0.47402557730674744 accuracy 0.773809552192688\n",
      "10500 step cost 0.47402551770210266 accuracy 0.773809552192688\n",
      "11000 step cost 0.4740256369113922 accuracy 0.773809552192688\n",
      "11500 step cost 0.4740254580974579 accuracy 0.773809552192688\n",
      "12000 step cost 0.47402551770210266 accuracy 0.773809552192688\n",
      "12500 step cost 0.47402557730674744 accuracy 0.773809552192688\n",
      "13000 step cost 0.47402557730674744 accuracy 0.773809552192688\n",
      "13500 step cost 0.47402557730674744 accuracy 0.773809552192688\n",
      "14000 step cost 0.4740256667137146 accuracy 0.773809552192688\n",
      "14500 step cost 0.47402557730674744 accuracy 0.773809552192688\n",
      "15000 step cost 0.4740256369113922 accuracy 0.773809552192688\n",
      "15500 step cost 0.4740256369113922 accuracy 0.773809552192688\n",
      "16000 step cost 0.4740256369113922 accuracy 0.773809552192688\n",
      "16500 step cost 0.4740256369113922 accuracy 0.773809552192688\n",
      "17000 step cost 0.4740256369113922 accuracy 0.773809552192688\n",
      "17500 step cost 0.4740256369113922 accuracy 0.773809552192688\n",
      "18000 step cost 0.4740256369113922 accuracy 0.773809552192688\n",
      "18500 step cost 0.4740256369113922 accuracy 0.773809552192688\n",
      "19000 step cost 0.4740256369113922 accuracy 0.773809552192688\n",
      "19500 step cost 0.4740256369113922 accuracy 0.773809552192688\n",
      "20000 step cost 0.4740256369113922 accuracy 0.773809552192688\n",
      "20500 step cost 0.4740256369113922 accuracy 0.773809552192688\n",
      "21000 step cost 0.4740256369113922 accuracy 0.773809552192688\n",
      "21500 step cost 0.4740256369113922 accuracy 0.773809552192688\n",
      "22000 step cost 0.4740256369113922 accuracy 0.773809552192688\n",
      "22500 step cost 0.4740256369113922 accuracy 0.773809552192688\n",
      "23000 step cost 0.4740256369113922 accuracy 0.773809552192688\n",
      "23500 step cost 0.4740256369113922 accuracy 0.773809552192688\n",
      "24000 step cost 0.4740256369113922 accuracy 0.773809552192688\n",
      "24500 step cost 0.4740256369113922 accuracy 0.773809552192688\n",
      "25000 step cost 0.4740256369113922 accuracy 0.773809552192688\n",
      "25500 step cost 0.4740256369113922 accuracy 0.773809552192688\n",
      "26000 step cost 0.4740256369113922 accuracy 0.773809552192688\n",
      "26500 step cost 0.4740256369113922 accuracy 0.773809552192688\n",
      "27000 step cost 0.4740256369113922 accuracy 0.773809552192688\n",
      "27500 step cost 0.4740256369113922 accuracy 0.773809552192688\n",
      "28000 step cost 0.4740256369113922 accuracy 0.773809552192688\n",
      "28500 step cost 0.4740256369113922 accuracy 0.773809552192688\n",
      "29000 step cost 0.4740256369113922 accuracy 0.773809552192688\n",
      "29500 step cost 0.4740256369113922 accuracy 0.773809552192688\n",
      "30000 step cost 0.4740256369113922 accuracy 0.773809552192688\n",
      "30500 step cost 0.4740256369113922 accuracy 0.773809552192688\n",
      "31000 step cost 0.4740256369113922 accuracy 0.773809552192688\n",
      "31500 step cost 0.4740256369113922 accuracy 0.773809552192688\n",
      "32000 step cost 0.4740256369113922 accuracy 0.773809552192688\n",
      "32500 step cost 0.4740256369113922 accuracy 0.773809552192688\n",
      "33000 step cost 0.4740256369113922 accuracy 0.773809552192688\n",
      "33500 step cost 0.4740256369113922 accuracy 0.773809552192688\n",
      "34000 step cost 0.4740256369113922 accuracy 0.773809552192688\n",
      "34500 step cost 0.4740256369113922 accuracy 0.773809552192688\n",
      "35000 step cost 0.4740256369113922 accuracy 0.773809552192688\n",
      "35500 step cost 0.4740256369113922 accuracy 0.773809552192688\n",
      "36000 step cost 0.4740256369113922 accuracy 0.773809552192688\n",
      "36500 step cost 0.4740256369113922 accuracy 0.773809552192688\n",
      "37000 step cost 0.4740256369113922 accuracy 0.773809552192688\n",
      "37500 step cost 0.4740256369113922 accuracy 0.773809552192688\n",
      "38000 step cost 0.4740256369113922 accuracy 0.773809552192688\n",
      "38500 step cost 0.4740256369113922 accuracy 0.773809552192688\n",
      "39000 step cost 0.4740256369113922 accuracy 0.773809552192688\n",
      "39500 step cost 0.4740256369113922 accuracy 0.773809552192688\n",
      "40000 step cost 0.4740256369113922 accuracy 0.773809552192688\n",
      "40500 step cost 0.4740256369113922 accuracy 0.773809552192688\n",
      "41000 step cost 0.4740256369113922 accuracy 0.773809552192688\n",
      "41500 step cost 0.4740256369113922 accuracy 0.773809552192688\n",
      "42000 step cost 0.4740256369113922 accuracy 0.773809552192688\n",
      "42500 step cost 0.4740256369113922 accuracy 0.773809552192688\n",
      "43000 step cost 0.4740256369113922 accuracy 0.773809552192688\n",
      "43500 step cost 0.4740256369113922 accuracy 0.773809552192688\n",
      "44000 step cost 0.4740256369113922 accuracy 0.773809552192688\n",
      "44500 step cost 0.4740256369113922 accuracy 0.773809552192688\n",
      "45000 step cost 0.4740256369113922 accuracy 0.773809552192688\n",
      "45500 step cost 0.4740256369113922 accuracy 0.773809552192688\n",
      "46000 step cost 0.4740256369113922 accuracy 0.773809552192688\n",
      "46500 step cost 0.4740256369113922 accuracy 0.773809552192688\n",
      "47000 step cost 0.4740256369113922 accuracy 0.773809552192688\n",
      "47500 step cost 0.4740256369113922 accuracy 0.773809552192688\n",
      "48000 step cost 0.4740256369113922 accuracy 0.773809552192688\n",
      "48500 step cost 0.4740256369113922 accuracy 0.773809552192688\n",
      "49000 step cost 0.4740256369113922 accuracy 0.773809552192688\n",
      "49500 step cost 0.4740256369113922 accuracy 0.773809552192688\n",
      "50000 step cost 0.4740256369113922 accuracy 0.773809552192688\n",
      "50500 step cost 0.4740256369113922 accuracy 0.773809552192688\n",
      "51000 step cost 0.4740256369113922 accuracy 0.773809552192688\n",
      "51500 step cost 0.4740256369113922 accuracy 0.773809552192688\n",
      "52000 step cost 0.4740256369113922 accuracy 0.773809552192688\n",
      "52500 step cost 0.4740256369113922 accuracy 0.773809552192688\n",
      "53000 step cost 0.4740256369113922 accuracy 0.773809552192688\n",
      "53500 step cost 0.4740256369113922 accuracy 0.773809552192688\n",
      "54000 step cost 0.4740256369113922 accuracy 0.773809552192688\n",
      "54500 step cost 0.4740256369113922 accuracy 0.773809552192688\n",
      "55000 step cost 0.4740256369113922 accuracy 0.773809552192688\n",
      "55500 step cost 0.4740256369113922 accuracy 0.773809552192688\n",
      "56000 step cost 0.4740256369113922 accuracy 0.773809552192688\n",
      "56500 step cost 0.4740256369113922 accuracy 0.773809552192688\n",
      "57000 step cost 0.4740256369113922 accuracy 0.773809552192688\n",
      "57500 step cost 0.4740256369113922 accuracy 0.773809552192688\n",
      "58000 step cost 0.4740256369113922 accuracy 0.773809552192688\n",
      "58500 step cost 0.4740256369113922 accuracy 0.773809552192688\n",
      "59000 step cost 0.4740256369113922 accuracy 0.773809552192688\n",
      "59500 step cost 0.4740256369113922 accuracy 0.773809552192688\n",
      "60000 step cost 0.4740256369113922 accuracy 0.773809552192688\n",
      "60500 step cost 0.4740256369113922 accuracy 0.773809552192688\n",
      "61000 step cost 0.4740256369113922 accuracy 0.773809552192688\n",
      "61500 step cost 0.4740256369113922 accuracy 0.773809552192688\n",
      "62000 step cost 0.4740256369113922 accuracy 0.773809552192688\n",
      "62500 step cost 0.4740256369113922 accuracy 0.773809552192688\n",
      "63000 step cost 0.4740256369113922 accuracy 0.773809552192688\n",
      "63500 step cost 0.4740256369113922 accuracy 0.773809552192688\n",
      "64000 step cost 0.4740256369113922 accuracy 0.773809552192688\n",
      "64500 step cost 0.4740256369113922 accuracy 0.773809552192688\n",
      "65000 step cost 0.4740256369113922 accuracy 0.773809552192688\n",
      "65500 step cost 0.4740256369113922 accuracy 0.773809552192688\n"
     ]
    },
    {
     "name": "stdout",
     "output_type": "stream",
     "text": [
      "66000 step cost 0.4740256369113922 accuracy 0.773809552192688\n",
      "66500 step cost 0.4740256369113922 accuracy 0.773809552192688\n",
      "67000 step cost 0.4740256369113922 accuracy 0.773809552192688\n",
      "67500 step cost 0.4740256369113922 accuracy 0.773809552192688\n",
      "68000 step cost 0.4740256369113922 accuracy 0.773809552192688\n",
      "68500 step cost 0.4740256369113922 accuracy 0.773809552192688\n",
      "69000 step cost 0.4740256369113922 accuracy 0.773809552192688\n",
      "69500 step cost 0.4740256369113922 accuracy 0.773809552192688\n",
      "70000 step cost 0.4740256369113922 accuracy 0.773809552192688\n",
      "70500 step cost 0.4740256369113922 accuracy 0.773809552192688\n",
      "71000 step cost 0.4740256369113922 accuracy 0.773809552192688\n",
      "71500 step cost 0.4740256369113922 accuracy 0.773809552192688\n",
      "72000 step cost 0.4740256369113922 accuracy 0.773809552192688\n",
      "72500 step cost 0.4740256369113922 accuracy 0.773809552192688\n",
      "73000 step cost 0.4740256369113922 accuracy 0.773809552192688\n",
      "73500 step cost 0.4740256369113922 accuracy 0.773809552192688\n",
      "74000 step cost 0.4740256369113922 accuracy 0.773809552192688\n",
      "74500 step cost 0.4740256369113922 accuracy 0.773809552192688\n",
      "75000 step cost 0.4740256369113922 accuracy 0.773809552192688\n",
      "75500 step cost 0.4740256369113922 accuracy 0.773809552192688\n",
      "76000 step cost 0.4740256369113922 accuracy 0.773809552192688\n",
      "76500 step cost 0.4740256369113922 accuracy 0.773809552192688\n",
      "77000 step cost 0.4740256369113922 accuracy 0.773809552192688\n",
      "77500 step cost 0.4740256369113922 accuracy 0.773809552192688\n",
      "78000 step cost 0.4740256369113922 accuracy 0.773809552192688\n",
      "78500 step cost 0.4740256369113922 accuracy 0.773809552192688\n",
      "79000 step cost 0.4740256369113922 accuracy 0.773809552192688\n",
      "79500 step cost 0.4740256369113922 accuracy 0.773809552192688\n",
      "80000 step cost 0.4740256369113922 accuracy 0.773809552192688\n",
      "80500 step cost 0.4740256369113922 accuracy 0.773809552192688\n",
      "81000 step cost 0.4740256369113922 accuracy 0.773809552192688\n"
     ]
    },
    {
     "ename": "KeyboardInterrupt",
     "evalue": "",
     "output_type": "error",
     "traceback": [
      "\u001b[1;31m---------------------------------------------------------------------------\u001b[0m",
      "\u001b[1;31mKeyboardInterrupt\u001b[0m                         Traceback (most recent call last)",
      "\u001b[1;32m<ipython-input-21-6141e3951eea>\u001b[0m in \u001b[0;36m<module>\u001b[1;34m()\u001b[0m\n\u001b[0;32m      6\u001b[0m \u001b[1;32mfor\u001b[0m \u001b[0mi\u001b[0m \u001b[1;32min\u001b[0m \u001b[0mrange\u001b[0m\u001b[1;33m(\u001b[0m\u001b[0mepoch\u001b[0m\u001b[1;33m)\u001b[0m\u001b[1;33m:\u001b[0m\u001b[1;33m\u001b[0m\u001b[0m\n\u001b[0;32m      7\u001b[0m     \u001b[1;32mfor\u001b[0m \u001b[0mstep\u001b[0m \u001b[1;32min\u001b[0m \u001b[0mrange\u001b[0m\u001b[1;33m(\u001b[0m\u001b[1;36m100000\u001b[0m\u001b[1;33m)\u001b[0m\u001b[1;33m:\u001b[0m\u001b[1;33m\u001b[0m\u001b[0m\n\u001b[1;32m----> 8\u001b[1;33m         \u001b[0mopt\u001b[0m\u001b[1;33m,\u001b[0m \u001b[0mcc\u001b[0m \u001b[1;33m=\u001b[0m \u001b[0msess\u001b[0m\u001b[1;33m.\u001b[0m\u001b[0mrun\u001b[0m\u001b[1;33m(\u001b[0m\u001b[1;33m[\u001b[0m\u001b[0mtrain\u001b[0m\u001b[1;33m,\u001b[0m\u001b[0mcost\u001b[0m\u001b[1;33m]\u001b[0m\u001b[1;33m,\u001b[0m \u001b[0mfeed_dict\u001b[0m\u001b[1;33m=\u001b[0m\u001b[1;33m{\u001b[0m\u001b[0mX\u001b[0m\u001b[1;33m:\u001b[0m\u001b[0mtrain_data\u001b[0m\u001b[1;33m[\u001b[0m\u001b[1;34m'input'\u001b[0m\u001b[1;33m]\u001b[0m\u001b[1;33m,\u001b[0m \u001b[0mY\u001b[0m\u001b[1;33m:\u001b[0m\u001b[0mtrain_data\u001b[0m\u001b[1;33m[\u001b[0m\u001b[1;34m'output'\u001b[0m\u001b[1;33m]\u001b[0m\u001b[1;33m}\u001b[0m\u001b[1;33m)\u001b[0m\u001b[1;33m\u001b[0m\u001b[0m\n\u001b[0m\u001b[0;32m      9\u001b[0m         \u001b[1;32mif\u001b[0m \u001b[0mstep\u001b[0m\u001b[1;33m%\u001b[0m\u001b[1;36m500\u001b[0m \u001b[1;33m==\u001b[0m\u001b[1;36m0\u001b[0m\u001b[1;33m:\u001b[0m\u001b[1;33m\u001b[0m\u001b[0m\n\u001b[0;32m     10\u001b[0m             \u001b[0matemp\u001b[0m \u001b[1;33m=\u001b[0m \u001b[0msess\u001b[0m\u001b[1;33m.\u001b[0m\u001b[0mrun\u001b[0m\u001b[1;33m(\u001b[0m\u001b[0maccuracy\u001b[0m\u001b[1;33m,\u001b[0m \u001b[0mfeed_dict\u001b[0m \u001b[1;33m=\u001b[0m \u001b[1;33m{\u001b[0m\u001b[0mX\u001b[0m \u001b[1;33m:\u001b[0m \u001b[0mtest_data\u001b[0m\u001b[1;33m[\u001b[0m\u001b[1;34m'input'\u001b[0m\u001b[1;33m]\u001b[0m\u001b[1;33m,\u001b[0m \u001b[0mY\u001b[0m \u001b[1;33m:\u001b[0m \u001b[0mtest_data\u001b[0m\u001b[1;33m[\u001b[0m\u001b[1;34m'output'\u001b[0m\u001b[1;33m]\u001b[0m\u001b[1;33m}\u001b[0m\u001b[1;33m)\u001b[0m\u001b[1;33m\u001b[0m\u001b[0m\n",
      "\u001b[1;32mD:\\python3_5anaconda\\lib\\site-packages\\tensorflow\\python\\client\\session.py\u001b[0m in \u001b[0;36mrun\u001b[1;34m(self, fetches, feed_dict, options, run_metadata)\u001b[0m\n\u001b[0;32m    776\u001b[0m     \u001b[1;32mtry\u001b[0m\u001b[1;33m:\u001b[0m\u001b[1;33m\u001b[0m\u001b[0m\n\u001b[0;32m    777\u001b[0m       result = self._run(None, fetches, feed_dict, options_ptr,\n\u001b[1;32m--> 778\u001b[1;33m                          run_metadata_ptr)\n\u001b[0m\u001b[0;32m    779\u001b[0m       \u001b[1;32mif\u001b[0m \u001b[0mrun_metadata\u001b[0m\u001b[1;33m:\u001b[0m\u001b[1;33m\u001b[0m\u001b[0m\n\u001b[0;32m    780\u001b[0m         \u001b[0mproto_data\u001b[0m \u001b[1;33m=\u001b[0m \u001b[0mtf_session\u001b[0m\u001b[1;33m.\u001b[0m\u001b[0mTF_GetBuffer\u001b[0m\u001b[1;33m(\u001b[0m\u001b[0mrun_metadata_ptr\u001b[0m\u001b[1;33m)\u001b[0m\u001b[1;33m\u001b[0m\u001b[0m\n",
      "\u001b[1;32mD:\\python3_5anaconda\\lib\\site-packages\\tensorflow\\python\\client\\session.py\u001b[0m in \u001b[0;36m_run\u001b[1;34m(self, handle, fetches, feed_dict, options, run_metadata)\u001b[0m\n\u001b[0;32m    980\u001b[0m     \u001b[1;32mif\u001b[0m \u001b[0mfinal_fetches\u001b[0m \u001b[1;32mor\u001b[0m \u001b[0mfinal_targets\u001b[0m\u001b[1;33m:\u001b[0m\u001b[1;33m\u001b[0m\u001b[0m\n\u001b[0;32m    981\u001b[0m       results = self._do_run(handle, final_targets, final_fetches,\n\u001b[1;32m--> 982\u001b[1;33m                              feed_dict_string, options, run_metadata)\n\u001b[0m\u001b[0;32m    983\u001b[0m     \u001b[1;32melse\u001b[0m\u001b[1;33m:\u001b[0m\u001b[1;33m\u001b[0m\u001b[0m\n\u001b[0;32m    984\u001b[0m       \u001b[0mresults\u001b[0m \u001b[1;33m=\u001b[0m \u001b[1;33m[\u001b[0m\u001b[1;33m]\u001b[0m\u001b[1;33m\u001b[0m\u001b[0m\n",
      "\u001b[1;32mD:\\python3_5anaconda\\lib\\site-packages\\tensorflow\\python\\client\\session.py\u001b[0m in \u001b[0;36m_do_run\u001b[1;34m(self, handle, target_list, fetch_list, feed_dict, options, run_metadata)\u001b[0m\n\u001b[0;32m   1030\u001b[0m     \u001b[1;32mif\u001b[0m \u001b[0mhandle\u001b[0m \u001b[1;32mis\u001b[0m \u001b[1;32mNone\u001b[0m\u001b[1;33m:\u001b[0m\u001b[1;33m\u001b[0m\u001b[0m\n\u001b[0;32m   1031\u001b[0m       return self._do_call(_run_fn, self._session, feed_dict, fetch_list,\n\u001b[1;32m-> 1032\u001b[1;33m                            target_list, options, run_metadata)\n\u001b[0m\u001b[0;32m   1033\u001b[0m     \u001b[1;32melse\u001b[0m\u001b[1;33m:\u001b[0m\u001b[1;33m\u001b[0m\u001b[0m\n\u001b[0;32m   1034\u001b[0m       return self._do_call(_prun_fn, self._session, handle, feed_dict,\n",
      "\u001b[1;32mD:\\python3_5anaconda\\lib\\site-packages\\tensorflow\\python\\client\\session.py\u001b[0m in \u001b[0;36m_do_call\u001b[1;34m(self, fn, *args)\u001b[0m\n\u001b[0;32m   1037\u001b[0m   \u001b[1;32mdef\u001b[0m \u001b[0m_do_call\u001b[0m\u001b[1;33m(\u001b[0m\u001b[0mself\u001b[0m\u001b[1;33m,\u001b[0m \u001b[0mfn\u001b[0m\u001b[1;33m,\u001b[0m \u001b[1;33m*\u001b[0m\u001b[0margs\u001b[0m\u001b[1;33m)\u001b[0m\u001b[1;33m:\u001b[0m\u001b[1;33m\u001b[0m\u001b[0m\n\u001b[0;32m   1038\u001b[0m     \u001b[1;32mtry\u001b[0m\u001b[1;33m:\u001b[0m\u001b[1;33m\u001b[0m\u001b[0m\n\u001b[1;32m-> 1039\u001b[1;33m       \u001b[1;32mreturn\u001b[0m \u001b[0mfn\u001b[0m\u001b[1;33m(\u001b[0m\u001b[1;33m*\u001b[0m\u001b[0margs\u001b[0m\u001b[1;33m)\u001b[0m\u001b[1;33m\u001b[0m\u001b[0m\n\u001b[0m\u001b[0;32m   1040\u001b[0m     \u001b[1;32mexcept\u001b[0m \u001b[0merrors\u001b[0m\u001b[1;33m.\u001b[0m\u001b[0mOpError\u001b[0m \u001b[1;32mas\u001b[0m \u001b[0me\u001b[0m\u001b[1;33m:\u001b[0m\u001b[1;33m\u001b[0m\u001b[0m\n\u001b[0;32m   1041\u001b[0m       \u001b[0mmessage\u001b[0m \u001b[1;33m=\u001b[0m \u001b[0mcompat\u001b[0m\u001b[1;33m.\u001b[0m\u001b[0mas_text\u001b[0m\u001b[1;33m(\u001b[0m\u001b[0me\u001b[0m\u001b[1;33m.\u001b[0m\u001b[0mmessage\u001b[0m\u001b[1;33m)\u001b[0m\u001b[1;33m\u001b[0m\u001b[0m\n",
      "\u001b[1;32mD:\\python3_5anaconda\\lib\\site-packages\\tensorflow\\python\\client\\session.py\u001b[0m in \u001b[0;36m_run_fn\u001b[1;34m(session, feed_dict, fetch_list, target_list, options, run_metadata)\u001b[0m\n\u001b[0;32m   1019\u001b[0m         return tf_session.TF_Run(session, options,\n\u001b[0;32m   1020\u001b[0m                                  \u001b[0mfeed_dict\u001b[0m\u001b[1;33m,\u001b[0m \u001b[0mfetch_list\u001b[0m\u001b[1;33m,\u001b[0m \u001b[0mtarget_list\u001b[0m\u001b[1;33m,\u001b[0m\u001b[1;33m\u001b[0m\u001b[0m\n\u001b[1;32m-> 1021\u001b[1;33m                                  status, run_metadata)\n\u001b[0m\u001b[0;32m   1022\u001b[0m \u001b[1;33m\u001b[0m\u001b[0m\n\u001b[0;32m   1023\u001b[0m     \u001b[1;32mdef\u001b[0m \u001b[0m_prun_fn\u001b[0m\u001b[1;33m(\u001b[0m\u001b[0msession\u001b[0m\u001b[1;33m,\u001b[0m \u001b[0mhandle\u001b[0m\u001b[1;33m,\u001b[0m \u001b[0mfeed_dict\u001b[0m\u001b[1;33m,\u001b[0m \u001b[0mfetch_list\u001b[0m\u001b[1;33m)\u001b[0m\u001b[1;33m:\u001b[0m\u001b[1;33m\u001b[0m\u001b[0m\n",
      "\u001b[1;31mKeyboardInterrupt\u001b[0m: "
     ]
    }
   ],
   "source": [
    "sess = tf.Session()\n",
    "sess.run(tf.global_variables_initializer())\n",
    "atemp = sess.run(accuracy, feed_dict = {X : test_data['input'], Y : test_data['output']})\n",
    "print(\"accuracy {}\".format(atemp))\n",
    "\n",
    "for i in range(epoch):\n",
    "    for step in range(100000):\n",
    "        opt, cc = sess.run([train,cost], feed_dict={X:train_data['input'], Y:train_data['output']})\n",
    "        if step%500 ==0:\n",
    "            atemp = sess.run(accuracy, feed_dict = {X : test_data['input'], Y : test_data['output']})\n",
    "            print(\"{} step cost {} accuracy {}\".format(step, cc, atemp))"
   ]
  },
  {
   "cell_type": "code",
   "execution_count": 22,
   "metadata": {
    "collapsed": true
   },
   "outputs": [],
   "source": [
    "def run_hypothesis(input_):\n",
    "    return sess.run(hypothesis, feed_dict = {X : np.reshape(input_, [-1, nfeatures])})"
   ]
  },
  {
   "cell_type": "code",
   "execution_count": 35,
   "metadata": {},
   "outputs": [
    {
     "data": {
      "text/plain": [
       "array([[ 0.51050395]], dtype=float32)"
      ]
     },
     "execution_count": 35,
     "metadata": {},
     "output_type": "execute_result"
    }
   ],
   "source": [
    "run_hypothesis(test_data['input'][8])"
   ]
  },
  {
   "cell_type": "code",
   "execution_count": 36,
   "metadata": {},
   "outputs": [
    {
     "data": {
      "text/plain": [
       "array([ 0.], dtype=float32)"
      ]
     },
     "execution_count": 36,
     "metadata": {},
     "output_type": "execute_result"
    }
   ],
   "source": [
    "test_data['output'][8]"
   ]
  }
 ],
 "metadata": {
  "anaconda-cloud": {},
  "kernelspec": {
   "display_name": "Python [conda root]",
   "language": "python",
   "name": "conda-root-py"
  },
  "language_info": {
   "codemirror_mode": {
    "name": "ipython",
    "version": 3
   },
   "file_extension": ".py",
   "mimetype": "text/x-python",
   "name": "python",
   "nbconvert_exporter": "python",
   "pygments_lexer": "ipython3",
   "version": "3.5.2"
  }
 },
 "nbformat": 4,
 "nbformat_minor": 1
}

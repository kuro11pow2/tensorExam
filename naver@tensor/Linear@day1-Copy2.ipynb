{
 "cells": [
  {
   "cell_type": "markdown",
   "metadata": {},
   "source": [
    "## TensorFlow Linear"
   ]
  },
  {
   "cell_type": "code",
   "execution_count": 1,
   "metadata": {
    "collapsed": true
   },
   "outputs": [],
   "source": [
    "import tensorflow as tf\n",
    "import numpy as np\n",
    "\n",
    "csvFile = 'pima-indians-diabetes.csv'"
   ]
  },
  {
   "cell_type": "code",
   "execution_count": 2,
   "metadata": {
    "scrolled": false
   },
   "outputs": [
    {
     "name": "stdout",
     "output_type": "stream",
     "text": [
      "(768, 8) (768, 1)\n",
      "<class 'int'> 1\n"
     ]
    }
   ],
   "source": [
    "learning_rate = 0.005\n",
    "epoch = 1\n",
    "xy = np.loadtxt(csvFile, delimiter=',',dtype='float32')\n",
    "x_data = xy[:,:-1]\n",
    "y_data = xy[:,-1:]\n",
    "print(x_data.shape, y_data.shape)\n",
    "print(type(x_data.shape[1]), y_data.shape[1])\n",
    "features = x_data.shape[1]\n",
    "classes = y_data.shape[1]"
   ]
  },
  {
   "cell_type": "code",
   "execution_count": 5,
   "metadata": {
    "collapsed": true,
    "scrolled": true
   },
   "outputs": [],
   "source": [
    "X = tf.placeholder(tf.float32, [None, features], name=\"input\")\n",
    "Y = tf.placeholder(tf.float32, [None, classes], name=\"output\")\n",
    "\n",
    "W = tf.Variable(tf.random_normal([features, classes]))\n",
    "b = tf.Variable(tf.random_normal([classes], name='bias'))\n",
    "\n",
    "\n",
    "hypothesis = tf.nn.sigmoid(tf.matmul(X, W))\n",
    "\n",
    "ct = Y * tf.log(hypothesis) + (1 - Y) * tf.log(1 - hypothesis)\n",
    "\n",
    "cost = tf.reduce_mean(-tf.reduce_sum(Y*tf.log(hypothesis), axis=1))\n",
    "# cost = tf.reduce_mean(ct)\n",
    "\n",
    "\n",
    "optimizer = tf.train.GradientDescentOptimizer(learning_rate=learning_rate)\n",
    "train = optimizer.minimize(cost)\n",
    "correct_prediction = tf.equal(tf.arg_max(hypothesis,1), tf.arg_max(Y,1))\n",
    "accuracy = tf.reduce_mean(tf.cast(correct_prediction,tf.float32))"
   ]
  },
  {
   "cell_type": "code",
   "execution_count": 6,
   "metadata": {
    "scrolled": true
   },
   "outputs": [
    {
     "name": "stdout",
     "output_type": "stream",
     "text": [
      "0 0.0714476 1.0\n",
      "20 0.0646932 1.0\n",
      "40 0.0579387 1.0\n",
      "60 0.0511843 1.0\n",
      "80 0.0444299 1.0\n",
      "100 0.0376755 1.0\n",
      "120 0.0309217 1.0\n",
      "140 0.024174 1.0\n",
      "160 0.0175022 1.0\n",
      "180 0.0115279 1.0\n",
      "200 0.00768834 1.0\n",
      "220 0.00535498 1.0\n",
      "240 0.00355015 1.0\n",
      "260 0.00213317 1.0\n",
      "280 0.00121842 1.0\n",
      "300 0.000735685 1.0\n",
      "320 0.000489894 1.0\n",
      "340 0.000354991 1.0\n",
      "360 0.000273729 1.0\n",
      "380 0.000220742 1.0\n",
      "400 0.000183968 1.0\n",
      "420 0.000157177 1.0\n",
      "440 0.000136899 1.0\n",
      "460 0.000121073 1.0\n",
      "480 0.000108409 1.0\n",
      "500 9.80654e-05 1.0\n",
      "520 8.94695e-05 1.0\n",
      "540 8.22203e-05 1.0\n",
      "560 7.60302e-05 1.0\n",
      "580 7.0686e-05 1.0\n",
      "600 6.60276e-05 1.0\n",
      "620 6.1933e-05 1.0\n",
      "640 5.83068e-05 1.0\n",
      "660 5.50743e-05 1.0\n",
      "680 5.2175e-05 1.0\n",
      "700 4.95607e-05 1.0\n",
      "720 4.71914e-05 1.0\n",
      "740 4.50353e-05 1.0\n",
      "760 4.30647e-05 1.0\n",
      "780 4.12568e-05 1.0\n",
      "800 3.95925e-05 1.0\n",
      "820 3.80559e-05 1.0\n",
      "840 3.66324e-05 1.0\n",
      "860 3.53102e-05 1.0\n",
      "880 3.40789e-05 1.0\n",
      "900 3.29299e-05 1.0\n",
      "920 3.18549e-05 1.0\n",
      "940 3.08471e-05 1.0\n",
      "960 2.99003e-05 1.0\n",
      "980 2.90096e-05 1.0\n",
      "1000 2.81696e-05 1.0\n",
      "1020 2.73767e-05 1.0\n",
      "1040 2.66267e-05 1.0\n",
      "1060 2.59163e-05 1.0\n",
      "1080 2.52423e-05 1.0\n",
      "1100 2.46025e-05 1.0\n",
      "1120 2.39938e-05 1.0\n",
      "1140 2.34145e-05 1.0\n",
      "1160 2.2862e-05 1.0\n",
      "1180 2.2335e-05 1.0\n",
      "1200 2.18315e-05 1.0\n",
      "1220 2.13501e-05 1.0\n",
      "1240 2.08892e-05 1.0\n",
      "1260 2.04475e-05 1.0\n",
      "1280 2.0024e-05 1.0\n",
      "1300 1.96179e-05 1.0\n",
      "1320 1.92276e-05 1.0\n",
      "1340 1.88523e-05 1.0\n",
      "1360 1.84914e-05 1.0\n",
      "1380 1.81439e-05 1.0\n",
      "1400 1.78092e-05 1.0\n",
      "1420 1.74866e-05 1.0\n",
      "1440 1.71754e-05 1.0\n",
      "1460 1.68751e-05 1.0\n",
      "1480 1.65849e-05 1.0\n",
      "1500 1.63045e-05 1.0\n",
      "1520 1.60334e-05 1.0\n",
      "1540 1.57711e-05 1.0\n",
      "1560 1.5517e-05 1.0\n",
      "1580 1.52712e-05 1.0\n",
      "1600 1.50329e-05 1.0\n",
      "1620 1.48021e-05 1.0\n",
      "1640 1.4578e-05 1.0\n",
      "1660 1.43606e-05 1.0\n",
      "1680 1.41493e-05 1.0\n",
      "1700 1.39445e-05 1.0\n",
      "1720 1.37453e-05 1.0\n",
      "1740 1.35517e-05 1.0\n",
      "1760 1.33636e-05 1.0\n",
      "1780 1.31804e-05 1.0\n",
      "1800 1.30023e-05 1.0\n",
      "1820 1.28289e-05 1.0\n",
      "1840 1.266e-05 1.0\n",
      "1860 1.24955e-05 1.0\n",
      "1880 1.23353e-05 1.0\n",
      "1900 1.21791e-05 1.0\n",
      "1920 1.20266e-05 1.0\n",
      "1940 1.1878e-05 1.0\n",
      "1960 1.1733e-05 1.0\n",
      "1980 1.15914e-05 1.0\n",
      "2000 1.14533e-05 1.0\n"
     ]
    }
   ],
   "source": [
    "with tf.Session() as sess:\n",
    "    coord = tf.train.Coordinator()\n",
    "    threads = tf.train.start_queue_runners(coord=coord)\n",
    "    sess.run(tf.global_variables_initializer())\n",
    "    \n",
    "    for i in range(epoch):\n",
    "        for step in range(2001):\n",
    "            opt, cc = sess.run([train,cost], feed_dict={X:x_data, Y:y_data})\n",
    "    #         print(batch_xs.eval(),label.eval())\n",
    "            if step%20 ==0:\n",
    "                atemp = accuracy.eval({X:x_data, Y:y_data})\n",
    "                print(step, cc, atemp)\n",
    "    \n",
    "#     opt, cc,hy = sess.run([optimizer,cost, hypothesis], feed_dict={X:batch_xs.eval(), Y:label.eval()})\n",
    "#     print(batch_xs.eval(),W.eval(),hy)\n",
    "    coord.request_stop()\n",
    "    coord.join(threads)"
   ]
  }
 ],
 "metadata": {
  "anaconda-cloud": {},
  "kernelspec": {
   "display_name": "Python [conda root]",
   "language": "python",
   "name": "conda-root-py"
  },
  "language_info": {
   "codemirror_mode": {
    "name": "ipython",
    "version": 3
   },
   "file_extension": ".py",
   "mimetype": "text/x-python",
   "name": "python",
   "nbconvert_exporter": "python",
   "pygments_lexer": "ipython3",
   "version": "3.5.2"
  }
 },
 "nbformat": 4,
 "nbformat_minor": 2
}

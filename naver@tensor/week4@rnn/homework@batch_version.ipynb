{
 "cells": [
  {
   "cell_type": "code",
   "execution_count": 1,
   "metadata": {
    "collapsed": true
   },
   "outputs": [],
   "source": [
    "import tensorflow as tf\n",
    "import csv\n",
    "import numpy as np"
   ]
  },
  {
   "cell_type": "code",
   "execution_count": 2,
   "metadata": {
    "collapsed": true
   },
   "outputs": [],
   "source": [
    "filename_list = './1800_recent.csv'\n",
    "\n",
    "with open(filename_list, newline='') as csvfile:\n",
    "    rows = csv.DictReader(csvfile)\n",
    "    highs,lows,opens,closes,first_volmumes,second_volumes= [],[],[],[],[],[]\n",
    "    all_features = []\n",
    "    for row in rows:\n",
    "        high=row['high']\n",
    "        low = row['low']\n",
    "        open_price = row['open']\n",
    "        close_price = row['close']\n",
    "        first_vo = row['first_volume']\n",
    "        second_vo = row['second_volume']\n",
    "        features = high,low,open_price,close_price,first_vo,second_vo\n",
    "        all_features.append(features)\n",
    "#         highs.append(high)\n",
    "#         lows.append(low)\n",
    "#         opens.append(open_price)\n",
    "#         closes.append(close_price)\n",
    "#         first_volmumes.append(first_vo)\n",
    "#         second_volumes.append(second_vo)\n"
   ]
  },
  {
   "cell_type": "code",
   "execution_count": 3,
   "metadata": {},
   "outputs": [
    {
     "name": "stdout",
     "output_type": "stream",
     "text": [
      "[['7.73181935' '7.64366106' '7.7092382' '7.64366106' '156.1085297'\n",
      "  '20.30578733']\n",
      " ['7.68999818' '7.63542' '7.64' '7.68999818' '52.62395636' '6.88413339']\n",
      " ['7.68999997' '7.63542011' '7.63643005' '7.68999985' '2.64346039'\n",
      "  '0.34393181']\n",
      " ..., \n",
      " ['370' '363.5771921' '366.54674' '365.3536914' '145889.6918' '397.8101604']\n",
      " ['371.565' '363.9134065' '365.3536914' '368.4000001' '161053.7359'\n",
      "  '438.9387876']\n",
      " ['370.89993' '366' '369.825698' '368.1445349' '95636.63891' '259.3424703']]\n"
     ]
    }
   ],
   "source": [
    "from tensorflow.python.framework import ops,dtypes\n",
    "all_features = np.array(all_features)\n",
    "print(all_features)"
   ]
  },
  {
   "cell_type": "code",
   "execution_count": 10,
   "metadata": {},
   "outputs": [
    {
     "name": "stdout",
     "output_type": "stream",
     "text": [
      "Tensor(\"Const:0\", shape=(8437, 6), dtype=float32)\n"
     ]
    }
   ],
   "source": [
    "all_features = ops.convert_to_tensor(all_features, dtype=dtypes.float32)\n",
    "labels = ops.convert_to_tensor(all_features[:,3], dtype=dtypes.float32)\n",
    "print(all_features)\n",
    "train_input_queue = tf.train.slice_input_producer([all_features, labels])\n",
    "features = tf.train.shuffle_batch(tensors=[train_input_queue[0],train_input_queue[1]],batch_size=1,capacity=5000,\n",
    "                                 min_after_dequeue=100)\n"
   ]
  },
  {
   "cell_type": "code",
   "execution_count": 6,
   "metadata": {
    "collapsed": true
   },
   "outputs": [],
   "source": [
    "seq_length = 7\n",
    "data_dim=6\n",
    "hidden=10\n",
    "batch_size=1\n",
    "output_dim=1\n",
    "learning_rate=0.01\n",
    "iterations = 5000"
   ]
  },
  {
   "cell_type": "code",
   "execution_count": null,
   "metadata": {
    "collapsed": true
   },
   "outputs": [],
   "source": []
  }
 ],
 "metadata": {
  "anaconda-cloud": {},
  "kernelspec": {
   "display_name": "Python [conda root]",
   "language": "python",
   "name": "conda-root-py"
  },
  "language_info": {
   "codemirror_mode": {
    "name": "ipython",
    "version": 3
   },
   "file_extension": ".py",
   "mimetype": "text/x-python",
   "name": "python",
   "nbconvert_exporter": "python",
   "pygments_lexer": "ipython3",
   "version": "3.5.2"
  }
 },
 "nbformat": 4,
 "nbformat_minor": 2
}

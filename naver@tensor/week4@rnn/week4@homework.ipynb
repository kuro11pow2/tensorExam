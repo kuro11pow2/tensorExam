{
 "cells": [
  {
   "cell_type": "code",
   "execution_count": 1,
   "metadata": {},
   "outputs": [],
   "source": [
    "import tensorflow as tf\n",
    "import numpy as np\n",
    "from numpy import genfromtxt\n",
    "from sklearn import preprocessing\n",
    "raw_data = genfromtxt('1800_recent.csv', delimiter=',', skip_header=1)\n",
    "import matplotlib\n",
    "import matplotlib.pyplot as plt\n",
    "%matplotlib inline"
   ]
  },
  {
   "cell_type": "code",
   "execution_count": 2,
   "metadata": {},
   "outputs": [],
   "source": [
    "normalized_x = preprocessing.normalize(raw_data,axis=0)"
   ]
  },
  {
   "cell_type": "code",
   "execution_count": 3,
   "metadata": {},
   "outputs": [],
   "source": [
    "# print(normalized_x[0])\n",
    "# print(raw_data[0])\n",
    "# print(normalized_x[-1])\n",
    "# print(raw_data[-1])\n",
    "# print(normalized_x[-2])\n",
    "# print(raw_data[-2])"
   ]
  },
  {
   "cell_type": "code",
   "execution_count": 4,
   "metadata": {},
   "outputs": [],
   "source": [
    "# raw_data= raw_data[:,:4]\n",
    "# normalized_x = raw_data"
   ]
  },
  {
   "cell_type": "code",
   "execution_count": 5,
   "metadata": {},
   "outputs": [],
   "source": [
    "seq_length = 7\n",
    "data_dim=6\n",
    "hidden=10\n",
    "batch_size=1\n",
    "output_dim=1\n",
    "learning_rate=0.01\n",
    "iterations = 5000"
   ]
  },
  {
   "cell_type": "code",
   "execution_count": 6,
   "metadata": {},
   "outputs": [],
   "source": [
    "xy = normalized_x\n",
    "data_x = xy\n",
    "data_y = xy[:,[3]]\n",
    "\n",
    "train_size = int(len(data_y)*0.7)\n",
    "test_size = len(data_y)-train_size\n",
    "\n",
    "dataX=[]\n",
    "dataY=[]\n",
    "\n",
    "for i in range(0,len(data_y)-seq_length):\n",
    "    _x = data_x[i:i+seq_length]\n",
    "    _y = data_y[i+seq_length]\n",
    "#     print(_x, \"=> \",_y)\n",
    "    dataX.append(_x)\n",
    "    dataY.append(_y)\n",
    "\n"
   ]
  },
  {
   "cell_type": "code",
   "execution_count": 7,
   "metadata": {},
   "outputs": [],
   "source": [
    "trainX, testX = np.array(dataX[0:train_size]), np.array(dataX[train_size:len(dataX)])\n",
    "trainY, testY = np.array(dataY[0:train_size]), np.array(dataY[train_size:len(dataY)])\n",
    "\n",
    "X = tf.placeholder(tf.float32, [None, seq_length, data_dim])\n",
    "Y = tf.placeholder(tf.float32, [None, 1])\n",
    "\n",
    "# cell = tf.contrib.rnn.BasicLSTMCell(num_units=hidden, state_is_tuple=True, activation=tf.tanh)\n",
    "cell = tf.contrib.rnn.GRUCell(num_units=hidden, activation=tf.tanh)\n",
    "outputs, _states = tf.nn.dynamic_rnn(cell, X, dtype=tf.float32)"
   ]
  },
  {
   "cell_type": "code",
   "execution_count": 8,
   "metadata": {
    "collapsed": true
   },
   "outputs": [],
   "source": [
    "Y_pred = tf.contrib.layers.fully_connected(outputs[:,-1], output_dim, activation_fn=None)"
   ]
  },
  {
   "cell_type": "code",
   "execution_count": 9,
   "metadata": {
    "collapsed": true
   },
   "outputs": [],
   "source": [
    "loss = tf.reduce_sum(tf.square(Y_pred- Y))\n",
    "optimizer = tf.train.AdamOptimizer(learning_rate=learning_rate)\n",
    "train = optimizer.minimize(loss)"
   ]
  },
  {
   "cell_type": "code",
   "execution_count": 10,
   "metadata": {
    "collapsed": true
   },
   "outputs": [],
   "source": [
    "sess = tf.Session()\n",
    "init = tf.global_variables_initializer()\n",
    "sess.run(init)"
   ]
  },
  {
   "cell_type": "code",
   "execution_count": 11,
   "metadata": {
    "scrolled": false
   },
   "outputs": [
    {
     "name": "stdout",
     "output_type": "stream",
     "text": [
      "0 loss :  0.110291\n",
      "100 loss :  0.00550549\n",
      "200 loss :  0.000786774\n",
      "300 loss :  9.20545e-05\n",
      "400 loss :  4.54587e-05\n",
      "500 loss :  3.61248e-05\n",
      "600 loss :  3.00554e-05\n",
      "700 loss :  2.57006e-05\n",
      "800 loss :  2.26724e-05\n",
      "900 loss :  2.06132e-05\n",
      "1000 loss :  1.92151e-05\n",
      "1100 loss :  1.82439e-05\n",
      "1200 loss :  1.75387e-05\n",
      "1300 loss :  1.69969e-05\n",
      "1400 loss :  1.65578e-05\n",
      "1500 loss :  1.61872e-05\n",
      "1600 loss :  1.5866e-05\n",
      "1700 loss :  1.55836e-05\n",
      "1800 loss :  1.53333e-05\n",
      "1900 loss :  1.51107e-05\n",
      "2000 loss :  1.49121e-05\n",
      "2100 loss :  1.47349e-05\n",
      "2200 loss :  1.45766e-05\n",
      "2300 loss :  1.4435e-05\n",
      "2400 loss :  1.43085e-05\n",
      "2500 loss :  1.41953e-05\n",
      "2600 loss :  1.40941e-05\n",
      "2700 loss :  1.40037e-05\n",
      "2800 loss :  1.39231e-05\n",
      "2900 loss :  0.000169923\n",
      "3000 loss :  1.29959e-05\n",
      "3100 loss :  1.28862e-05\n",
      "3200 loss :  1.28312e-05\n",
      "3300 loss :  1.27915e-05\n",
      "3400 loss :  0.0811747\n",
      "3500 loss :  1.3032e-05\n",
      "3600 loss :  1.24931e-05\n",
      "3700 loss :  1.23417e-05\n",
      "3800 loss :  1.22747e-05\n",
      "3900 loss :  1.22337e-05\n",
      "4000 loss :  0.00270518\n",
      "4100 loss :  1.27207e-05\n",
      "4200 loss :  1.20598e-05\n",
      "4300 loss :  1.18608e-05\n",
      "4400 loss :  1.17801e-05\n",
      "4500 loss :  1.17381e-05\n",
      "4600 loss :  3.54932e-05\n",
      "4700 loss :  1.19453e-05\n",
      "4800 loss :  1.16016e-05\n",
      "4900 loss :  1.14787e-05\n"
     ]
    }
   ],
   "source": [
    "for i in range(iterations):\n",
    "    _,step_loss = sess.run([train,loss], feed_dict={X:trainX, Y:trainY})\n",
    "    \n",
    "    if i%100 == 0:\n",
    "        print(i, \"loss : \",step_loss)"
   ]
  },
  {
   "cell_type": "code",
   "execution_count": 12,
   "metadata": {
    "collapsed": true
   },
   "outputs": [],
   "source": [
    "targets = tf.placeholder(tf.float32, [None, 1])\n",
    "predictions = tf.placeholder(tf.float32, [None, 1])\n",
    "rmse = tf.sqrt(tf.reduce_mean(tf.square(targets- predictions)))"
   ]
  },
  {
   "cell_type": "code",
   "execution_count": 13,
   "metadata": {
    "collapsed": true
   },
   "outputs": [],
   "source": [
    "test_prediction = sess.run(Y_pred, feed_dict={X:testX})\n",
    "rmse_val = sess.run(rmse, feed_dict={targets:testY, predictions:test_prediction})"
   ]
  },
  {
   "cell_type": "code",
   "execution_count": 14,
   "metadata": {},
   "outputs": [
    {
     "name": "stdout",
     "output_type": "stream",
     "text": [
      "rmse : 0.000434807\n"
     ]
    }
   ],
   "source": [
    "print(\"rmse :\", rmse_val)"
   ]
  },
  {
   "cell_type": "code",
   "execution_count": 15,
   "metadata": {},
   "outputs": [
    {
     "data": {
      "image/png": "[encoded data removed]",
      "text/plain": [
       "<matplotlib.figure.Figure at 0x285b17d6ba8>"
      ]
     },
     "metadata": {},
     "output_type": "display_data"
    }
   ],
   "source": [
    " plt.plot(testY, label='real_data')\n",
    "plt.plot(test_prediction, label='prediction')\n",
    "plt.legend()\n",
    "plt.xlabel(\"Time period\")\n",
    "plt.ylabel(\"Stock Price\")\n",
    "plt.show()"
   ]
  },
  {
   "cell_type": "code",
   "execution_count": 16,
   "metadata": {},
   "outputs": [
    {
     "name": "stdout",
     "output_type": "stream",
     "text": [
      "[ 0.04173008]\n",
      "[ 0.04251934]\n"
     ]
    }
   ],
   "source": [
    "# testX.shape\n",
    "y = sess.run(Y_pred, feed_dict={X:testX})\n",
    "print(y[-2])\n",
    "print(testY[-2])\n"
   ]
  }
 ],
 "metadata": {
  "kernelspec": {
   "display_name": "Python [conda root]",
   "language": "python",
   "name": "conda-root-py"
  },
  "language_info": {
   "codemirror_mode": {
    "name": "ipython",
    "version": 3
   },
   "file_extension": ".py",
   "mimetype": "text/x-python",
   "name": "python",
   "nbconvert_exporter": "python",
   "pygments_lexer": "ipython3",
   "version": "3.6.1"
  }
 },
 "nbformat": 4,
 "nbformat_minor": 2
}

{
 "cells": [
  {
   "cell_type": "code",
   "execution_count": 7,
   "metadata": {},
   "outputs": [
    {
     "name": "stdout",
     "output_type": "stream",
     "text": [
      "Extracting MNIST_data/train-images-idx3-ubyte.gz\n",
      "Extracting MNIST_data/train-labels-idx1-ubyte.gz\n",
      "Extracting MNIST_data/t10k-images-idx3-ubyte.gz\n",
      "Extracting MNIST_data/t10k-labels-idx1-ubyte.gz\n"
     ]
    }
   ],
   "source": [
    "import tensorflow as tf\n",
    "\n",
    "tf.set_random_seed(777)  # reproducibility\n",
    "\n",
    "# Check out https://www.tensorflow.org/get_started/mnist/beginners for\n",
    "# more information about the mnist dataset\n",
    "from tensorflow.examples.tutorials.mnist import input_data\n",
    "mnist = input_data.read_data_sets(\"MNIST_data/\", one_hot=True)\n",
    "\n",
    "X = tf.placeholder(tf.float32, [None, 784])\n",
    "Y = tf.placeholder(tf.float32, [None, 10])"
   ]
  },
  {
   "cell_type": "code",
   "execution_count": 8,
   "metadata": {
    "collapsed": true
   },
   "outputs": [],
   "source": [
    "w1 = tf.Variable(tf.truncated_normal([784, 30]))\n",
    "b1 = tf.Variable(tf.truncated_normal([30]))\n",
    "w2 = tf.Variable(tf.truncated_normal([30, 10]))\n",
    "b2 = tf.Variable(tf.truncated_normal([10]))"
   ]
  },
  {
   "cell_type": "code",
   "execution_count": 9,
   "metadata": {
    "collapsed": true
   },
   "outputs": [],
   "source": [
    "def sigma(x):\n",
    "    #  sigmoid function\n",
    "    return tf.div(tf.constant(1.0),\n",
    "                  tf.add(tf.constant(1.0), tf.exp(-x)))\n",
    "\n",
    "def sigma_prime(x):\n",
    "    # derivative of the sigmoid function\n",
    "    return sigma(x) * (1 - sigma(x))"
   ]
  },
  {
   "cell_type": "code",
   "execution_count": 10,
   "metadata": {
    "collapsed": true
   },
   "outputs": [],
   "source": [
    "# Forward prop\n",
    "l1 = tf.add(tf.matmul(X, w1), b1)\n",
    "a1 = sigma(l1)\n",
    "l2 = tf.add(tf.matmul(a1, w2), b2)\n",
    "y_pred = sigma(l2)\n",
    "\n",
    "# diff\n",
    "assert y_pred.shape.as_list() == Y.shape.as_list()\n",
    "diff = (y_pred - Y)\n",
    "\n",
    "\n",
    "# Back prop (chain rule)\n",
    "d_l2 = diff * sigma_prime(l2)\n",
    "d_b2 = d_l2\n",
    "d_w2 = tf.matmul(tf.transpose(a1), d_l2)\n",
    "\n",
    "d_a1 = tf.matmul(d_l2, tf.transpose(w2))\n",
    "d_l1 = d_a1 * sigma_prime(l1)\n",
    "d_b1 = d_l1\n",
    "d_w1 = tf.matmul(tf.transpose(X), d_l1)\n",
    "\n",
    "\n",
    "# Updating network using gradients\n",
    "learning_rate = 0.01\n",
    "step = [\n",
    "    tf.assign(w1, w1 - learning_rate * d_w1),\n",
    "    tf.assign(b1, b1 - learning_rate *\n",
    "              tf.reduce_mean(d_b1, reduction_indices=[0])),\n",
    "    tf.assign(w2, w2 - learning_rate * d_w2),\n",
    "    tf.assign(b2, b2 - learning_rate *\n",
    "              tf.reduce_mean(d_b2, reduction_indices=[0]))\n",
    "]"
   ]
  },
  {
   "cell_type": "code",
   "execution_count": 11,
   "metadata": {
    "collapsed": true
   },
   "outputs": [],
   "source": [
    "# 7. Running and testing the training process\n",
    "acct_mat = tf.equal(tf.argmax(y_pred, 1), tf.argmax(Y, 1))\n",
    "acct_res = tf.reduce_sum(tf.cast(acct_mat, tf.float32))\n",
    "\n",
    "sess = tf.InteractiveSession()\n",
    "sess.run(tf.global_variables_initializer())"
   ]
  },
  {
   "cell_type": "code",
   "execution_count": 12,
   "metadata": {},
   "outputs": [
    {
     "name": "stdout",
     "output_type": "stream",
     "text": [
      "103.0 [[ 0.33568823  0.40799901  0.93965769 ..., -0.05575758  0.84752357\n",
      "   0.34763709]\n",
      " [ 0.01112938  0.48931819 -0.89212388 ...,  0.93603563  0.98605728\n",
      "   0.03794075]\n",
      " [ 0.03409465 -0.91442275  0.5258655  ...,  0.878133    0.9138574\n",
      "   0.02464347]\n",
      " ..., \n",
      " [-0.99549556  0.62641865  0.04425149 ...,  0.98713815  0.93059462\n",
      "   0.05261417]\n",
      " [ 0.00695446  0.09235598  0.89184773 ...,  0.76719421 -0.66835797\n",
      "   0.00136296]\n",
      " [ 0.433902    0.00217931  0.16445139 ...,  0.24376757  0.73361051\n",
      "  -0.99852651]]\n",
      "286.0 [[  4.49694954e-02   3.48771811e-02   3.77113581e-01 ...,  -5.91363430e-01\n",
      "    7.94646814e-02   8.59819800e-02]\n",
      " [  1.17010588e-03   4.48844284e-01  -9.83119667e-01 ...,   4.62010317e-02\n",
      "    5.75730622e-01   1.25609385e-02]\n",
      " [  3.06687900e-03  -3.92348170e-01   5.07917479e-02 ...,   3.20550092e-02\n",
      "    1.16602607e-01   6.06698915e-03]\n",
      " ..., \n",
      " [ -9.99869227e-01   6.37917966e-02   3.19257425e-03 ...,   2.19034497e-02\n",
      "    4.97409254e-02   7.97894597e-03]\n",
      " [  2.32395949e-04   1.59684177e-02   1.10344701e-01 ...,   2.14216439e-03\n",
      "   -9.94842350e-01   3.40932776e-04]\n",
      " [  4.39179912e-02   2.90249387e-04   8.06998461e-03 ...,   1.53749704e-03\n",
      "    2.63330862e-02  -9.99748170e-01]]\n",
      "347.0 [[  1.47608174e-02   1.62938777e-02   2.56899506e-01 ...,  -1.49552941e-01\n",
      "    6.47324249e-02   1.40100926e-01]\n",
      " [  8.73379293e-04   4.04128402e-01  -9.66395974e-01 ...,   2.73630209e-02\n",
      "    4.01181221e-01   7.71668972e-03]\n",
      " [  1.70521985e-03  -2.63492048e-01   8.64048824e-02 ...,   2.90824752e-02\n",
      "    1.01427406e-01   5.51778963e-03]\n",
      " ..., \n",
      " [ -9.99923944e-01   2.76030600e-02   4.75548860e-03 ...,   3.99101898e-02\n",
      "    3.92946862e-02   8.81466269e-03]\n",
      " [  3.68326400e-05   1.18640158e-02   3.41833159e-02 ...,   2.78227264e-03\n",
      "   -9.90573406e-01   1.88877413e-04]\n",
      " [  3.07512153e-02   1.24068392e-04   1.34082567e-02 ...,   4.18961421e-03\n",
      "    1.90777127e-02  -9.99755740e-01]]\n",
      "384.0 [[  4.96847648e-03   1.20444363e-02   8.57439265e-02 ...,  -3.35283279e-02\n",
      "    4.99769710e-02   2.70318151e-01]\n",
      " [  7.49160128e-04   3.89586002e-01  -9.55804706e-01 ...,   1.39775975e-02\n",
      "    2.91417480e-01   7.17416778e-03]\n",
      " [  1.36020244e-03  -2.24826932e-01   9.25623849e-02 ...,   2.88321208e-02\n",
      "    9.22776461e-02   7.83511903e-03]\n",
      " ..., \n",
      " [ -9.99936700e-01   1.84994843e-02   3.25658289e-03 ...,   3.00572254e-02\n",
      "    2.88864207e-02   8.29973444e-03]\n",
      " [  1.05353492e-05   1.05836475e-02   1.27587970e-02 ...,   6.03082962e-03\n",
      "   -9.88082409e-01   3.14497331e-04]\n",
      " [  2.61184219e-02   9.10324889e-05   1.17560457e-02 ...,   7.16176815e-03\n",
      "    1.75313745e-02  -9.99584556e-01]]\n",
      "433.0 [[  3.17578646e-03   1.14682941e-02   5.49564920e-02 ...,  -2.16596723e-02\n",
      "    4.59984951e-02   4.68574584e-01]\n",
      " [  6.99150260e-04   3.60903740e-01  -9.20036197e-01 ...,   5.85899409e-03\n",
      "    2.34645724e-01   1.12155611e-02]\n",
      " [  1.13345182e-03  -2.02856839e-01   1.35671392e-01 ...,   2.69609597e-02\n",
      "    1.02910005e-01   1.78642347e-02]\n",
      " ..., \n",
      " [ -9.99943078e-01   1.42678497e-02   4.04016860e-03 ...,   1.68107301e-02\n",
      "    2.88585220e-02   1.77170373e-02]\n",
      " [  6.58766839e-06   1.07801426e-02   1.44670792e-02 ...,   8.20499286e-03\n",
      "   -9.82540727e-01   1.35972968e-03]\n",
      " [  2.08671782e-02   8.97067075e-05   1.42257093e-02 ...,   8.71365331e-03\n",
      "    1.98954791e-02  -9.98520315e-01]]\n",
      "473.0 [[  1.93694094e-03   1.06485514e-02   2.30991505e-02 ...,  -1.24168992e-02\n",
      "    3.08413990e-02   4.91227537e-01]\n",
      " [  5.94570010e-04   3.22839588e-01  -9.13834870e-01 ...,   3.72404861e-03\n",
      "    1.52941242e-01   1.31374765e-02]\n",
      " [  1.02830096e-03  -1.85324252e-01   1.10358737e-01 ...,   3.78004760e-02\n",
      "    9.57979932e-02   2.97997370e-02]\n",
      " ..., \n",
      " [ -9.99944687e-01   1.09275570e-02   2.12850794e-03 ...,   1.11017404e-02\n",
      "    1.76576748e-02   1.46558434e-02]\n",
      " [  5.01607883e-06   1.16206156e-02   7.94114545e-03 ...,   2.26099659e-02\n",
      "   -9.80391622e-01   3.17565352e-03]\n",
      " [  1.85693372e-02   8.34820312e-05   1.04344012e-02 ...,   1.71561372e-02\n",
      "    1.97217427e-02  -9.95762825e-01]]\n",
      "502.0 [[  1.55376247e-03   8.68888572e-03   1.71288550e-02 ...,  -1.38010979e-02\n",
      "    2.94506829e-02   4.32179421e-01]\n",
      " [  4.75017965e-04   2.38756269e-01  -8.63128066e-01 ...,   1.34929479e-03\n",
      "    1.26688913e-01   1.27724316e-02]\n",
      " [  8.41798843e-04  -2.09598124e-01   1.29881650e-01 ...,   3.44314910e-02\n",
      "    1.17953770e-01   3.94789875e-02]\n",
      " ..., \n",
      " [ -9.99953091e-01   6.62714802e-03   1.58674235e-03 ...,   6.10658526e-03\n",
      "    1.68869849e-02   1.35954637e-02]\n",
      " [  3.24494908e-06   8.08251370e-03   6.61018305e-03 ...,   3.40311192e-02\n",
      "   -9.71359432e-01   7.24161975e-03]\n",
      " [  1.26477834e-02   6.83072794e-05   1.02579799e-02 ...,   2.24233400e-02\n",
      "    2.71295030e-02  -9.87648845e-01]]\n"
     ]
    },
    {
     "ename": "KeyboardInterrupt",
     "evalue": "",
     "output_type": "error",
     "traceback": [
      "\u001b[1;31m---------------------------------------------------------------------------\u001b[0m",
      "\u001b[1;31mKeyboardInterrupt\u001b[0m                         Traceback (most recent call last)",
      "\u001b[1;32m<ipython-input-12-c1053a30541e>\u001b[0m in \u001b[0;36m<module>\u001b[1;34m()\u001b[0m\n\u001b[0;32m      2\u001b[0m     \u001b[0mbatch_xs\u001b[0m\u001b[1;33m,\u001b[0m \u001b[0mbatch_ys\u001b[0m \u001b[1;33m=\u001b[0m \u001b[0mmnist\u001b[0m\u001b[1;33m.\u001b[0m\u001b[0mtrain\u001b[0m\u001b[1;33m.\u001b[0m\u001b[0mnext_batch\u001b[0m\u001b[1;33m(\u001b[0m\u001b[1;36m10\u001b[0m\u001b[1;33m)\u001b[0m\u001b[1;33m\u001b[0m\u001b[0m\n\u001b[0;32m      3\u001b[0m     sess.run(step, feed_dict={X: batch_xs,\n\u001b[1;32m----> 4\u001b[1;33m                               Y: batch_ys})\n\u001b[0m\u001b[0;32m      5\u001b[0m     \u001b[1;32mif\u001b[0m \u001b[0mi\u001b[0m \u001b[1;33m%\u001b[0m \u001b[1;36m1000\u001b[0m \u001b[1;33m==\u001b[0m \u001b[1;36m0\u001b[0m\u001b[1;33m:\u001b[0m\u001b[1;33m\u001b[0m\u001b[0m\n\u001b[0;32m      6\u001b[0m         res, df = sess.run([acct_res, diff], feed_dict={X: mnist.test.images[:1000],\n",
      "\u001b[1;32mD:\\python3_5anaconda\\lib\\site-packages\\tensorflow\\python\\client\\session.py\u001b[0m in \u001b[0;36mrun\u001b[1;34m(self, fetches, feed_dict, options, run_metadata)\u001b[0m\n\u001b[0;32m    776\u001b[0m     \u001b[1;32mtry\u001b[0m\u001b[1;33m:\u001b[0m\u001b[1;33m\u001b[0m\u001b[0m\n\u001b[0;32m    777\u001b[0m       result = self._run(None, fetches, feed_dict, options_ptr,\n\u001b[1;32m--> 778\u001b[1;33m                          run_metadata_ptr)\n\u001b[0m\u001b[0;32m    779\u001b[0m       \u001b[1;32mif\u001b[0m \u001b[0mrun_metadata\u001b[0m\u001b[1;33m:\u001b[0m\u001b[1;33m\u001b[0m\u001b[0m\n\u001b[0;32m    780\u001b[0m         \u001b[0mproto_data\u001b[0m \u001b[1;33m=\u001b[0m \u001b[0mtf_session\u001b[0m\u001b[1;33m.\u001b[0m\u001b[0mTF_GetBuffer\u001b[0m\u001b[1;33m(\u001b[0m\u001b[0mrun_metadata_ptr\u001b[0m\u001b[1;33m)\u001b[0m\u001b[1;33m\u001b[0m\u001b[0m\n",
      "\u001b[1;32mD:\\python3_5anaconda\\lib\\site-packages\\tensorflow\\python\\client\\session.py\u001b[0m in \u001b[0;36m_run\u001b[1;34m(self, handle, fetches, feed_dict, options, run_metadata)\u001b[0m\n\u001b[0;32m    980\u001b[0m     \u001b[1;32mif\u001b[0m \u001b[0mfinal_fetches\u001b[0m \u001b[1;32mor\u001b[0m \u001b[0mfinal_targets\u001b[0m\u001b[1;33m:\u001b[0m\u001b[1;33m\u001b[0m\u001b[0m\n\u001b[0;32m    981\u001b[0m       results = self._do_run(handle, final_targets, final_fetches,\n\u001b[1;32m--> 982\u001b[1;33m                              feed_dict_string, options, run_metadata)\n\u001b[0m\u001b[0;32m    983\u001b[0m     \u001b[1;32melse\u001b[0m\u001b[1;33m:\u001b[0m\u001b[1;33m\u001b[0m\u001b[0m\n\u001b[0;32m    984\u001b[0m       \u001b[0mresults\u001b[0m \u001b[1;33m=\u001b[0m \u001b[1;33m[\u001b[0m\u001b[1;33m]\u001b[0m\u001b[1;33m\u001b[0m\u001b[0m\n",
      "\u001b[1;32mD:\\python3_5anaconda\\lib\\site-packages\\tensorflow\\python\\client\\session.py\u001b[0m in \u001b[0;36m_do_run\u001b[1;34m(self, handle, target_list, fetch_list, feed_dict, options, run_metadata)\u001b[0m\n\u001b[0;32m   1030\u001b[0m     \u001b[1;32mif\u001b[0m \u001b[0mhandle\u001b[0m \u001b[1;32mis\u001b[0m \u001b[1;32mNone\u001b[0m\u001b[1;33m:\u001b[0m\u001b[1;33m\u001b[0m\u001b[0m\n\u001b[0;32m   1031\u001b[0m       return self._do_call(_run_fn, self._session, feed_dict, fetch_list,\n\u001b[1;32m-> 1032\u001b[1;33m                            target_list, options, run_metadata)\n\u001b[0m\u001b[0;32m   1033\u001b[0m     \u001b[1;32melse\u001b[0m\u001b[1;33m:\u001b[0m\u001b[1;33m\u001b[0m\u001b[0m\n\u001b[0;32m   1034\u001b[0m       return self._do_call(_prun_fn, self._session, handle, feed_dict,\n",
      "\u001b[1;32mD:\\python3_5anaconda\\lib\\site-packages\\tensorflow\\python\\client\\session.py\u001b[0m in \u001b[0;36m_do_call\u001b[1;34m(self, fn, *args)\u001b[0m\n\u001b[0;32m   1037\u001b[0m   \u001b[1;32mdef\u001b[0m \u001b[0m_do_call\u001b[0m\u001b[1;33m(\u001b[0m\u001b[0mself\u001b[0m\u001b[1;33m,\u001b[0m \u001b[0mfn\u001b[0m\u001b[1;33m,\u001b[0m \u001b[1;33m*\u001b[0m\u001b[0margs\u001b[0m\u001b[1;33m)\u001b[0m\u001b[1;33m:\u001b[0m\u001b[1;33m\u001b[0m\u001b[0m\n\u001b[0;32m   1038\u001b[0m     \u001b[1;32mtry\u001b[0m\u001b[1;33m:\u001b[0m\u001b[1;33m\u001b[0m\u001b[0m\n\u001b[1;32m-> 1039\u001b[1;33m       \u001b[1;32mreturn\u001b[0m \u001b[0mfn\u001b[0m\u001b[1;33m(\u001b[0m\u001b[1;33m*\u001b[0m\u001b[0margs\u001b[0m\u001b[1;33m)\u001b[0m\u001b[1;33m\u001b[0m\u001b[0m\n\u001b[0m\u001b[0;32m   1040\u001b[0m     \u001b[1;32mexcept\u001b[0m \u001b[0merrors\u001b[0m\u001b[1;33m.\u001b[0m\u001b[0mOpError\u001b[0m \u001b[1;32mas\u001b[0m \u001b[0me\u001b[0m\u001b[1;33m:\u001b[0m\u001b[1;33m\u001b[0m\u001b[0m\n\u001b[0;32m   1041\u001b[0m       \u001b[0mmessage\u001b[0m \u001b[1;33m=\u001b[0m \u001b[0mcompat\u001b[0m\u001b[1;33m.\u001b[0m\u001b[0mas_text\u001b[0m\u001b[1;33m(\u001b[0m\u001b[0me\u001b[0m\u001b[1;33m.\u001b[0m\u001b[0mmessage\u001b[0m\u001b[1;33m)\u001b[0m\u001b[1;33m\u001b[0m\u001b[0m\n",
      "\u001b[1;32mD:\\python3_5anaconda\\lib\\site-packages\\tensorflow\\python\\client\\session.py\u001b[0m in \u001b[0;36m_run_fn\u001b[1;34m(session, feed_dict, fetch_list, target_list, options, run_metadata)\u001b[0m\n\u001b[0;32m   1019\u001b[0m         return tf_session.TF_Run(session, options,\n\u001b[0;32m   1020\u001b[0m                                  \u001b[0mfeed_dict\u001b[0m\u001b[1;33m,\u001b[0m \u001b[0mfetch_list\u001b[0m\u001b[1;33m,\u001b[0m \u001b[0mtarget_list\u001b[0m\u001b[1;33m,\u001b[0m\u001b[1;33m\u001b[0m\u001b[0m\n\u001b[1;32m-> 1021\u001b[1;33m                                  status, run_metadata)\n\u001b[0m\u001b[0;32m   1022\u001b[0m \u001b[1;33m\u001b[0m\u001b[0m\n\u001b[0;32m   1023\u001b[0m     \u001b[1;32mdef\u001b[0m \u001b[0m_prun_fn\u001b[0m\u001b[1;33m(\u001b[0m\u001b[0msession\u001b[0m\u001b[1;33m,\u001b[0m \u001b[0mhandle\u001b[0m\u001b[1;33m,\u001b[0m \u001b[0mfeed_dict\u001b[0m\u001b[1;33m,\u001b[0m \u001b[0mfetch_list\u001b[0m\u001b[1;33m)\u001b[0m\u001b[1;33m:\u001b[0m\u001b[1;33m\u001b[0m\u001b[0m\n",
      "\u001b[1;31mKeyboardInterrupt\u001b[0m: "
     ]
    }
   ],
   "source": [
    "for i in range(10000):\n",
    "    batch_xs, batch_ys = mnist.train.next_batch(10)\n",
    "    sess.run(step, feed_dict={X: batch_xs,\n",
    "                              Y: batch_ys})\n",
    "    if i % 1000 == 0:\n",
    "        res, df = sess.run([acct_res, diff], feed_dict={X: mnist.test.images[:1000],\n",
    "                                            Y: mnist.test.labels[:1000]})\n",
    "        print(res, df)\n",
    "\n",
    "# 8. Automatic differentiation in TensorFlow\n",
    "cost = diff * diff\n",
    "step = tf.train.GradientDescentOptimizer(0.1).minimize(cost)"
   ]
  }
 ],
 "metadata": {
  "anaconda-cloud": {},
  "kernelspec": {
   "display_name": "Python [conda root]",
   "language": "python",
   "name": "conda-root-py"
  },
  "language_info": {
   "codemirror_mode": {
    "name": "ipython",
    "version": 3
   },
   "file_extension": ".py",
   "mimetype": "text/x-python",
   "name": "python",
   "nbconvert_exporter": "python",
   "pygments_lexer": "ipython3",
   "version": "3.5.2"
  }
 },
 "nbformat": 4,
 "nbformat_minor": 2
}

{
 "cells": [
  {
   "cell_type": "markdown",
   "metadata": {},
   "source": [
    "# 곽동현님의 Recurrent Neural Networks"
   ]
  },
  {
   "cell_type": "markdown",
   "metadata": {},
   "source": [
    "RNN에서 long term dependency가 어렵다 라는 단점이있다.\n",
    "\n",
    "기존의 네트워크와는 다르게 순환되는 구조를 가지는 뇌의구조를 보고 아이디를 떠올렸다.\n",
    "\n",
    "기본적으로 위에서 아래로 오는건 백프로파 하기가 조금 어렵다.\n",
    "\n",
    "그래서 나온게 Jordan Network이다.\n",
    "\n",
    "여기서 좀더발전된게 \n",
    "\n",
    "hidden 네트워크에서 hidden 네트워크로 이동하는것 이나타났다. RNN\n"
   ]
  },
  {
   "cell_type": "markdown",
   "metadata": {},
   "source": [
    "최근에는 RAM을 히든에 달은 네트워크가 굉장히 성능이 좋다."
   ]
  },
  {
   "cell_type": "markdown",
   "metadata": {},
   "source": [
    "타임시리즈로 바꾸는것으로.. RNN을바꿧다. \n",
    "\n",
    "RNN에서는 BPTT라고 한다. 대충 미분값이 대각선으로 향하는것을 알수있다.\n",
    "\n",
    "gradient Exploding은 clipping을 통해서 조절하기가 쉽다. (에러를 자른다는 개념이다)\n",
    "\n",
    "진짜문제는 gradient vanishing 문제이다.타임스텝이 길어질수록 에러가 줄어들어서 풀기가 어려웠었다(하지만 지금은 가능)\n",
    "(ex. LSTM)"
   ]
  },
  {
   "cell_type": "markdown",
   "metadata": {},
   "source": [
    "LSTM에서는 게이트의 활성함수를 시그모이드로 하는경우가 있다.\n",
    "\n",
    "이게이트는 lstm뿐만아니라 다른곳에서도 유용하게쓰일수있다.\n",
    "\n",
    "forgot게이트, input gate, \n",
    "\n",
    "LSTM의 파라미터를 줄이기.관련 논문 : A search space odyssey\n",
    "\n",
    "forget > input >output 순으로 성능이 중요하다.\n",
    "\n",
    "그래서 forget과 input을 합친게 gru이다.\n",
    "\n",
    "성능에 크게상관은없지만 파라미터가 많이줄었다.\n",
    "\n"
   ]
  },
  {
   "cell_type": "markdown",
   "metadata": {},
   "source": [
    "Word2Vec\n",
    "\n",
    "softmax를 좀다른것들로 써서 계산량을 줄인다.\n",
    "\n",
    "\n",
    "시퀀스 투 시퀀스\n",
    "\n",
    "이더리움 시세예측하기.\n",
    "\n"
   ]
  },
  {
   "cell_type": "code",
   "execution_count": null,
   "metadata": {
    "collapsed": true
   },
   "outputs": [],
   "source": []
  },
  {
   "cell_type": "code",
   "execution_count": null,
   "metadata": {
    "collapsed": true
   },
   "outputs": [],
   "source": []
  },
  {
   "cell_type": "code",
   "execution_count": null,
   "metadata": {
    "collapsed": true
   },
   "outputs": [],
   "source": []
  },
  {
   "cell_type": "code",
   "execution_count": null,
   "metadata": {
    "collapsed": true
   },
   "outputs": [],
   "source": []
  },
  {
   "cell_type": "code",
   "execution_count": null,
   "metadata": {
    "collapsed": true
   },
   "outputs": [],
   "source": []
  },
  {
   "cell_type": "code",
   "execution_count": null,
   "metadata": {
    "collapsed": true
   },
   "outputs": [],
   "source": []
  }
 ],
 "metadata": {
  "anaconda-cloud": {},
  "kernelspec": {
   "display_name": "Python [conda root]",
   "language": "python",
   "name": "conda-root-py"
  },
  "language_info": {
   "codemirror_mode": {
    "name": "ipython",
    "version": 3
   },
   "file_extension": ".py",
   "mimetype": "text/x-python",
   "name": "python",
   "nbconvert_exporter": "python",
   "pygments_lexer": "ipython3",
   "version": "3.5.2"
  }
 },
 "nbformat": 4,
 "nbformat_minor": 2
}

{
 "cells": [
  {
   "cell_type": "markdown",
   "metadata": {},
   "source": [
    "## TensorFlow Linear"
   ]
  },
  {
   "cell_type": "code",
   "execution_count": 7,
   "metadata": {
    "collapsed": true
   },
   "outputs": [],
   "source": [
    "import tensorflow as tf\n",
    "\n",
    "csvFile = 'pima-indians-diabetes.csv'"
   ]
  },
  {
   "cell_type": "code",
   "execution_count": 8,
   "metadata": {
    "scrolled": true
   },
   "outputs": [
    {
     "name": "stdout",
     "output_type": "stream",
     "text": [
      "8 2\n"
     ]
    }
   ],
   "source": [
    "learning_rate = 0.000001\n",
    "epoch = 3\n",
    "batch_size = 10\n",
    "filename_queue = tf.train.string_input_producer([csvFile])\n",
    "reader = tf.TextLineReader()\n",
    "key, value = reader.read(filename_queue)\n",
    "record_defaults = [[1.], [1.], [1.], [1.], [1.], [1.], [1.], [1.], [1]]\n",
    "\n",
    "features = tf.decode_csv(value, record_defaults=record_defaults)\n",
    "X_data = features[:-1]\n",
    "Y_data = features[-1:]\n",
    "batch_xs, label = tf.train.shuffle_batch(tensors=[X_data, Y_data], batch_size=batch_size,\n",
    "                                         num_threads=1,\n",
    "                                         capacity=5000,\n",
    "                                         min_after_dequeue=100)\n",
    "label = tf.one_hot(label, depth=2) # 0 => [1,0] 1 => [0,1]\n",
    "label = tf.reshape(label,[-1,2])\n",
    "features = len(X_data)\n",
    "classes = label.shape[1]\n",
    "print(features, classes)"
   ]
  },
  {
   "cell_type": "code",
   "execution_count": 9,
   "metadata": {
    "scrolled": true
   },
   "outputs": [],
   "source": [
    "X = tf.placeholder(tf.float32, [None, features], name=\"input\") # 1,8\n",
    "Y = tf.placeholder(tf.float32, [None, classes], name=\"output\")  # 1,1\n",
    "\n",
    "W = tf.Variable(tf.zeros([features, classes]), name='weight')    # (8,1)\n",
    "b = tf.Variable(tf.zeros([classes]), name='bias')                # (1)\n",
    "\n",
    "hypothesis = tf.nn.softmax(tf.matmul(X, W) + b)                          # (1,8) * (8,1) + (1)\n",
    "\n",
    "cost = tf.reduce_mean(-tf.reduce_sum(Y*tf.log(hypothesis), reduction_indices=1))              # \n",
    "\n",
    "optimizer = tf.train.GradientDescentOptimizer(learning_rate=learning_rate).minimize(cost)\n",
    "correct_prediction = tf.equal(tf.argmax(hypothesis,1), tf.argmax(Y,1))\n",
    "accuracy = tf.reduce_mean(tf.cast(correct_prediction,\"float\"))"
   ]
  },
  {
   "cell_type": "code",
   "execution_count": 10,
   "metadata": {
    "scrolled": false
   },
   "outputs": [
    {
     "name": "stdout",
     "output_type": "stream",
     "text": [
      "0 0.693147 0.7\n",
      "20 0.681341 0.7\n",
      "40 0.664413 0.6\n",
      "60 0.588754 0.5\n",
      "80 0.77681 0.6\n",
      "100 0.651716 0.7\n",
      "120 0.805735 0.5\n",
      "140 0.697034 0.7\n",
      "160 0.647502 0.6\n",
      "180 0.579476 0.7\n",
      "200 0.613562 0.8\n",
      "220 0.791158 0.7\n",
      "240 0.659067 0.6\n",
      "260 0.659761 0.6\n",
      "280 0.717329 0.4\n",
      "300 0.549611 0.6\n",
      "320 0.63116 0.5\n",
      "340 0.679 0.9\n",
      "360 0.556337 0.7\n",
      "380 0.836551 0.8\n",
      "400 0.657171 0.8\n",
      "420 0.595872 0.6\n",
      "440 0.587748 0.9\n",
      "460 0.962484 0.6\n",
      "480 0.837184 1.0\n",
      "500 0.591352 0.6\n",
      "0 0.62702 0.8\n",
      "20 0.848096 0.4\n",
      "40 0.676267 0.5\n",
      "60 0.725188 0.5\n",
      "80 0.668939 0.6\n",
      "100 0.580466 0.9\n",
      "120 0.606377 0.6\n",
      "140 0.601034 0.9\n",
      "160 0.723176 0.7\n",
      "180 0.586127 0.6\n",
      "200 0.750789 0.5\n",
      "220 0.572033 0.6\n",
      "240 0.648537 0.8\n",
      "260 0.664084 0.6\n",
      "280 0.819327 0.8\n",
      "300 0.771088 0.6\n",
      "320 0.68254 0.8\n",
      "340 0.537846 0.5\n",
      "360 0.548653 0.7\n",
      "380 0.700213 0.6\n",
      "400 0.608572 0.6\n",
      "420 0.86783 0.6\n",
      "440 0.775928 1.0\n",
      "460 0.61103 0.6\n",
      "480 0.479484 0.6\n",
      "500 0.664261 0.5\n",
      "0 0.690591 0.7\n",
      "20 0.660671 0.6\n",
      "40 0.722211 0.8\n",
      "60 0.638699 0.5\n",
      "80 0.671803 0.6\n",
      "100 0.55085 0.6\n",
      "120 0.546017 0.6\n",
      "140 0.854106 0.6\n",
      "160 0.517094 0.5\n",
      "180 0.609414 0.6\n",
      "200 0.576283 0.8\n",
      "220 0.618132 0.3\n",
      "240 0.515056 0.7\n",
      "260 0.642379 0.8\n",
      "280 0.654974 0.7\n",
      "300 0.56795 0.7\n",
      "320 0.74326 0.6\n",
      "340 0.582805 0.8\n",
      "360 0.632423 0.5\n",
      "380 0.725701 0.4\n",
      "400 0.629613 0.5\n",
      "420 0.621678 0.6\n",
      "440 0.862023 0.6\n",
      "460 0.814954 0.4\n",
      "480 0.637252 0.7\n",
      "500 0.503214 0.6\n"
     ]
    }
   ],
   "source": [
    "with tf.Session() as sess:\n",
    "    coord = tf.train.Coordinator()\n",
    "    threads = tf.train.start_queue_runners(coord=coord)\n",
    "    sess.run(tf.global_variables_initializer())\n",
    "    \n",
    "    for i in range(epoch):\n",
    "        for step in range(501):\n",
    "            opt, cc = sess.run([optimizer,cost], feed_dict={X:batch_xs.eval(), Y:label.eval()})\n",
    "    #         print(batch_xs.eval(),label.eval())\n",
    "            if step%20 ==0:\n",
    "                atemp = accuracy.eval({X:batch_xs.eval(), Y:label.eval()})\n",
    "                print(step, cc, atemp)\n",
    "    \n",
    "    coord.request_stop()\n",
    "    coord.join(threads)"
   ]
  }
 ],
 "metadata": {
  "anaconda-cloud": {},
  "kernelspec": {
   "display_name": "Python [conda root]",
   "language": "python",
   "name": "conda-root-py"
  },
  "language_info": {
   "codemirror_mode": {
    "name": "ipython",
    "version": 3
   },
   "file_extension": ".py",
   "mimetype": "text/x-python",
   "name": "python",
   "nbconvert_exporter": "python",
   "pygments_lexer": "ipython3",
   "version": "3.5.2"
  }
 },
 "nbformat": 4,
 "nbformat_minor": 2
}

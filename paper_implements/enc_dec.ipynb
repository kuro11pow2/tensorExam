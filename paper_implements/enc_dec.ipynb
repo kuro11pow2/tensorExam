{
 "cells": [
  {
   "cell_type": "code",
   "execution_count": 1,
   "metadata": {
    "collapsed": true
   },
   "outputs": [],
   "source": [
    "import tensorflow as tf\n",
    "import pickle\n",
    "import os\n",
    "import shutil\n",
    "import tempfile\n",
    "import datetime\n",
    "from glob import iglob\n",
    "import time\n",
    "# import attention\n",
    "from collections import deque\n",
    "import pickle\n",
    "import pyreader\n",
    "import numpy as np\n",
    "import csv\n",
    "from batchmake import Batcher\n",
    "import pprint\n",
    "tf.set_random_seed(777)\n",
    "from tensorflow.python.layers import core"
   ]
  },
  {
   "cell_type": "code",
   "execution_count": 2,
   "metadata": {},
   "outputs": [
    {
     "name": "stdout",
     "output_type": "stream",
     "text": [
      "22673\n"
     ]
    }
   ],
   "source": [
    "datas= 'data_samples/'\n",
    "vocabulary = 'vocab.csv'\n",
    "vocabs = []\n",
    "with open(vocabulary, 'r', newline='', encoding='utf-8') as vocab:\n",
    "    words = csv.reader(vocab)\n",
    "    for i, word in enumerate(words):\n",
    "        vocabs.append(word[0])\n",
    "#         vocabs[word[0]]=i\n",
    "#         vocabs[word] = i\n",
    "print(len(vocabs))\n",
    "word_to_id = {word: i for i, word in enumerate(vocabs)}\n",
    "id_to_word = {i:word for i, word in enumerate(vocabs)}"
   ]
  },
  {
   "cell_type": "code",
   "execution_count": 3,
   "metadata": {},
   "outputs": [
    {
     "data": {
      "text/plain": [
       "('<PAD>', 0)"
      ]
     },
     "execution_count": 3,
     "metadata": {},
     "output_type": "execute_result"
    }
   ],
   "source": [
    "id_to_word[0], word_to_id['<PAD>']"
   ]
  },
  {
   "cell_type": "code",
   "execution_count": 4,
   "metadata": {
    "collapsed": true
   },
   "outputs": [],
   "source": [
    "hidden_size=32\n",
    "sequence=5\n",
    "embedding_dim=50\n",
    "attention_size = 50\n",
    "batch_size=16\n",
    "vocab_size=len(vocabs)"
   ]
  },
  {
   "cell_type": "code",
   "execution_count": 5,
   "metadata": {
    "collapsed": true
   },
   "outputs": [],
   "source": [
    "def get_model_inputs():\n",
    "    X = tf.placeholder(tf.int32, [None, sequence], name='inputs_xdata')\n",
    "    # Y = tf.placeholder(tf.float32, [None, sequence], name='targets_ydata')\n",
    "    Y = tf.placeholder(tf.int32, [None, sequence], name='targets_ydata')\n",
    "#     seq_len = tf.placeholder(tf.int32, [None], name='seq_len')\n",
    "    lr = tf.placeholder(tf.float32, name='learning_rate')\n",
    "\n",
    "#     embedding_variable = tf.Variable(tf.random_uniform([vocab_size, embedding_dim],-1.0,1.0), trainable=True)\n",
    "#     batch_embedded = tf.nn.embedding_lookup(embedding_variable, X)\n",
    "    target_sequence_length = tf.placeholder(tf.int32, (None,), name='target_sequence_length')\n",
    "    max_target_sequence_length = tf.reduce_max(target_sequence_length, name='max_target_len')\n",
    "    source_sequence_length = tf.placeholder(tf.int32, (None,), name='source_sequence_length')\n",
    "    \n",
    "    return X, Y, lr, target_sequence_length, source_sequence_length, max_target_sequence_length"
   ]
  },
  {
   "cell_type": "code",
   "execution_count": 6,
   "metadata": {
    "collapsed": true
   },
   "outputs": [],
   "source": [
    "def encoding_layer(input_data, rnn_size, num_layers,\n",
    "                   source_sequence_length, source_vocab_size, \n",
    "                   encoding_embedding_size):\n",
    "    # Encoder embedding\n",
    "    enc_embed_input = tf.contrib.layers.embed_sequence(input_data, source_vocab_size, encoding_embedding_size)\n",
    "\n",
    "    # RNN cell\n",
    "    def make_cell(rnn_size):\n",
    "        enc_cell = tf.contrib.rnn.LSTMCell(rnn_size,\n",
    "                                           initializer=tf.random_uniform_initializer(-0.1, 0.1, seed=2))\n",
    "        return enc_cell\n",
    "\n",
    "    enc_cell = tf.contrib.rnn.MultiRNNCell([make_cell(rnn_size) for _ in range(num_layers)])\n",
    "    \n",
    "    enc_output, enc_state = tf.nn.dynamic_rnn(enc_cell, enc_embed_input, sequence_length=source_sequence_length, dtype=tf.float32)\n",
    "    \n",
    "    return enc_output, enc_state"
   ]
  },
  {
   "cell_type": "code",
   "execution_count": 7,
   "metadata": {
    "collapsed": true
   },
   "outputs": [],
   "source": [
    "def process_decoder_input(target_data, word_to_int, batch_size):\n",
    "    ending = tf.strided_slice(target_data, [0,0], [batch_size, -1], [1, 1])\n",
    "    dec_input = tf.concat([tf.fill([batch_size,1], word_to_int['<GO>']), ending], 1)\n",
    "    return dec_input"
   ]
  },
  {
   "cell_type": "code",
   "execution_count": 14,
   "metadata": {
    "collapsed": true
   },
   "outputs": [],
   "source": [
    "def decoding_layer(target_letter_to_int, decoding_embedding_size, num_layers, rnn_size,\n",
    "                   target_sequence_length, max_target_sequence_length, enc_state, dec_input):\n",
    "    target_vocab_size = len(target_letter_to_int)\n",
    "    dec_embeddings = tf.Variable(tf.random_uniform([target_vocab_size, decoding_embedding_size]))\n",
    "    dec_embed_input = tf.nn.embedding_lookup(dec_embeddings, dec_input)\n",
    "\n",
    "    def make_cell(rnn_size):\n",
    "        dec_cell = tf.contrib.rnn.LSTMCell(rnn_size, initializer=tf.random_uniform_initializer(-0.1, 0.1, seed=2))\n",
    "        return dec_cell\n",
    "\n",
    "    dec_cell = tf.contrib.rnn.MultiRNNCell([make_cell(rnn_size) for _ in range(num_layers)])\n",
    "\n",
    "    output_layer = core.Dense(target_vocab_size,\n",
    "                              kernel_initializer=tf.truncated_normal_initializer(mean = 0.0, stddev=0.1)\n",
    "                             )\n",
    "    with tf.variable_scope('decode'):\n",
    "        training_helper = tf.contrib.seq2seq.TrainingHelper(inputs=dec_embed_input,\n",
    "                                                            sequence_length = target_sequence_length,\n",
    "                                                            time_major=False\n",
    "                                                           )\n",
    "        training_decoder = tf.contrib.seq2seq.BasicDecoder(dec_cell,\n",
    "                                                           training_helper,\n",
    "                                                           enc_state,\n",
    "                                                           output_layer\n",
    "                                                          )\n",
    "        training_decoder_output, _, _ = tf.contrib.seq2seq.dynamic_decode(training_decoder,\n",
    "                                                                       impute_finished=True,\n",
    "                                                                       maximum_iterations=max_target_sequence_length\n",
    "                                                                      )\n",
    "        with tf.variable_scope('decode', reuse=True):\n",
    "            start_tokens = tf.tile(tf.constant([target_letter_to_int['<GO>']],dtype=tf.int32), [batch_size], name='start_tokens')\n",
    "            inference_helper = tf.contrib.seq2seq.GreedyEmbeddingHelper(dec_embeddings,\n",
    "                                                                        start_tokens,\n",
    "                                                                        target_letter_to_int['<EOS>']\n",
    "                                                                       )\n",
    "            inference_decoder = tf.contrib.seq2seq.BasicDecoder(dec_cell, inference_helper,\n",
    "                                                                enc_state,\n",
    "                                                                output_layer\n",
    "                                                               )\n",
    "            inference_decoder_output, _, _ = tf.contrib.seq2seq.dynamic_decode(inference_decoder,\n",
    "                                                                            impute_finished=True,\n",
    "                                                                            maximum_iterations=max_target_sequence_length\n",
    "                                                                           )\n",
    "\n",
    "            return training_decoder_output, inference_decoder_output    "
   ]
  },
  {
   "cell_type": "code",
   "execution_count": 9,
   "metadata": {
    "collapsed": true
   },
   "outputs": [],
   "source": [
    "def seq2seq_model(input_data, targets, target_sequence_length,max_target_sequence_length,\n",
    "                  source_sequence_length,source_vocab_size, target_vocab_size, enc_embedding_size, dec_embedding_size,\n",
    "                  rnn_size, num_layers\n",
    "                 ):\n",
    "\n",
    "    _, enc_state = encoding_layer(input_data=input_data, rnn_size=rnn_size, num_layers=num_layers,\n",
    "                                  source_sequence_length = source_sequence_length,\n",
    "                                  source_vocab_size = source_vocab_size,\n",
    "                                  encoding_embedding_size=embedding_dim\n",
    "                                 )\n",
    "    dec_input = process_decoder_input(targets, word_to_id, batch_size)\n",
    "\n",
    "\n",
    "\n",
    "    training_decoder_output, inference_decoder_output = decoding_layer(target_letter_to_int=word_to_id,\n",
    "                                                                       decoding_embedding_size=embedding_dim,\n",
    "                                                                       num_layers = num_layers,\n",
    "                                                                       rnn_size=rnn_size,\n",
    "                                                                       target_sequence_length=target_sequence_length,\n",
    "                                                                       max_target_sequence_length=max_target_sequence_length,\n",
    "                                                                       enc_state=enc_state,\n",
    "                                                                       dec_input=dec_input\n",
    "                                                                      )\n",
    "    return training_decoder_output,inference_decoder_output"
   ]
  },
  {
   "cell_type": "code",
   "execution_count": 10,
   "metadata": {},
   "outputs": [],
   "source": [
    "file_name_queue = tf.train.string_input_producer(['inputs'])\n",
    "reader = tf.TFRecordReader()\n",
    "_, single_x = reader.read(file_name_queue)\n",
    "\n",
    "context_features = {\n",
    "    \"length\": tf.FixedLenFeature([], dtype=tf.int64)\n",
    "}\n",
    "sequence_features = {\n",
    "    \"tokens\": tf.FixedLenSequenceFeature([], dtype=tf.int64),\n",
    "    \"labels\": tf.FixedLenSequenceFeature([], dtype=tf.int64)\n",
    "}\n",
    "\n",
    "\n",
    "context_parsed, sequence_parsed = tf.parse_single_sequence_example(serialized=single_x,\n",
    "                                                                   context_features=context_features,\n",
    "                                                                   sequence_features=sequence_features\n",
    "                                                                  )"
   ]
  },
  {
   "cell_type": "code",
   "execution_count": 11,
   "metadata": {},
   "outputs": [],
   "source": [
    "context_parsed['length'] = tf.cast(context_parsed['length'], tf.int32)\n",
    "batch_x, batch_y = tf.contrib.training.bucket_by_sequence_length(context_parsed['length'],\n",
    "                                              [sequence_parsed['tokens'], sequence_parsed['labels']],\n",
    "                                              batch_size=batch_size,\n",
    "                                              bucket_boundaries=[5,10],\n",
    "                                              dynamic_pad=True,\n",
    "                                              capacity=1000,\n",
    "                                              num_threads=1\n",
    "                                             )"
   ]
  },
  {
   "cell_type": "code",
   "execution_count": 15,
   "metadata": {},
   "outputs": [],
   "source": [
    "train_graph = tf.Graph()\n",
    "# Set the graph to default to ensure that it is ready for training\n",
    "with train_graph.as_default():\n",
    "\n",
    "    # Load the model inputs    \n",
    "    input_data, targets, lr, target_sequence_length, source_sequence_length, max_target_sequence_length = get_model_inputs()\n",
    "\n",
    "    # Create the training and inference logits\n",
    "    training_decoder_output, inference_decoder_output = seq2seq_model(input_data=input_data, \n",
    "                                                                      targets=targets, \n",
    "                                                                      target_sequence_length = target_sequence_length, \n",
    "                                                                      max_target_sequence_length = max_target_sequence_length, \n",
    "                                                                      source_sequence_length = source_sequence_length,\n",
    "                                                                      source_vocab_size = len(word_to_id),\n",
    "                                                                      target_vocab_size = len(word_to_id),\n",
    "                                                                      enc_embedding_size = embedding_dim, \n",
    "                                                                      dec_embedding_size = embedding_dim, \n",
    "                                                                      rnn_size = hidden_size, \n",
    "                                                                      num_layers = 1)    \n",
    "\n",
    "    # Create tensors for the training logits and inference logits\n",
    "    training_logits = tf.identity(training_decoder_output.rnn_output, 'logits')\n",
    "    inference_logits = tf.identity(inference_decoder_output.sample_id, name='predictions')\n",
    "\n",
    "    # Create the weights for sequence_loss\n",
    "    masks = tf.sequence_mask(target_sequence_length, max_target_sequence_length, dtype=tf.float32, name='masks')\n",
    "\n",
    "    with tf.name_scope(\"optimization\"):\n",
    "\n",
    "        # Loss function\n",
    "        cost = tf.contrib.seq2seq.sequence_loss(\n",
    "            training_logits,\n",
    "            targets,\n",
    "            masks)\n",
    "\n",
    "        # Optimizer\n",
    "        optimizer = tf.train.AdamOptimizer(lr)\n",
    "\n",
    "        # Gradient Clipping\n",
    "        gradients = optimizer.compute_gradients(cost)\n",
    "        capped_gradients = [(tf.clip_by_value(grad, -5., 5.), var) for grad, var in gradients if grad is not None]\n",
    "        train_op = optimizer.apply_gradients(capped_gradients)"
   ]
  },
  {
   "cell_type": "code",
   "execution_count": null,
   "metadata": {
    "collapsed": true
   },
   "outputs": [],
   "source": [
    "Ses = tf.Session()\n",
    "coord = tf.train.Coordinator()\n",
    "threads = tf.train.start_queue_runners(sess=Ses, coord=coord)\n",
    "Ses.run(tf.global_variables_initializer())\n",
    "\n",
    "bat_x, bat_y = Ses.run([batch_x, batch_y])\n",
    "epochs = 3\n",
    "for epoch in range(1, epochs):\n",
    "    \n",
    "    for i, train_datas in enumerate()"
   ]
  },
  {
   "cell_type": "code",
   "execution_count": null,
   "metadata": {
    "collapsed": true
   },
   "outputs": [],
   "source": [
    "Ses = tf.Session()\n",
    "coord = tf.train.Coordinator()\n",
    "threads = tf.train.start_queue_runners(sess=Ses, coord=coord)\n",
    "Ses.run(tf.global_variables_initializer())\n",
    "\n",
    "bat_x, bat_y = Ses.run([batch_x, batch_y])\n",
    "print(bat_x, bat_y)"
   ]
  },
  {
   "cell_type": "code",
   "execution_count": 10,
   "metadata": {
    "collapsed": true
   },
   "outputs": [],
   "source": [
    "grucell = tf.nn.rnn_cell.BasicLSTMCell(hidden_size)\n",
    "with tf.variable_scope('RNN'):\n",
    "    en_outputs, en_states = tf.nn.dynamic_rnn(grucell,\n",
    "                                        inputs=batch_embedded,\n",
    "                                        sequence_length=seq_len,\n",
    "                                        dtype=tf.float32)    "
   ]
  },
  {
   "cell_type": "code",
   "execution_count": 12,
   "metadata": {
    "collapsed": true
   },
   "outputs": [],
   "source": [
    "helpers = tf.contrib.seq2seq.Helper"
   ]
  },
  {
   "cell_type": "code",
   "execution_count": 13,
   "metadata": {},
   "outputs": [
    {
     "data": {
      "text/plain": [
       "<abc.abstractproperty at 0x1cdd9a17468>"
      ]
     },
     "execution_count": 13,
     "metadata": {},
     "output_type": "execute_result"
    }
   ],
   "source": [
    "helpers.batch_size"
   ]
  }
 ],
 "metadata": {
  "anaconda-cloud": {},
  "kernelspec": {
   "display_name": "Python 3",
   "language": "python",
   "name": "python3"
  }
 },
 "nbformat": 4,
 "nbformat_minor": 2
}

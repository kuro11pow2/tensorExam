{
 "cells": [
  {
   "cell_type": "code",
   "execution_count": 1,
   "metadata": {},
   "outputs": [],
   "source": [
    "import tensorflow as tf\n",
    "import pickle\n",
    "import os\n",
    "import shutil\n",
    "import tempfile\n",
    "import datetime\n",
    "from glob import iglob\n",
    "import time\n",
    "# import attention\n",
    "from collections import deque\n",
    "import pickle\n",
    "import pyreader\n",
    "import numpy as np\n",
    "import csv\n",
    "from batchmake import Batcher\n",
    "import pprint\n",
    "from tensorflow.python.layers import core\n",
    "tf.set_random_seed(777)"
   ]
  },
  {
   "cell_type": "code",
   "execution_count": 2,
   "metadata": {
    "collapsed": true
   },
   "outputs": [],
   "source": [
    "pad_token, pad_id = \"§PAD§\", 0\n",
    "oov_token, oov_id = \"§OOV§\", 1\n",
    "indent_token = \"§<indent>§\"\n",
    "dedent_token = \"§<dedent>§\"\n",
    "number_token = \"§NUM§\"\n",
    "start_token = \"§GO§\"\n",
    "end_token = \"§END§\""
   ]
  },
  {
   "cell_type": "code",
   "execution_count": 3,
   "metadata": {},
   "outputs": [
    {
     "data": {
      "text/plain": [
       "14760"
      ]
     },
     "execution_count": 3,
     "metadata": {},
     "output_type": "execute_result"
    }
   ],
   "source": [
    "datas= 'data_samples/'\n",
    "word_to_id='data_samples/mapping.map'\n",
    "with open(word_to_id, 'rb') as f:\n",
    "    word_to_id = pickle.load(f)\n",
    "len(word_to_id)"
   ]
  },
  {
   "cell_type": "markdown",
   "metadata": {},
   "source": [
    "### END token, Start token 추가"
   ]
  },
  {
   "cell_type": "code",
   "execution_count": 4,
   "metadata": {},
   "outputs": [
    {
     "data": {
      "text/plain": [
       "(14762, 14761)"
      ]
     },
     "execution_count": 4,
     "metadata": {},
     "output_type": "execute_result"
    }
   ],
   "source": [
    "word_to_id[end_token]=len(word_to_id)-1\n",
    "word_to_id[start_token] = len(word_to_id)\n",
    "inv_map = {v:k for k, v in word_to_id.items() }\n",
    "len(word_to_id), len(inv_map)"
   ]
  },
  {
   "cell_type": "code",
   "execution_count": 5,
   "metadata": {},
   "outputs": [],
   "source": [
    "hidden_size=100\n",
    "sequence=5\n",
    "embedding_dim=50\n",
    "attention_size = 50\n",
    "batch_size=8\n",
    "vocab_size=len(word_to_id)"
   ]
  },
  {
   "cell_type": "code",
   "execution_count": 6,
   "metadata": {
    "collapsed": true
   },
   "outputs": [],
   "source": [
    "def get_model_inputs():\n",
    "    X = tf.placeholder(tf.int32, [None, sequence], name='inputs_xdata')\n",
    "    # Y = tf.placeholder(tf.float32, [None, sequence], name='targets_ydata')\n",
    "    Y = tf.placeholder(tf.int32, [None, sequence], name='targets_ydata')\n",
    "#     seq_len = tf.placeholder(tf.int32, [None], name='seq_len')\n",
    "    lr = tf.placeholder(tf.float32, name='learning_rate')\n",
    "\n",
    "#     embedding_variable = tf.Variable(tf.random_uniform([vocab_size, embedding_dim],-1.0,1.0), trainable=True)\n",
    "#     batch_embedded = tf.nn.embedding_lookup(embedding_variable, X)\n",
    "    target_sequence_length = tf.placeholder(tf.int32, (None,), name='target_sequence_length')\n",
    "    max_target_sequence_length = tf.reduce_max(target_sequence_length, name='max_target_len')\n",
    "    source_sequence_length = tf.placeholder(tf.int32, (None,), name='source_sequence_length')\n",
    "    \n",
    "    return X, Y, lr, target_sequence_length, source_sequence_length, max_target_sequence_length"
   ]
  },
  {
   "cell_type": "code",
   "execution_count": 7,
   "metadata": {
    "collapsed": true
   },
   "outputs": [],
   "source": [
    "def encoding_layer(input_data, rnn_size, num_layers,\n",
    "                   source_sequence_length, source_vocab_size, \n",
    "                   encoding_embedding_size):\n",
    "    # Encoder embedding\n",
    "    enc_embed_input = tf.contrib.layers.embed_sequence(input_data, source_vocab_size, encoding_embedding_size)\n",
    "\n",
    "    # RNN cell\n",
    "    def make_cell(rnn_size):\n",
    "        enc_cell = tf.contrib.rnn.LSTMCell(rnn_size,\n",
    "                                           initializer=tf.random_uniform_initializer(-0.1, 0.1, seed=2))\n",
    "        return enc_cell\n",
    "\n",
    "    enc_cell = tf.contrib.rnn.MultiRNNCell([make_cell(rnn_size) for _ in range(num_layers)])\n",
    "    \n",
    "    enc_output, enc_state = tf.nn.dynamic_rnn(enc_cell, enc_embed_input, sequence_length=source_sequence_length, dtype=tf.float32)\n",
    "    \n",
    "    return enc_output, enc_state"
   ]
  },
  {
   "cell_type": "code",
   "execution_count": 8,
   "metadata": {
    "collapsed": true
   },
   "outputs": [],
   "source": [
    "def process_decoder_input(target_data, word_to_int, batch_size):\n",
    "    ending = tf.strided_slice(target_data, [0,0], [batch_size, -1], [1, 1])\n",
    "    dec_input = tf.concat([tf.fill([batch_size,1], word_to_int[start_token]), ending], 1)\n",
    "    return dec_input"
   ]
  },
  {
   "cell_type": "code",
   "execution_count": 9,
   "metadata": {},
   "outputs": [],
   "source": [
    "def attention_decode_cell(enc_output, hidden_size, sequence_length):\n",
    "    print(enc_output, hidden_size)\n",
    "    enc_output = tf.cast(enc_output, tf.float32)\n",
    "    attention_mechanism = tf.contrib.seq2seq.BahdanauAttention(hidden_size, enc_output)\n",
    "    single_cell = tf.contrib.rnn.BasicLSTMCell(hidden_size)\n",
    "    cell = tf.contrib.seq2seq.AttentionWrapper(single_cell,attention_mechanism,\n",
    "                                               attention_layer_size=hidden_size,\n",
    "                                               alignment_history=False\n",
    "                                              )\n",
    "#     cell = tf.contrib.rnn.AttentionCellWrapper(single_cell,attention_mechanism,\n",
    "#                                                attention_layer_size=hidden_size,\n",
    "#                                                alignment_history=False\n",
    "#                                               )\n",
    "    \n",
    "    decoder_initial_state = cell.zero_state(batch_size, tf.float32)\n",
    "    print('cell ', cell)\n",
    "    print('decoder_initial_state', decoder_initial_state)\n",
    "    return cell, decoder_initial_state\n"
   ]
  },
  {
   "cell_type": "code",
   "execution_count": 10,
   "metadata": {
    "collapsed": true
   },
   "outputs": [],
   "source": [
    "def decoding_layer(target_letter_to_int, decoding_embedding_size, num_layers, rnn_size,\n",
    "                   target_sequence_length, max_target_sequence_length, enc_state, dec_input):\n",
    "    \n",
    "    target_vocab_size = len(target_letter_to_int)\n",
    "    \n",
    "    dec_embeddings = tf.Variable(tf.random_uniform([target_vocab_size, decoding_embedding_size]))\n",
    "\n",
    "    dec_embed_input = tf.nn.embedding_lookup(dec_embeddings, dec_input)\n",
    "\n",
    "    def make_cell(rnn_size):\n",
    "        dec_cell = tf.contrib.rnn.LSTMCell(rnn_size, initializer=tf.random_uniform_initializer(-0.1, 0.1, seed=2))\n",
    "        return dec_cell\n",
    "\n",
    "#     dec_cell = tf.contrib.rnn.MultiRNNCell([make_cell(rnn_size) for _ in range(num_layers)])\n",
    "    dec_cell, dec_state = attention_decode_cell(dec_input, hidden_size, sequence_length=sequence)\n",
    "\n",
    "    output_layer = core.Dense(target_vocab_size,\n",
    "                              kernel_initializer=tf.truncated_normal_initializer(mean = 0.0, stddev=0.1)\n",
    "                             )\n",
    "    \n",
    "    with tf.variable_scope('decode'):\n",
    "        training_helper = tf.contrib.seq2seq.TrainingHelper(inputs=dec_embed_input,\n",
    "                                                            sequence_length = target_sequence_length,\n",
    "                                                            time_major=False\n",
    "                                                           )\n",
    "        \n",
    "        training_decoder = tf.contrib.seq2seq.BasicDecoder(dec_cell,\n",
    "                                                           training_helper,\n",
    "                                                           dec_state,\n",
    "#                                                            output_layer\n",
    "                                                          )\n",
    "        print('training_decoder', training_decoder, )\n",
    "        print('dec_cell', dec_cell)\n",
    "        print('dec_state', dec_state)\n",
    "        \n",
    "        training_decoder_output,final_state, final_sequence_lengths = tf.contrib.seq2seq.dynamic_decode(training_decoder,\n",
    "                                                                                                        swap_memory=True,\n",
    "                                                                                                       )\n",
    "        \n",
    "    with tf.variable_scope('decode', reuse=True):\n",
    "        start_tokens = tf.tile(tf.constant([target_letter_to_int[start_token]],dtype=tf.int32), [batch_size], name='start_tokens')\n",
    "        inference_helper = tf.contrib.seq2seq.GreedyEmbeddingHelper(dec_embeddings,\n",
    "                                                                    start_tokens,\n",
    "                                                                    target_letter_to_int[end_token]\n",
    "                                                                   )\n",
    "        \n",
    "        inference_decoder = tf.contrib.seq2seq.BasicDecoder(dec_cell, \n",
    "                                                            inference_helper,\n",
    "                                                            enc_state,\n",
    "                                                            output_layer\n",
    "                                                           )\n",
    "        \n",
    "        inference_decoder_output, final_state, final_sequence_lengths = tf.contrib.seq2seq.dynamic_decode(inference_decoder,\n",
    "                                                                                                          impute_finished=True,\n",
    "                                                                                                          maximum_iterations=max_target_sequence_length\n",
    "                                                                                                         )\n",
    "        \n",
    "        print('training_decoder_output.rnn_output, inference_decoder_output.sample_id', training_decoder_output.rnn_output, inference_decoder_output.sample_id)\n",
    "        print('training_decoder_output, inference_decoder_output', training_decoder_output, inference_decoder_output)\n",
    "    return training_decoder_output, inference_decoder_output"
   ]
  },
  {
   "cell_type": "code",
   "execution_count": 11,
   "metadata": {
    "collapsed": true
   },
   "outputs": [],
   "source": [
    "def seq2seq_model(input_data, targets, target_sequence_length,max_target_sequence_length,\n",
    "                  source_sequence_length,source_vocab_size, target_vocab_size, enc_embedding_size, dec_embedding_size,\n",
    "                  rnn_size, num_layers\n",
    "                 ):\n",
    "\n",
    "    _, enc_state = encoding_layer(input_data=input_data, rnn_size=rnn_size, num_layers=num_layers,\n",
    "                                  source_sequence_length = source_sequence_length,\n",
    "                                  source_vocab_size = source_vocab_size,\n",
    "                                  encoding_embedding_size=embedding_dim\n",
    "                                 )\n",
    "    \n",
    "    dec_input = process_decoder_input(targets, word_to_id, batch_size)\n",
    "\n",
    "    training_decoder_output, inference_decoder_output = decoding_layer(target_letter_to_int=word_to_id,\n",
    "                                                                       decoding_embedding_size=embedding_dim,\n",
    "                                                                       num_layers = num_layers,\n",
    "                                                                       rnn_size=rnn_size,\n",
    "                                                                       target_sequence_length=target_sequence_length,\n",
    "                                                                       max_target_sequence_length=max_target_sequence_length,\n",
    "                                                                       enc_state=enc_state,\n",
    "                                                                       dec_input=dec_input\n",
    "                                                                      )\n",
    "    \n",
    "    return training_decoder_output,inference_decoder_output"
   ]
  },
  {
   "cell_type": "markdown",
   "metadata": {},
   "source": [
    "### Make Batch"
   ]
  },
  {
   "cell_type": "code",
   "execution_count": 12,
   "metadata": {
    "collapsed": true
   },
   "outputs": [],
   "source": [
    "file_name_queue = tf.train.string_input_producer(['inputs'])\n",
    "reader = tf.TFRecordReader()\n",
    "_, single_x = reader.read(file_name_queue)\n",
    "\n",
    "context_features = {\n",
    "    \"length\": tf.FixedLenFeature([], dtype=tf.int64)\n",
    "}\n",
    "sequence_features = {\n",
    "    \"tokens\": tf.FixedLenSequenceFeature([], dtype=tf.int64),\n",
    "    \"labels\": tf.FixedLenSequenceFeature([], dtype=tf.int64)\n",
    "}\n",
    "\n",
    "\n",
    "context_parsed, sequence_parsed = tf.parse_single_sequence_example(serialized=single_x,\n",
    "                                 context_features=context_features,\n",
    "                                 sequence_features=sequence_features\n",
    "                                )\n",
    "batch_seq, batch_x, batch_y = tf.train.batch(tensors=[context_parsed['length'],sequence_parsed['tokens'],sequence_parsed['labels']],\n",
    "                                                     batch_size=batch_size, \n",
    "                                                     capacity=5000,\n",
    "                                                     num_threads=1,\n",
    "                                             dynamic_pad=True\n",
    "                                                    )"
   ]
  },
  {
   "cell_type": "code",
   "execution_count": 13,
   "metadata": {
    "scrolled": false
   },
   "outputs": [
    {
     "name": "stdout",
     "output_type": "stream",
     "text": [
      "input_data fetched \n",
      "Tensor(\"concat_1:0\", shape=(8, 5), dtype=int32) 100\n"
     ]
    },
    {
     "ename": "TypeError",
     "evalue": "__init__() got an unexpected keyword argument 'attention_layer_size'",
     "output_type": "error",
     "traceback": [
      "\u001b[1;31m---------------------------------------------------------------------------\u001b[0m",
      "\u001b[1;31mTypeError\u001b[0m                                 Traceback (most recent call last)",
      "\u001b[1;32m<ipython-input-13-ba16135bcb33>\u001b[0m in \u001b[0;36m<module>\u001b[1;34m()\u001b[0m\n\u001b[0;32m     13\u001b[0m                                                                   \u001b[0mdec_embedding_size\u001b[0m \u001b[1;33m=\u001b[0m \u001b[0membedding_dim\u001b[0m\u001b[1;33m,\u001b[0m\u001b[1;33m\u001b[0m\u001b[0m\n\u001b[0;32m     14\u001b[0m                                                                   \u001b[0mrnn_size\u001b[0m \u001b[1;33m=\u001b[0m \u001b[0mhidden_size\u001b[0m\u001b[1;33m,\u001b[0m\u001b[1;33m\u001b[0m\u001b[0m\n\u001b[1;32m---> 15\u001b[1;33m                                                                   num_layers = 1)\n\u001b[0m\u001b[0;32m     16\u001b[0m \u001b[1;33m\u001b[0m\u001b[0m\n",
      "\u001b[1;32m<ipython-input-11-e0a5f9b68d2d>\u001b[0m in \u001b[0;36mseq2seq_model\u001b[1;34m(input_data, targets, target_sequence_length, max_target_sequence_length, source_sequence_length, source_vocab_size, target_vocab_size, enc_embedding_size, dec_embedding_size, rnn_size, num_layers)\u001b[0m\n\u001b[0;32m     19\u001b[0m                                                                        \u001b[0mmax_target_sequence_length\u001b[0m\u001b[1;33m=\u001b[0m\u001b[0mmax_target_sequence_length\u001b[0m\u001b[1;33m,\u001b[0m\u001b[1;33m\u001b[0m\u001b[0m\n\u001b[0;32m     20\u001b[0m                                                                        \u001b[0menc_state\u001b[0m\u001b[1;33m=\u001b[0m\u001b[0menc_state\u001b[0m\u001b[1;33m,\u001b[0m\u001b[1;33m\u001b[0m\u001b[0m\n\u001b[1;32m---> 21\u001b[1;33m                                                                        \u001b[0mdec_input\u001b[0m\u001b[1;33m=\u001b[0m\u001b[0mdec_input\u001b[0m\u001b[1;33m\u001b[0m\u001b[0m\n\u001b[0m\u001b[0;32m     22\u001b[0m                                                                       )\n\u001b[0;32m     23\u001b[0m \u001b[1;33m\u001b[0m\u001b[0m\n",
      "\u001b[1;32m<ipython-input-10-5428c5298a66>\u001b[0m in \u001b[0;36mdecoding_layer\u001b[1;34m(target_letter_to_int, decoding_embedding_size, num_layers, rnn_size, target_sequence_length, max_target_sequence_length, enc_state, dec_input)\u001b[0m\n\u001b[0;32m     13\u001b[0m \u001b[1;33m\u001b[0m\u001b[0m\n\u001b[0;32m     14\u001b[0m \u001b[1;31m#     dec_cell = tf.contrib.rnn.MultiRNNCell([make_cell(rnn_size) for _ in range(num_layers)])\u001b[0m\u001b[1;33m\u001b[0m\u001b[1;33m\u001b[0m\u001b[0m\n\u001b[1;32m---> 15\u001b[1;33m     \u001b[0mdec_cell\u001b[0m\u001b[1;33m,\u001b[0m \u001b[0mdec_state\u001b[0m \u001b[1;33m=\u001b[0m \u001b[0mattention_decode_cell\u001b[0m\u001b[1;33m(\u001b[0m\u001b[0mdec_input\u001b[0m\u001b[1;33m,\u001b[0m \u001b[0mhidden_size\u001b[0m\u001b[1;33m,\u001b[0m \u001b[0msequence_length\u001b[0m\u001b[1;33m=\u001b[0m\u001b[0msequence\u001b[0m\u001b[1;33m)\u001b[0m\u001b[1;33m\u001b[0m\u001b[0m\n\u001b[0m\u001b[0;32m     16\u001b[0m \u001b[1;33m\u001b[0m\u001b[0m\n\u001b[0;32m     17\u001b[0m     output_layer = core.Dense(target_vocab_size,\n",
      "\u001b[1;32m<ipython-input-9-6d24b6c1a18b>\u001b[0m in \u001b[0;36mattention_decode_cell\u001b[1;34m(enc_output, hidden_size, sequence_length)\u001b[0m\n\u001b[0;32m     10\u001b[0m     cell = tf.contrib.rnn.AttentionCellWrapper(single_cell,attention_mechanism,\n\u001b[0;32m     11\u001b[0m                                                \u001b[0mattention_layer_size\u001b[0m\u001b[1;33m=\u001b[0m\u001b[0mhidden_size\u001b[0m\u001b[1;33m,\u001b[0m\u001b[1;33m\u001b[0m\u001b[0m\n\u001b[1;32m---> 12\u001b[1;33m                                                \u001b[0malignment_history\u001b[0m\u001b[1;33m=\u001b[0m\u001b[1;32mFalse\u001b[0m\u001b[1;33m\u001b[0m\u001b[0m\n\u001b[0m\u001b[0;32m     13\u001b[0m                                               )\n\u001b[0;32m     14\u001b[0m     \u001b[0mdecoder_initial_state\u001b[0m \u001b[1;33m=\u001b[0m \u001b[0mcell\u001b[0m\u001b[1;33m.\u001b[0m\u001b[0mzero_state\u001b[0m\u001b[1;33m(\u001b[0m\u001b[0mbatch_size\u001b[0m\u001b[1;33m,\u001b[0m \u001b[0mtf\u001b[0m\u001b[1;33m.\u001b[0m\u001b[0mfloat32\u001b[0m\u001b[1;33m)\u001b[0m\u001b[1;33m\u001b[0m\u001b[0m\n",
      "\u001b[1;31mTypeError\u001b[0m: __init__() got an unexpected keyword argument 'attention_layer_size'"
     ]
    }
   ],
   "source": [
    "\n",
    "input_data, targets, lr, target_sequence_length, source_sequence_length, max_target_sequence_length = get_model_inputs()\n",
    "print('input_data fetched ')\n",
    "# Create the training and inference logits\n",
    "training_decoder_output, inference_decoder_output = seq2seq_model(input_data=input_data, \n",
    "                                                                  targets=targets, \n",
    "                                                                  target_sequence_length = target_sequence_length, \n",
    "                                                                  max_target_sequence_length = max_target_sequence_length, \n",
    "                                                                  source_sequence_length = source_sequence_length,\n",
    "                                                                  source_vocab_size = len(word_to_id),\n",
    "                                                                  target_vocab_size = len(word_to_id),\n",
    "                                                                  enc_embedding_size = embedding_dim, \n",
    "                                                                  dec_embedding_size = embedding_dim, \n",
    "                                                                  rnn_size = hidden_size, \n",
    "                                                                  num_layers = 1)\n",
    "\n"
   ]
  },
  {
   "cell_type": "code",
   "execution_count": null,
   "metadata": {
    "scrolled": false
   },
   "outputs": [],
   "source": [
    "num_epochs = 10\n",
    "delta = 0.5\n",
    "\n",
    "Ses = tf.Session()\n",
    "\n",
    "coord = tf.train.Coordinator()\n",
    "threads = tf.train.start_queue_runners(sess=Ses, coord=coord)\n",
    "Ses.run(tf.global_variables_initializer())\n",
    "\n",
    "print('start learning!')\n",
    "\n",
    "for epoch in range(num_epochs):\n",
    "    \n",
    "    print('{} start'.format(epoch))\n",
    "    \n",
    "    loss_train = 0\n",
    "    loss_test = 0\n",
    "    accuracy_train = 0\n",
    "    accuracy_test =0\n",
    "    \n",
    "    \n",
    "#     for i in range(1000):\n",
    "    i=0\n",
    "#     try:\n",
    "    while True:\n",
    "        seq_, x_in, y_in = Ses.run([batch_seq, batch_x, batch_y])\n",
    "#         print('y_in', np.reshape(y_in,[-1,1]))\n",
    "        y_in = np.reshape(y_in,[-1,1])\n",
    "        feed_data = {X:x_in, Y:y_in, seq_len:seq_}\n",
    "        print('x_in.shape, seq.shape', x_in.shape, seq_.shape, y_in.shape)\n",
    "        print('X ',X, 'Y',Y)\n",
    "#         lo, acc, opt = Ses.run([loss, accuracy, optimizer], feed_dict=feed_data)\n",
    "        lo, opt = Ses.run([loss, optimizer], feed_dict=feed_data)\n",
    "#         accuracy_train+=acc\n",
    "        loss_train = lo * delta + loss_train * (1-delta)\n",
    "        if i%100 ==0:\n",
    "            print(' {} : loss {} acc {}'.format(i, lo, accuracy_train))\n",
    "#     except:\n",
    "#         print('batch : ',i)\n",
    "#         accuracy_train /="
   ]
  }
 ],
 "metadata": {
  "anaconda-cloud": {},
  "kernelspec": {
   "display_name": "Python 3",
   "language": "python",
   "name": "python3"
  },
  "language_info": {
   "codemirror_mode": {
    "name": "ipython",
    "version": 3
   },
   "file_extension": ".py",
   "mimetype": "text/x-python",
   "name": "python",
   "nbconvert_exporter": "python",
   "pygments_lexer": "ipython3",
   "version": "3.6.1"
  }
 },
 "nbformat": 4,
 "nbformat_minor": 1
}

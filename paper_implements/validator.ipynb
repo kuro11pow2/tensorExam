{
 "cells": [
  {
   "cell_type": "code",
   "execution_count": 1,
   "metadata": {
    "collapsed": true
   },
   "outputs": [],
   "source": [
    "import tensorflow as tf\n",
    "import pickle\n",
    "import os\n",
    "import shutil\n",
    "import tempfile\n",
    "import datetime\n",
    "from glob import iglob\n",
    "import time\n",
    "# import attention\n",
    "from collections import deque\n",
    "import pickle\n",
    "import pyreader\n",
    "import numpy as np\n",
    "from attention import Batcher, construct_feed_dict, extract_results, get_evals,AttentionModel,get_initial_state"
   ]
  },
  {
   "cell_type": "code",
   "execution_count": 30,
   "metadata": {
    "collapsed": true
   },
   "outputs": [],
   "source": [
    "type_max_rands = {\n",
    "    \"var\": 4750, \"function\": 2900, \"Class\": 440, \"attribute\": 2400, \"arg\": 2400\n",
    "}\n",
    "def map_token(map, token):\n",
    "    mask = 0\n",
    "    if token.startswith(\"(*) \"):\n",
    "        mask = 1\n",
    "        token = token.replace(\"(*) \", \"\")\n",
    "\n",
    "    if token in map:\n",
    "        return map[token], mask\n",
    "\n",
    "    # Not in map, is it an identifier?\n",
    "    if \"|\" in token:\n",
    "        spl = token.split(\"|\")\n",
    "        if spl[1] in map:\n",
    "            return map[spl[1]]\n",
    "        elif spl[0] in map:\n",
    "            return map[spl[0]]\n",
    "\n",
    "    elif any([token.startswith(prefix) for prefix in [key for key in type_max_rands]]):\n",
    "        return pyreader.oov_id\n",
    "\n",
    "    raise KeyError(token)"
   ]
  },
  {
   "cell_type": "code",
   "execution_count": 52,
   "metadata": {
    "collapsed": true
   },
   "outputs": [],
   "source": [
    "seq_length = 1\n",
    "batch_size = 1\n",
    "hidden_size = 50\n",
    "num_samples = 3\n",
    "lambda_type='state'\n",
    "max_attention=3\n",
    "model_path = './model/2017-07-01--01-22--006942'\n",
    "data_path='data_samples/mapping.map'\n",
    "with open(data_path, \"rb\") as f:\n",
    "    word_to_id = pickle.load(f)\n",
    "vocab_size = len(word_to_id)\n",
    "inv_map = {v: k for k, v in word_to_id.items()}"
   ]
  },
  {
   "cell_type": "code",
   "execution_count": 89,
   "metadata": {
    "collapsed": true
   },
   "outputs": [],
   "source": [
    "all_test_cases = [\"import\", \"os\", \"\\n\", \"class\", \"(*) Class291\", \":\", \"\\n\", \"§<indent>§\", \"def\", \"__init__\", \"(\", \"self\", \",\",\n",
    "     \"(*) arg123\", \")\", \":\", \"\\n\", \"§<indent>§\", \"self\", \".\", \"(*) attribute|attribute172\", \"=\", \"arg123\", \"\\n\", \"\\n\",\n",
    "     \"§<dedent>§\",\n",
    "     \"def\", \"(*) function234\", \"(\", \"self\", \",\", \"(*) filename|arg432\", \")\", \":\", \"\\n\", \"§<indent>§\", \"with\", \"open\",\n",
    "     \"(\", \"filename|arg432\", \",\", \"'r'\", \")\", \"as\", \"(*) f|var76\", \":\", \"\\n\", \"§<indent>§\", \"(*) lines|var91\", \"=\",\n",
    "     \"f|var76\", \".\",\n",
    "     \"readlines\", \"(\", \")\", \"\\n\", \"§<dedent>§\", \"return\", \"len\", \"(\", \"lines|var91\", \")\", \"\\n\", \"\\n\", \"§<dedent>§\",\n",
    "     \"def\", \"(*) func|function921\", \"(\", \"self\", \",\", \"(*) arg191\", \")\", \":\", \"\\n\", \"§<indent>§\", \"(*) var543\", \"=\",\n",
    "     \"os\", \".\", \"path\", \".\", \"join\", \"(\", \"self\", \".\"]"
   ]
  },
  {
   "cell_type": "code",
   "execution_count": 93,
   "metadata": {
    "scrolled": false
   },
   "outputs": [
    {
     "name": "stdout",
     "output_type": "stream",
     "text": [
      "Constructing Attention Cell\n",
      "INFO:tensorflow:Restoring parameters from ./model/2017-07-01--01-22--006942\\model.tf\n",
      "predict import\n",
      "predict os\n",
      "predict \n",
      "\n",
      "predict class\n",
      "predict Class291\n",
      "predict :\n",
      "predict \n",
      "\n",
      "predict §<indent>§\n",
      "predict def\n",
      "predict __init__\n",
      "predict §PAD§\n",
      "predict self\n",
      "predict §PAD§\n",
      "predict §OOV§\n",
      "predict )\n",
      "predict :\n",
      "predict \n",
      "\n",
      "predict §<indent>§\n",
      "predict self\n",
      "predict §PAD§\n"
     ]
    },
    {
     "ename": "KeyError",
     "evalue": "'attribute|attribute172'",
     "output_type": "error",
     "traceback": [
      "\u001b[1;31m---------------------------------------------------------------------------\u001b[0m",
      "\u001b[1;31mKeyError\u001b[0m                                  Traceback (most recent call last)",
      "\u001b[1;32m<ipython-input-93-13cbc82ac5ec>\u001b[0m in \u001b[0;36m<module>\u001b[1;34m()\u001b[0m\n\u001b[0;32m     32\u001b[0m     \u001b[1;32mfor\u001b[0m \u001b[0mi\u001b[0m\u001b[1;33m,\u001b[0m \u001b[0mtoken\u001b[0m \u001b[1;32min\u001b[0m \u001b[0menumerate\u001b[0m\u001b[1;33m(\u001b[0m\u001b[0mall_test_cases\u001b[0m\u001b[1;33m[\u001b[0m\u001b[1;33m:\u001b[0m\u001b[1;33m-\u001b[0m\u001b[1;36m5\u001b[0m\u001b[1;33m]\u001b[0m\u001b[1;33m)\u001b[0m\u001b[1;33m:\u001b[0m\u001b[1;33m\u001b[0m\u001b[0m\n\u001b[0;32m     33\u001b[0m         \u001b[0mlst\u001b[0m \u001b[1;33m=\u001b[0m\u001b[0mnp\u001b[0m\u001b[1;33m.\u001b[0m\u001b[0mones\u001b[0m\u001b[1;33m(\u001b[0m\u001b[1;33m[\u001b[0m\u001b[1;36m1\u001b[0m\u001b[1;33m,\u001b[0m \u001b[1;36m1\u001b[0m\u001b[1;33m]\u001b[0m\u001b[1;33m)\u001b[0m\u001b[1;33m\u001b[0m\u001b[0m\n\u001b[1;32m---> 34\u001b[1;33m         \u001b[0mtoken_id\u001b[0m \u001b[1;33m=\u001b[0m \u001b[0mmap_token\u001b[0m\u001b[1;33m(\u001b[0m\u001b[0mword_to_id\u001b[0m\u001b[1;33m,\u001b[0m \u001b[0mtoken\u001b[0m\u001b[1;33m)\u001b[0m\u001b[1;33m\u001b[0m\u001b[0m\n\u001b[0m\u001b[0;32m     35\u001b[0m \u001b[1;33m\u001b[0m\u001b[0m\n\u001b[0;32m     36\u001b[0m         \u001b[1;32mif\u001b[0m \u001b[0misinstance\u001b[0m\u001b[1;33m(\u001b[0m\u001b[0mtoken_id\u001b[0m\u001b[1;33m,\u001b[0m \u001b[0mtuple\u001b[0m\u001b[1;33m)\u001b[0m\u001b[1;33m:\u001b[0m\u001b[1;33m\u001b[0m\u001b[0m\n",
      "\u001b[1;32m<ipython-input-30-2bd44edcec1f>\u001b[0m in \u001b[0;36mmap_token\u001b[1;34m(map, token)\u001b[0m\n\u001b[0;32m     22\u001b[0m         \u001b[1;32mreturn\u001b[0m \u001b[0mpyreader\u001b[0m\u001b[1;33m.\u001b[0m\u001b[0moov_id\u001b[0m\u001b[1;33m\u001b[0m\u001b[0m\n\u001b[0;32m     23\u001b[0m \u001b[1;33m\u001b[0m\u001b[0m\n\u001b[1;32m---> 24\u001b[1;33m     \u001b[1;32mraise\u001b[0m \u001b[0mKeyError\u001b[0m\u001b[1;33m(\u001b[0m\u001b[0mtoken\u001b[0m\u001b[1;33m)\u001b[0m\u001b[1;33m\u001b[0m\u001b[0m\n\u001b[0m",
      "\u001b[1;31mKeyError\u001b[0m: 'attribute|attribute172'"
     ]
    }
   ],
   "source": [
    "with tf.Graph().as_default(), tf.Session() as session:\n",
    "    masks_ = tf.placeholder(tf.bool, [seq_length, batch_size, 1], name=\"masks\")\n",
    "    input_data_ = tf.placeholder(tf.int32, [seq_length, batch_size], name=\"inputs\")\n",
    "    targets_ = tf.placeholder(tf.float32, [seq_length, batch_size], name=\"targets\")\n",
    "    \n",
    "    a = AttentionModel(input_data=input_data_,\n",
    "                                 targets=targets_,\n",
    "                                 masks=masks_,\n",
    "                                 is_training=False,\n",
    "                                 attention_num= 1,\n",
    "                                 batch_size=batch_size,\n",
    "                                 hidden_size=hidden_size,\n",
    "                                 num_samples=num_samples,\n",
    "                                 seq_length=seq_length,\n",
    "                                 vocab_size=vocab_size,\n",
    "                                 lambda_type=lambda_type,\n",
    "                                 max_attention=max_attention)\n",
    "    \n",
    "    \n",
    "    variables = tf.trainable_variables()\n",
    "    session.run(tf.global_variables_initializer())\n",
    "    saver = tf.train.Saver(variables)\n",
    "    saver.restore(session, os.path.join(model_path, \"model.tf\"))\n",
    "    \n",
    "    prediction_op = tf.nn.top_k(a.predict, 5)\n",
    "    \n",
    "    to_eval = [prediction_op[0], prediction_op[1]]\n",
    "    evaluation = get_evals(to_eval, a)\n",
    "    \n",
    "    state, att_states, att_ids, att_counts = get_initial_state(a, session)\n",
    "    \n",
    "    for i, token in enumerate(all_test_cases[:-5]):\n",
    "        lst =np.ones([1, 1])\n",
    "        token_id = map_token(word_to_id, token)\n",
    "        \n",
    "        if isinstance(token_id, tuple):\n",
    "            data = (np.array([[token_id[0]]]), np.array([[1]]), np.array([lst]), np.array([1]), np.array([1]))\n",
    "        else:\n",
    "            data = (np.array([[token_id]]), np.array([[1]]), np.array([lst]), np.array([1]), np.array([1]))\n",
    "        feed_dict, _ = construct_feed_dict(a, data, state, att_states, att_ids, att_counts)\n",
    "        \n",
    "        results = session.run(evaluation, feed_dict)\n",
    "#         results_match = ''.join(str(results[1][0][0]))\n",
    "#         actual = [map_token(word_to_id, t) for t in all_test_cases[i + 1:i + 5 + 1]]\n",
    "#         act = \" \".join([inv_map[t[0]].replace(\"\\n\", \"<newline>\") for t in actual])\n",
    "#         print('=============')\n",
    "        print('predict', inv_map[results[1][0][1]])\n",
    "#         print('real', act)"
   ]
  },
  {
   "cell_type": "code",
   "execution_count": null,
   "metadata": {
    "collapsed": true
   },
   "outputs": [],
   "source": []
  }
 ],
 "metadata": {
  "kernelspec": {
   "display_name": "Python [conda root]",
   "language": "python",
   "name": "conda-root-py"
  },
  "language_info": {
   "codemirror_mode": {
    "name": "ipython",
    "version": 3
   },
   "file_extension": ".py",
   "mimetype": "text/x-python",
   "name": "python",
   "nbconvert_exporter": "python",
   "pygments_lexer": "ipython3",
   "version": "3.6.1"
  }
 },
 "nbformat": 4,
 "nbformat_minor": 2
}

{
 "cells": [
  {
   "cell_type": "code",
   "execution_count": 1,
   "metadata": {
    "collapsed": true
   },
   "outputs": [],
   "source": [
    "import tensorflow as tf\n",
    "import pickle\n",
    "import os\n",
    "import shutil\n",
    "import tempfile\n",
    "import datetime\n",
    "from glob import iglob\n",
    "import time\n",
    "# import attention\n",
    "from collections import deque\n",
    "import pickle\n",
    "import pyreader\n",
    "import numpy as np\n",
    "import csv\n",
    "from batchmake import Batcher\n",
    "import pprint\n",
    "tf.set_random_seed(777)\n",
    "from tensorflow.python.layers import core"
   ]
  },
  {
   "cell_type": "code",
   "execution_count": 2,
   "metadata": {},
   "outputs": [
    {
     "name": "stdout",
     "output_type": "stream",
     "text": [
      "22673\n"
     ]
    }
   ],
   "source": [
    "datas= 'data_samples/'\n",
    "vocabulary = 'vocab.csv'\n",
    "vocabs = []\n",
    "with open(vocabulary, 'r', newline='', encoding='utf-8') as vocab:\n",
    "    words = csv.reader(vocab)\n",
    "    for i, word in enumerate(words):\n",
    "        vocabs.append(word[0])\n",
    "#         vocabs[word[0]]=i\n",
    "#         vocabs[word] = i\n",
    "print(len(vocabs))\n",
    "word_to_id = {word: i for i, word in enumerate(vocabs)}\n",
    "id_to_word = {i:word for i, word in enumerate(vocabs)}"
   ]
  },
  {
   "cell_type": "code",
   "execution_count": 3,
   "metadata": {},
   "outputs": [
    {
     "data": {
      "text/plain": [
       "('<PAD>', 0)"
      ]
     },
     "execution_count": 3,
     "metadata": {},
     "output_type": "execute_result"
    }
   ],
   "source": [
    "id_to_word[0], word_to_id['<PAD>']"
   ]
  },
  {
   "cell_type": "code",
   "execution_count": 4,
   "metadata": {
    "collapsed": true
   },
   "outputs": [],
   "source": [
    "hidden_size=32\n",
    "sequence=5\n",
    "embedding_dim=50\n",
    "attention_size = 50\n",
    "batch_size=16\n",
    "vocab_size=len(vocabs)\n",
    "checkpoint = './seq2seq_test.ckpt'"
   ]
  },
  {
   "cell_type": "code",
   "execution_count": 5,
   "metadata": {
    "collapsed": true
   },
   "outputs": [],
   "source": [
    "def source_to_seq(text):\n",
    "    '''Prepare the text for the model'''\n",
    "    sequence_length = 5\n",
    "    return [word_to_id.get(word, word_to_id['<UNK>']) for word in text]+ [word_to_id['<PAD>']]*(sequence_length-len(text))"
   ]
  },
  {
   "cell_type": "code",
   "execution_count": 42,
   "metadata": {},
   "outputs": [
    {
     "name": "stdout",
     "output_type": "stream",
     "text": [
      "[12, 0, 0, 0, 0]\n"
     ]
    }
   ],
   "source": [
    "input_sentence = 'import'\n",
    "text = source_to_seq([input_sentence])\n",
    "print(text)"
   ]
  },
  {
   "cell_type": "code",
   "execution_count": 54,
   "metadata": {},
   "outputs": [
    {
     "name": "stdout",
     "output_type": "stream",
     "text": [
      "[38, 455, 19, 3138, 0]\n"
     ]
    }
   ],
   "source": [
    "text = [38,455,19,3138,0]\n",
    "print(text)\n",
    "text = [8,0,0,0,0]"
   ]
  },
  {
   "cell_type": "code",
   "execution_count": 55,
   "metadata": {
    "scrolled": false
   },
   "outputs": [
    {
     "name": "stdout",
     "output_type": "stream",
     "text": [
      "INFO:tensorflow:Restoring parameters from ./seq2seq_test/seq2seq_test.ckpt\n",
      "loaded_graph.get_all_collection_keys() ['trainable_variables', 'model_variables', 'variables', 'while_context', 'cond_context', 'train_op', 'queue_runners', 'summaries']\n",
      "Tensor(\"predictions_sample_id:0\", shape=(16, ?), dtype=int32)\n",
      "Original Text: import\n",
      "\n",
      "Source\n",
      "  Word Ids:    [8, 0, 0, 0, 0]\n",
      "  Input Words: return <PAD> <PAD> <PAD> <PAD>\n",
      "[TopKV2(values=array([[ 3.81096935,  2.66198564,  2.66166663,  2.63152862,  2.29902101],\n",
      "       [ 3.61593962,  2.00625348,  1.89728355,  1.65010238,  1.38964272]], dtype=float32), indices=array([[ 95,  58,   3,   4,   2],\n",
      "       [  3, 402,  30,  95,   1]])), array([[95,  3],\n",
      "       [95,  3],\n",
      "       [95,  3],\n",
      "       [95,  3],\n",
      "       [95,  3],\n",
      "       [95,  3],\n",
      "       [95,  3],\n",
      "       [95,  3],\n",
      "       [95,  3],\n",
      "       [95,  3],\n",
      "       [95,  3],\n",
      "       [95,  3],\n",
      "       [95,  3],\n",
      "       [95,  3],\n",
      "       [95,  3],\n",
      "       [95,  3]])]\n"
     ]
    }
   ],
   "source": [
    "checkpoint = './seq2seq_test/seq2seq_test.ckpt'\n",
    "loaded_graph = tf.Graph()\n",
    "\n",
    "with tf.Session(graph=loaded_graph) as Ses:\n",
    "    loader = tf.train.import_meta_graph(checkpoint +'.meta')\n",
    "    loader.restore(Ses, checkpoint)\n",
    "    \n",
    "    print('loaded_graph.get_all_collection_keys()',loaded_graph.get_all_collection_keys())\n",
    "    input_data = loaded_graph.get_tensor_by_name('inputs_xdata:0')\n",
    "    logits_ = loaded_graph.get_tensor_by_name('predictions_sample_id:0')\n",
    "    logits = loaded_graph.get_tensor_by_name('predictions_output:0')\n",
    "    \n",
    "    source_sequence_length = loaded_graph.get_tensor_by_name('source_sequence_length:0')\n",
    "    target_sequence_length = loaded_graph.get_tensor_by_name('target_sequence_length:0')\n",
    "\n",
    "    \n",
    "    print(logits_)\n",
    "    logits = tf.nn.top_k(logits[0],5)\n",
    "    answer_logits = Ses.run([logits,logits_], {input_data: [text]*batch_size, \n",
    "                                      target_sequence_length: [len(text)]*batch_size, \n",
    "                                      source_sequence_length: [len(text)]*batch_size})\n",
    "    \n",
    "    \n",
    "pad = word_to_id['<PAD>']\n",
    "\n",
    "print('Original Text:', input_sentence)\n",
    "\n",
    "print('\\nSource')\n",
    "print('  Word Ids:    {}'.format([i for i in text]))\n",
    "print('  Input Words: {}'.format(\" \".join([id_to_word[i] for i in text])))\n",
    "print(answer_logits)"
   ]
  },
  {
   "cell_type": "code",
   "execution_count": 56,
   "metadata": {
    "scrolled": false
   },
   "outputs": [
    {
     "name": "stdout",
     "output_type": "stream",
     "text": [
      "[[ 95  58   3   4   2]\n",
      " [  3 402  30  95   1]]\n",
      "\n",
      "Target\n",
      "  Word Ids:       [95, 58, 3, 4, 2]\n",
      "  Response Words: 3 a <EOS> ' <GO>\n"
     ]
    }
   ],
   "source": [
    "# answer_logits[0].shape\n",
    "print(answer_logits[0][1])\n",
    "print('\\nTarget')\n",
    "print('  Word Ids:       {}'.format([i for i in answer_logits[0][1][0] if i != pad]))\n",
    "print('  Response Words: {}'.format(\" \".join([id_to_word[i] for i in answer_logits[0][1][0] if i != pad])))"
   ]
  }
 ],
 "metadata": {
  "kernelspec": {
   "display_name": "Python 3",
   "language": "python",
   "name": "python3"
  }
 },
 "nbformat": 4,
 "nbformat_minor": 2
}

{
 "cells": [
  {
   "cell_type": "code",
   "execution_count": 1,
   "metadata": {
    "collapsed": true
   },
   "outputs": [],
   "source": [
    "import tensorflow as tf\n",
    "import pickle\n",
    "import os\n",
    "import shutil\n",
    "import tempfile\n",
    "import datetime\n",
    "from glob import iglob\n",
    "import time\n",
    "# import attention\n",
    "from collections import deque\n",
    "import pickle\n",
    "import pyreader\n",
    "import numpy as np\n",
    "import csv\n",
    "from batchmake import Batcher\n",
    "import pprint\n",
    "tf.set_random_seed(777)\n",
    "from tensorflow.python.layers import core"
   ]
  },
  {
   "cell_type": "code",
   "execution_count": 2,
   "metadata": {},
   "outputs": [
    {
     "name": "stdout",
     "output_type": "stream",
     "text": [
      "50000\n"
     ]
    }
   ],
   "source": [
    "datas= 'data_samples/'\n",
    "vocabulary = 'vocab.csv'\n",
    "vocabs = []\n",
    "with open(vocabulary, 'r', newline='', encoding='utf-8') as vocab:\n",
    "    words = csv.reader(vocab)\n",
    "    for i, word in enumerate(words):\n",
    "        vocabs.append(word[0])\n",
    "#         vocabs[word[0]]=i\n",
    "#         vocabs[word] = i\n",
    "print(len(vocabs))\n",
    "word_to_id = {word: i for i, word in enumerate(vocabs)}\n",
    "id_to_word = {i:word for i, word in enumerate(vocabs)}"
   ]
  },
  {
   "cell_type": "code",
   "execution_count": 3,
   "metadata": {},
   "outputs": [
    {
     "data": {
      "text/plain": [
       "('<PAD>', 0)"
      ]
     },
     "execution_count": 3,
     "metadata": {},
     "output_type": "execute_result"
    }
   ],
   "source": [
    "id_to_word[0], word_to_id['<PAD>']"
   ]
  },
  {
   "cell_type": "code",
   "execution_count": 4,
   "metadata": {
    "collapsed": true
   },
   "outputs": [],
   "source": [
    "hidden_size=32\n",
    "sequence=5\n",
    "embedding_dim=50\n",
    "attention_size = 50\n",
    "batch_size=16\n",
    "vocab_size=len(vocabs)\n",
    "checkpoint = './seq2seq_test.ckpt'"
   ]
  },
  {
   "cell_type": "code",
   "execution_count": 5,
   "metadata": {
    "collapsed": true
   },
   "outputs": [],
   "source": [
    "def source_to_seq(text):\n",
    "    '''Prepare the text for the model'''\n",
    "    sequence_length = 5\n",
    "    return [word_to_id.get(word, word_to_id['<UNK>']) for word in text]+ [word_to_id['<PAD>']]*(sequence_length-len(text))"
   ]
  },
  {
   "cell_type": "code",
   "execution_count": 39,
   "metadata": {},
   "outputs": [
    {
     "name": "stdout",
     "output_type": "stream",
     "text": [
      "[11, 0, 0, 0, 0]\n"
     ]
    }
   ],
   "source": [
    "input_sentence = 'from'\n",
    "text = source_to_seq([input_sentence])\n",
    "print(text)"
   ]
  },
  {
   "cell_type": "code",
   "execution_count": 7,
   "metadata": {},
   "outputs": [
    {
     "name": "stdout",
     "output_type": "stream",
     "text": [
      "[38, 455, 19, 3138, 0]\n"
     ]
    }
   ],
   "source": [
    "text = [38,455,19,3138,0]\n",
    "print(text)\n",
    "text = [8,0,0,0,0]"
   ]
  },
  {
   "cell_type": "code",
   "execution_count": 40,
   "metadata": {
    "scrolled": false
   },
   "outputs": [
    {
     "name": "stdout",
     "output_type": "stream",
     "text": [
      "INFO:tensorflow:Restoring parameters from ./seq2seq_test/seq2seq_test.ckpt\n",
      "loaded_graph.get_all_collection_keys() ['trainable_variables', 'model_variables', 'variables', 'while_context', 'cond_context', 'train_op', 'queue_runners', 'summaries']\n",
      "predictions_sample_id Tensor(\"predictions_sample_id:0\", shape=(16, ?), dtype=int32)\n",
      "predictions_output Tensor(\"predictions_output:0\", shape=(16, ?, 50000), dtype=float32)\n",
      "Original Text: from\n",
      "\n",
      "Source\n",
      "  Word Ids:    [11, 0, 0, 0, 0]\n",
      "  Input Words: from <PAD> <PAD> <PAD> <PAD>\n"
     ]
    }
   ],
   "source": [
    "checkpoint = './seq2seq_test/seq2seq_test.ckpt'\n",
    "loaded_graph = tf.Graph()\n",
    "\n",
    "with tf.Session(graph=loaded_graph) as Ses:\n",
    "    loader = tf.train.import_meta_graph(checkpoint +'.meta')\n",
    "    loader.restore(Ses, checkpoint)\n",
    "    \n",
    "    print('loaded_graph.get_all_collection_keys()',loaded_graph.get_all_collection_keys())\n",
    "    \n",
    "    input_data = loaded_graph.get_tensor_by_name('inputs_xdata:0')\n",
    "    \n",
    "    predictions_sample_id = loaded_graph.get_tensor_by_name('predictions_sample_id:0')\n",
    "    \n",
    "    predictions_output = loaded_graph.get_tensor_by_name('predictions_output:0')\n",
    "    \n",
    "    source_sequence_length = loaded_graph.get_tensor_by_name('source_sequence_length:0')\n",
    "    \n",
    "    target_sequence_length = loaded_graph.get_tensor_by_name('target_sequence_length:0')\n",
    "\n",
    "    \n",
    "    print('predictions_sample_id', predictions_sample_id)\n",
    "    print('predictions_output', predictions_output)\n",
    "    logits = tf.nn.top_k(predictions_output,2)\n",
    "    answer_logits = Ses.run([predictions_sample_id,predictions_output, logits], {input_data: [text]*batch_size, \n",
    "                                      target_sequence_length: [len(text)]*batch_size, \n",
    "                                      source_sequence_length: [len(text)]*batch_size})\n",
    "    \n",
    "\n",
    "pad = word_to_id['<PAD>']\n",
    "\n",
    "print('Original Text:', input_sentence)\n",
    "\n",
    "print('\\nSource')\n",
    "print('  Word Ids:    {}'.format([i for i in text]))\n",
    "print('  Input Words: {}'.format(\" \".join([id_to_word[i] for i in text])))\n",
    "# print(answer_logits)"
   ]
  },
  {
   "cell_type": "code",
   "execution_count": 41,
   "metadata": {
    "scrolled": false
   },
   "outputs": [
    {
     "data": {
      "text/plain": [
       "[array([[ 1,  6, 28,  7,  1],\n",
       "        [ 1,  6, 28,  7,  1],\n",
       "        [ 1,  6, 28,  7,  1],\n",
       "        [ 1,  6, 28,  7,  1],\n",
       "        [ 1,  6, 28,  7,  1],\n",
       "        [ 1,  6, 28,  7,  1],\n",
       "        [ 1,  6, 28,  7,  1],\n",
       "        [ 1,  6, 28,  7,  1],\n",
       "        [ 1,  6, 28,  7,  1],\n",
       "        [ 1,  6, 28,  7,  1],\n",
       "        [ 1,  6, 28,  7,  1],\n",
       "        [ 1,  6, 28,  7,  1],\n",
       "        [ 1,  6, 28,  7,  1],\n",
       "        [ 1,  6, 28,  7,  1],\n",
       "        [ 1,  6, 28,  7,  1],\n",
       "        [ 1,  6, 28,  7,  1]]),\n",
       " array([[[-12.67961693,   4.91659307,   0.69848436, ..., -12.5837059 ,\n",
       "          -12.82304096, -12.40411568],\n",
       "         [-17.94694328,   0.02150154,   0.5347687 , ..., -17.7618885 ,\n",
       "          -18.17826653, -17.29329491],\n",
       "         [-12.93938828,   3.81108475,  -1.23044753, ..., -12.69342613,\n",
       "          -13.24467278, -12.40466785],\n",
       "         [-14.24251556,  -0.24906158,  -3.19611907, ..., -14.00439072,\n",
       "          -14.61912727, -13.54907036],\n",
       "         [-18.90672493,   5.34406471,  -3.88661218, ..., -18.74720192,\n",
       "          -19.20967674, -18.25076294]],\n",
       " \n",
       "        [[-12.67961693,   4.91659307,   0.69848436, ..., -12.5837059 ,\n",
       "          -12.82304096, -12.40411568],\n",
       "         [-17.94694328,   0.02150154,   0.5347687 , ..., -17.7618885 ,\n",
       "          -18.17826653, -17.29329491],\n",
       "         [-12.93938828,   3.81108475,  -1.23044753, ..., -12.69342613,\n",
       "          -13.24467278, -12.40466785],\n",
       "         [-14.24251556,  -0.24906158,  -3.19611907, ..., -14.00439072,\n",
       "          -14.61912727, -13.54907036],\n",
       "         [-18.90672493,   5.34406471,  -3.88661218, ..., -18.74720192,\n",
       "          -19.20967674, -18.25076294]],\n",
       " \n",
       "        [[-12.67961693,   4.91659307,   0.69848436, ..., -12.5837059 ,\n",
       "          -12.82304096, -12.40411568],\n",
       "         [-17.94694328,   0.02150154,   0.5347687 , ..., -17.7618885 ,\n",
       "          -18.17826653, -17.29329491],\n",
       "         [-12.93938828,   3.81108475,  -1.23044753, ..., -12.69342613,\n",
       "          -13.24467278, -12.40466785],\n",
       "         [-14.24251556,  -0.24906158,  -3.19611907, ..., -14.00439072,\n",
       "          -14.61912727, -13.54907036],\n",
       "         [-18.90672493,   5.34406471,  -3.88661218, ..., -18.74720192,\n",
       "          -19.20967674, -18.25076294]],\n",
       " \n",
       "        ..., \n",
       "        [[-12.67961693,   4.91659307,   0.69848436, ..., -12.5837059 ,\n",
       "          -12.82304096, -12.40411568],\n",
       "         [-17.94694328,   0.02150154,   0.5347687 , ..., -17.7618885 ,\n",
       "          -18.17826653, -17.29329491],\n",
       "         [-12.93938828,   3.81108475,  -1.23044753, ..., -12.69342613,\n",
       "          -13.24467278, -12.40466785],\n",
       "         [-14.24251556,  -0.24906158,  -3.19611907, ..., -14.00439072,\n",
       "          -14.61912727, -13.54907036],\n",
       "         [-18.90672493,   5.34406471,  -3.88661218, ..., -18.74720192,\n",
       "          -19.20967674, -18.25076294]],\n",
       " \n",
       "        [[-12.67961693,   4.91659307,   0.69848436, ..., -12.5837059 ,\n",
       "          -12.82304096, -12.40411568],\n",
       "         [-17.94694328,   0.02150154,   0.5347687 , ..., -17.7618885 ,\n",
       "          -18.17826653, -17.29329491],\n",
       "         [-12.93938828,   3.81108475,  -1.23044753, ..., -12.69342613,\n",
       "          -13.24467278, -12.40466785],\n",
       "         [-14.24251556,  -0.24906158,  -3.19611907, ..., -14.00439072,\n",
       "          -14.61912727, -13.54907036],\n",
       "         [-18.90672493,   5.34406471,  -3.88661218, ..., -18.74720192,\n",
       "          -19.20967674, -18.25076294]],\n",
       " \n",
       "        [[-12.67961693,   4.91659307,   0.69848436, ..., -12.5837059 ,\n",
       "          -12.82304096, -12.40411568],\n",
       "         [-17.94694328,   0.02150154,   0.5347687 , ..., -17.7618885 ,\n",
       "          -18.17826653, -17.29329491],\n",
       "         [-12.93938828,   3.81108475,  -1.23044753, ..., -12.69342613,\n",
       "          -13.24467278, -12.40466785],\n",
       "         [-14.24251556,  -0.24906158,  -3.19611907, ..., -14.00439072,\n",
       "          -14.61912727, -13.54907036],\n",
       "         [-18.90672493,   5.34406471,  -3.88661218, ..., -18.74720192,\n",
       "          -19.20967674, -18.25076294]]], dtype=float32),\n",
       " TopKV2(values=array([[[ 4.91659307,  4.81002665],\n",
       "        [ 9.95845032,  8.70627594],\n",
       "        [ 8.97450638,  8.82220364],\n",
       "        [ 8.08561707,  4.47488546],\n",
       "        [ 5.34406471,  0.75754118]],\n",
       "\n",
       "       [[ 4.91659307,  4.81002665],\n",
       "        [ 9.95845032,  8.70627594],\n",
       "        [ 8.97450638,  8.82220364],\n",
       "        [ 8.08561707,  4.47488546],\n",
       "        [ 5.34406471,  0.75754118]],\n",
       "\n",
       "       [[ 4.91659307,  4.81002665],\n",
       "        [ 9.95845032,  8.70627594],\n",
       "        [ 8.97450638,  8.82220364],\n",
       "        [ 8.08561707,  4.47488546],\n",
       "        [ 5.34406471,  0.75754118]],\n",
       "\n",
       "       [[ 4.91659307,  4.81002665],\n",
       "        [ 9.95845032,  8.70627594],\n",
       "        [ 8.97450638,  8.82220364],\n",
       "        [ 8.08561707,  4.47488546],\n",
       "        [ 5.34406471,  0.75754118]],\n",
       "\n",
       "       [[ 4.91659307,  4.81002665],\n",
       "        [ 9.95845032,  8.70627594],\n",
       "        [ 8.97450638,  8.82220364],\n",
       "        [ 8.08561707,  4.47488546],\n",
       "        [ 5.34406471,  0.75754118]],\n",
       "\n",
       "       [[ 4.91659307,  4.81002665],\n",
       "        [ 9.95845032,  8.70627594],\n",
       "        [ 8.97450638,  8.82220364],\n",
       "        [ 8.08561707,  4.47488546],\n",
       "        [ 5.34406471,  0.75754118]],\n",
       "\n",
       "       [[ 4.91659307,  4.81002665],\n",
       "        [ 9.95845032,  8.70627594],\n",
       "        [ 8.97450638,  8.82220364],\n",
       "        [ 8.08561707,  4.47488546],\n",
       "        [ 5.34406471,  0.75754118]],\n",
       "\n",
       "       [[ 4.91659307,  4.81002665],\n",
       "        [ 9.95845032,  8.70627594],\n",
       "        [ 8.97450638,  8.82220364],\n",
       "        [ 8.08561707,  4.47488546],\n",
       "        [ 5.34406471,  0.75754118]],\n",
       "\n",
       "       [[ 4.91659307,  4.81002665],\n",
       "        [ 9.95845032,  8.70627594],\n",
       "        [ 8.97450638,  8.82220364],\n",
       "        [ 8.08561707,  4.47488546],\n",
       "        [ 5.34406471,  0.75754118]],\n",
       "\n",
       "       [[ 4.91659307,  4.81002665],\n",
       "        [ 9.95845032,  8.70627594],\n",
       "        [ 8.97450638,  8.82220364],\n",
       "        [ 8.08561707,  4.47488546],\n",
       "        [ 5.34406471,  0.75754118]],\n",
       "\n",
       "       [[ 4.91659307,  4.81002665],\n",
       "        [ 9.95845032,  8.70627594],\n",
       "        [ 8.97450638,  8.82220364],\n",
       "        [ 8.08561707,  4.47488546],\n",
       "        [ 5.34406471,  0.75754118]],\n",
       "\n",
       "       [[ 4.91659307,  4.81002665],\n",
       "        [ 9.95845032,  8.70627594],\n",
       "        [ 8.97450638,  8.82220364],\n",
       "        [ 8.08561707,  4.47488546],\n",
       "        [ 5.34406471,  0.75754118]],\n",
       "\n",
       "       [[ 4.91659307,  4.81002665],\n",
       "        [ 9.95845032,  8.70627594],\n",
       "        [ 8.97450638,  8.82220364],\n",
       "        [ 8.08561707,  4.47488546],\n",
       "        [ 5.34406471,  0.75754118]],\n",
       "\n",
       "       [[ 4.91659307,  4.81002665],\n",
       "        [ 9.95845032,  8.70627594],\n",
       "        [ 8.97450638,  8.82220364],\n",
       "        [ 8.08561707,  4.47488546],\n",
       "        [ 5.34406471,  0.75754118]],\n",
       "\n",
       "       [[ 4.91659307,  4.81002665],\n",
       "        [ 9.95845032,  8.70627594],\n",
       "        [ 8.97450638,  8.82220364],\n",
       "        [ 8.08561707,  4.47488546],\n",
       "        [ 5.34406471,  0.75754118]],\n",
       "\n",
       "       [[ 4.91659307,  4.81002665],\n",
       "        [ 9.95845032,  8.70627594],\n",
       "        [ 8.97450638,  8.82220364],\n",
       "        [ 8.08561707,  4.47488546],\n",
       "        [ 5.34406471,  0.75754118]]], dtype=float32), indices=array([[[ 1,  5],\n",
       "        [ 6,  4],\n",
       "        [28, 52],\n",
       "        [ 7, 28],\n",
       "        [ 1, 28]],\n",
       "\n",
       "       [[ 1,  5],\n",
       "        [ 6,  4],\n",
       "        [28, 52],\n",
       "        [ 7, 28],\n",
       "        [ 1, 28]],\n",
       "\n",
       "       [[ 1,  5],\n",
       "        [ 6,  4],\n",
       "        [28, 52],\n",
       "        [ 7, 28],\n",
       "        [ 1, 28]],\n",
       "\n",
       "       [[ 1,  5],\n",
       "        [ 6,  4],\n",
       "        [28, 52],\n",
       "        [ 7, 28],\n",
       "        [ 1, 28]],\n",
       "\n",
       "       [[ 1,  5],\n",
       "        [ 6,  4],\n",
       "        [28, 52],\n",
       "        [ 7, 28],\n",
       "        [ 1, 28]],\n",
       "\n",
       "       [[ 1,  5],\n",
       "        [ 6,  4],\n",
       "        [28, 52],\n",
       "        [ 7, 28],\n",
       "        [ 1, 28]],\n",
       "\n",
       "       [[ 1,  5],\n",
       "        [ 6,  4],\n",
       "        [28, 52],\n",
       "        [ 7, 28],\n",
       "        [ 1, 28]],\n",
       "\n",
       "       [[ 1,  5],\n",
       "        [ 6,  4],\n",
       "        [28, 52],\n",
       "        [ 7, 28],\n",
       "        [ 1, 28]],\n",
       "\n",
       "       [[ 1,  5],\n",
       "        [ 6,  4],\n",
       "        [28, 52],\n",
       "        [ 7, 28],\n",
       "        [ 1, 28]],\n",
       "\n",
       "       [[ 1,  5],\n",
       "        [ 6,  4],\n",
       "        [28, 52],\n",
       "        [ 7, 28],\n",
       "        [ 1, 28]],\n",
       "\n",
       "       [[ 1,  5],\n",
       "        [ 6,  4],\n",
       "        [28, 52],\n",
       "        [ 7, 28],\n",
       "        [ 1, 28]],\n",
       "\n",
       "       [[ 1,  5],\n",
       "        [ 6,  4],\n",
       "        [28, 52],\n",
       "        [ 7, 28],\n",
       "        [ 1, 28]],\n",
       "\n",
       "       [[ 1,  5],\n",
       "        [ 6,  4],\n",
       "        [28, 52],\n",
       "        [ 7, 28],\n",
       "        [ 1, 28]],\n",
       "\n",
       "       [[ 1,  5],\n",
       "        [ 6,  4],\n",
       "        [28, 52],\n",
       "        [ 7, 28],\n",
       "        [ 1, 28]],\n",
       "\n",
       "       [[ 1,  5],\n",
       "        [ 6,  4],\n",
       "        [28, 52],\n",
       "        [ 7, 28],\n",
       "        [ 1, 28]],\n",
       "\n",
       "       [[ 1,  5],\n",
       "        [ 6,  4],\n",
       "        [28, 52],\n",
       "        [ 7, 28],\n",
       "        [ 1, 28]]]))]"
      ]
     },
     "execution_count": 41,
     "metadata": {},
     "output_type": "execute_result"
    }
   ],
   "source": [
    "answer_logits"
   ]
  },
  {
   "cell_type": "code",
   "execution_count": 42,
   "metadata": {
    "scrolled": false
   },
   "outputs": [
    {
     "name": "stdout",
     "output_type": "stream",
     "text": [
      "[ 1  6 28  7  1]\n",
      "\n",
      "Target\n",
      "  Word Ids:       [1, 6, 28, 7, 1]\n",
      "  Response Words: <UNK> n with def <UNK>\n"
     ]
    }
   ],
   "source": [
    "answer_logits[0].shape\n",
    "print(answer_logits[0][1])\n",
    "print('\\nTarget')\n",
    "print('  Word Ids:       {}'.format([i for i in answer_logits[0][1] if i != pad]))\n",
    "print('  Response Words: {}'.format(\" \".join([id_to_word[i] for i in answer_logits[0][1] if i != pad])))"
   ]
  }
 ],
 "metadata": {
  "kernelspec": {
   "display_name": "Python [default]",
   "language": "python",
   "name": "python3"
  },
  "language_info": {
   "codemirror_mode": {
    "name": "ipython",
    "version": 3
   },
   "file_extension": ".py",
   "mimetype": "text/x-python",
   "name": "python",
   "nbconvert_exporter": "python",
   "pygments_lexer": "ipython3",
   "version": "3.6.1"
  }
 },
 "nbformat": 4,
 "nbformat_minor": 2
}

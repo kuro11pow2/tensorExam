{
 "cells": [
  {
   "cell_type": "code",
   "execution_count": 1,
   "metadata": {
    "collapsed": true
   },
   "outputs": [],
   "source": [
    "import tensorflow as tf\n",
    "import pickle\n",
    "import os\n",
    "import shutil\n",
    "import tempfile\n",
    "import datetime\n",
    "from glob import iglob\n",
    "import time\n",
    "# import attention\n",
    "from collections import deque\n",
    "import pickle\n",
    "import pyreader\n",
    "import numpy as np\n",
    "import csv\n",
    "from batchmake import Batcher\n",
    "import pprint\n",
    "tf.set_random_seed(777)\n",
    "from tensorflow.python.layers import core"
   ]
  },
  {
   "cell_type": "code",
   "execution_count": 2,
   "metadata": {},
   "outputs": [
    {
     "name": "stdout",
     "output_type": "stream",
     "text": [
      "22673\n"
     ]
    }
   ],
   "source": [
    "datas= 'data_samples/'\n",
    "vocabulary = 'vocab.csv'\n",
    "vocabs = []\n",
    "with open(vocabulary, 'r', newline='', encoding='utf-8') as vocab:\n",
    "    words = csv.reader(vocab)\n",
    "    for i, word in enumerate(words):\n",
    "        vocabs.append(word[0])\n",
    "#         vocabs[word[0]]=i\n",
    "#         vocabs[word] = i\n",
    "print(len(vocabs))\n",
    "word_to_id = {word: i for i, word in enumerate(vocabs)}\n",
    "id_to_word = {i:word for i, word in enumerate(vocabs)}"
   ]
  },
  {
   "cell_type": "code",
   "execution_count": 3,
   "metadata": {},
   "outputs": [
    {
     "data": {
      "text/plain": [
       "('<PAD>', 0)"
      ]
     },
     "execution_count": 3,
     "metadata": {},
     "output_type": "execute_result"
    }
   ],
   "source": [
    "id_to_word[0], word_to_id['<PAD>']"
   ]
  },
  {
   "cell_type": "code",
   "execution_count": 14,
   "metadata": {
    "collapsed": true
   },
   "outputs": [],
   "source": [
    "hidden_size=100\n",
    "sequence=5\n",
    "embedding_dim=50\n",
    "attention_size = 50\n",
    "batch_size=8\n",
    "vocab_size=len(vocabs)\n",
    "checkpoint = './seq2seq_test.ckpt'"
   ]
  },
  {
   "cell_type": "code",
   "execution_count": 10,
   "metadata": {
    "collapsed": true
   },
   "outputs": [],
   "source": [
    "def source_to_seq(text):\n",
    "    '''Prepare the text for the model'''\n",
    "    sequence_length = 5\n",
    "    return [word_to_id.get(word, word_to_id['<UNK>']) for word in text]+ [word_to_id['<PAD>']]*(sequence_length-len(text))"
   ]
  },
  {
   "cell_type": "code",
   "execution_count": 11,
   "metadata": {},
   "outputs": [
    {
     "name": "stdout",
     "output_type": "stream",
     "text": [
      "[13, 0, 0, 0, 0]\n"
     ]
    }
   ],
   "source": [
    "input_sentence = 'from'\n",
    "text = source_to_seq([input_sentence])\n",
    "print(text)"
   ]
  },
  {
   "cell_type": "code",
   "execution_count": 12,
   "metadata": {},
   "outputs": [
    {
     "name": "stdout",
     "output_type": "stream",
     "text": [
      "[38, 455, 19, 3138, 0]\n"
     ]
    }
   ],
   "source": [
    "text = [38,455,19,3138,0]\n",
    "print(text)\n",
    "text = [8,0,0,0,0]"
   ]
  },
  {
   "cell_type": "code",
   "execution_count": 15,
   "metadata": {
    "scrolled": false
   },
   "outputs": [
    {
     "name": "stdout",
     "output_type": "stream",
     "text": [
      "INFO:tensorflow:Restoring parameters from ./seq2seq_test/seq2seq_test.ckpt\n",
      "loaded_graph.get_all_collection_keys() ['trainable_variables', 'variables', 'model_variables', 'while_context', 'cond_context', 'train_op', 'queue_runners', 'summaries']\n",
      "predictions_sample_id Tensor(\"predictions_sample_id:0\", shape=(8, ?), dtype=int32)\n",
      "predictions_output Tensor(\"predictions_output:0\", shape=(8, ?, 22673), dtype=float32)\n",
      "Original Text: from\n",
      "\n",
      "Source\n",
      "  Word Ids:    [8, 0, 0, 0, 0]\n",
      "  Input Words: return <PAD> <PAD> <PAD> <PAD>\n"
     ]
    }
   ],
   "source": [
    "checkpoint = './seq2seq_test/seq2seq_test.ckpt'\n",
    "loaded_graph = tf.Graph()\n",
    "\n",
    "with tf.Session(graph=loaded_graph) as Ses:\n",
    "    loader = tf.train.import_meta_graph(checkpoint +'.meta')\n",
    "    loader.restore(Ses, checkpoint)\n",
    "    \n",
    "    print('loaded_graph.get_all_collection_keys()',loaded_graph.get_all_collection_keys())\n",
    "    \n",
    "    input_data = loaded_graph.get_tensor_by_name('inputs_xdata:0')\n",
    "    \n",
    "    predictions_sample_id = loaded_graph.get_tensor_by_name('predictions_sample_id:0')\n",
    "    \n",
    "    predictions_output = loaded_graph.get_tensor_by_name('predictions_output:0')\n",
    "    \n",
    "    source_sequence_length = loaded_graph.get_tensor_by_name('source_sequence_length:0')\n",
    "    \n",
    "    target_sequence_length = loaded_graph.get_tensor_by_name('target_sequence_length:0')\n",
    "\n",
    "    \n",
    "    print('predictions_sample_id', predictions_sample_id)\n",
    "    print('predictions_output', predictions_output)\n",
    "    logits = tf.nn.top_k(predictions_output,2)\n",
    "    answer_logits = Ses.run([predictions_sample_id,predictions_output, logits], {input_data: [text]*batch_size, \n",
    "                                      target_sequence_length: [len(text)]*batch_size, \n",
    "                                      source_sequence_length: [len(text)]*batch_size})\n",
    "    \n",
    "\n",
    "pad = word_to_id['<PAD>']\n",
    "\n",
    "print('Original Text:', input_sentence)\n",
    "\n",
    "print('\\nSource')\n",
    "print('  Word Ids:    {}'.format([i for i in text]))\n",
    "print('  Input Words: {}'.format(\" \".join([id_to_word[i] for i in text])))\n",
    "# print(answer_logits)"
   ]
  },
  {
   "cell_type": "code",
   "execution_count": 16,
   "metadata": {
    "scrolled": false
   },
   "outputs": [
    {
     "data": {
      "text/plain": [
       "[array([[3],\n",
       "        [3],\n",
       "        [3],\n",
       "        [3],\n",
       "        [3],\n",
       "        [3],\n",
       "        [3],\n",
       "        [3]]),\n",
       " array([[[-7.41781712,  3.0563426 ,  4.2410531 , ..., -7.18319845,\n",
       "          -7.36086512, -7.27090645]],\n",
       " \n",
       "        [[-7.41781712,  3.0563426 ,  4.2410531 , ..., -7.18319845,\n",
       "          -7.36086512, -7.27090645]],\n",
       " \n",
       "        [[-7.41781712,  3.0563426 ,  4.2410531 , ..., -7.18319845,\n",
       "          -7.36086512, -7.27090645]],\n",
       " \n",
       "        ..., \n",
       "        [[-7.41781712,  3.0563426 ,  4.2410531 , ..., -7.18319845,\n",
       "          -7.36086512, -7.27090645]],\n",
       " \n",
       "        [[-7.41781712,  3.0563426 ,  4.2410531 , ..., -7.18319845,\n",
       "          -7.36086512, -7.27090645]],\n",
       " \n",
       "        [[-7.41781712,  3.0563426 ,  4.2410531 , ..., -7.18319845,\n",
       "          -7.36086512, -7.27090645]]], dtype=float32),\n",
       " TopKV2(values=array([[[ 4.26558352,  4.2410531 ]],\n",
       "\n",
       "       [[ 4.26558352,  4.2410531 ]],\n",
       "\n",
       "       [[ 4.26558352,  4.2410531 ]],\n",
       "\n",
       "       [[ 4.26558352,  4.2410531 ]],\n",
       "\n",
       "       [[ 4.26558352,  4.2410531 ]],\n",
       "\n",
       "       [[ 4.26558352,  4.2410531 ]],\n",
       "\n",
       "       [[ 4.26558352,  4.2410531 ]],\n",
       "\n",
       "       [[ 4.26558352,  4.2410531 ]]], dtype=float32), indices=array([[[3, 2]],\n",
       "\n",
       "       [[3, 2]],\n",
       "\n",
       "       [[3, 2]],\n",
       "\n",
       "       [[3, 2]],\n",
       "\n",
       "       [[3, 2]],\n",
       "\n",
       "       [[3, 2]],\n",
       "\n",
       "       [[3, 2]],\n",
       "\n",
       "       [[3, 2]]]))]"
      ]
     },
     "execution_count": 16,
     "metadata": {},
     "output_type": "execute_result"
    }
   ],
   "source": [
    "answer_logits"
   ]
  },
  {
   "cell_type": "code",
   "execution_count": 17,
   "metadata": {
    "scrolled": false
   },
   "outputs": [
    {
     "name": "stdout",
     "output_type": "stream",
     "text": [
      "TopKV2(values=array([[[ 4.26558352,  4.2410531 ]],\n",
      "\n",
      "       [[ 4.26558352,  4.2410531 ]],\n",
      "\n",
      "       [[ 4.26558352,  4.2410531 ]],\n",
      "\n",
      "       [[ 4.26558352,  4.2410531 ]],\n",
      "\n",
      "       [[ 4.26558352,  4.2410531 ]],\n",
      "\n",
      "       [[ 4.26558352,  4.2410531 ]],\n",
      "\n",
      "       [[ 4.26558352,  4.2410531 ]],\n",
      "\n",
      "       [[ 4.26558352,  4.2410531 ]]], dtype=float32), indices=array([[[3, 2]],\n",
      "\n",
      "       [[3, 2]],\n",
      "\n",
      "       [[3, 2]],\n",
      "\n",
      "       [[3, 2]],\n",
      "\n",
      "       [[3, 2]],\n",
      "\n",
      "       [[3, 2]],\n",
      "\n",
      "       [[3, 2]],\n",
      "\n",
      "       [[3, 2]]]))\n",
      "\n",
      "Target\n",
      "  Word Ids:       [3]\n",
      "  Response Words: <EOS>\n"
     ]
    }
   ],
   "source": [
    "answer_logits[0].shape\n",
    "print(answer_logits[2])\n",
    "print('\\nTarget')\n",
    "print('  Word Ids:       {}'.format([i for i in answer_logits[0][1] if i != pad]))\n",
    "print('  Response Words: {}'.format(\" \".join([id_to_word[i] for i in answer_logits[0][1] if i != pad])))"
   ]
  }
 ],
 "metadata": {
  "kernelspec": {
   "display_name": "Python 3",
   "language": "python",
   "name": "python3"
  }
 },
 "nbformat": 4,
 "nbformat_minor": 2
}

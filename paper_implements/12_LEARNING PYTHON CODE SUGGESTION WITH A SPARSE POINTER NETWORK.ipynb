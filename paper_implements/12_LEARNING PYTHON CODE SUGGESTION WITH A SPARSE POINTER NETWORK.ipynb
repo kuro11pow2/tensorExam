{
 "cells": [
  {
   "cell_type": "markdown",
   "metadata": {
    "collapsed": true
   },
   "source": [
    "### statically-typed language : java,C, C++\n",
    " 컴파일시에 에러가 검출된다. 타입구분이 명확한것들을 정적타입 랭귀지 라함.\n",
    " \n",
    "### dynamic-typed language : python, javascript, Ruby... \n",
    " 인터프리터 언어라고도한다. 타입에 딱히 신경쓰지않아도 개발이가능하며 개발속도 기본적으로 빠르다.\n",
    " \n",
    "IDE에서 statical language 는 코드 suggestion이 잘 적용되지만, python같은 dynamic language 는 지원이 상대적으로 부족하다."
   ]
  },
  {
   "cell_type": "code",
   "execution_count": 1,
   "metadata": {
    "collapsed": true
   },
   "outputs": [],
   "source": [
    "import tensorflow as tf\n",
    "import pickle\n",
    "import os\n",
    "import shutil\n",
    "import tempfile\n",
    "import datetime\n",
    "from glob import iglob\n",
    "import attention\n",
    "from collections import deque\n",
    "import pickle\n",
    "import pyreader\n",
    "import numpy as np"
   ]
  },
  {
   "cell_type": "code",
   "execution_count": 2,
   "metadata": {
    "collapsed": true
   },
   "outputs": [],
   "source": [
    "data= 'data_samples/'\n",
    "data_path='data_samples/mapping.map'\n",
    "pattern = 'preprocess.part*'\n",
    "hidden_size = 10\n",
    "seq_length = 1\n",
    "batch_size = 100\n",
    "num_samples = 0\n",
    "with open(data_path, \"rb\") as f:\n",
    "        word_to_id = pickle.load(f)\n",
    "vocab_size = len(word_to_id)\n",
    "num_samples = 10\n",
    "attention_num=5\n",
    "max_attention=3\n",
    "lambda_type='state'\n",
    "keep_prob=0.9,\n",
    "num_layer=1\n",
    "max_grad_norm=3\n",
    "learning_rate = 0.01\n",
    "files = [y for x in os.walk(data) for y in iglob(os.path.join(x[0], pattern))]"
   ]
  },
  {
   "cell_type": "markdown",
   "metadata": {},
   "source": [
    "### 전처리를 다음과같이 한다.\n",
    "\n",
    "#### 변수명:번호 인데 아래와 같이 나온다."
   ]
  },
  {
   "cell_type": "code",
   "execution_count": 3,
   "metadata": {
    "collapsed": true
   },
   "outputs": [],
   "source": [
    "current_file = deque(files).popleft()\n",
    "with open(current_file, 'rb') as f:\n",
    "    current_data = pickle.load(f)"
   ]
  },
  {
   "cell_type": "code",
   "execution_count": 13,
   "metadata": {},
   "outputs": [
    {
     "data": {
      "text/plain": [
       "(1, 100)"
      ]
     },
     "execution_count": 13,
     "metadata": {},
     "output_type": "execute_result"
    }
   ],
   "source": [
    "current_data[1].inputs.shape"
   ]
  },
  {
   "cell_type": "code",
   "execution_count": 9,
   "metadata": {},
   "outputs": [
    {
     "data": {
      "text/plain": [
       "[99]"
      ]
     },
     "execution_count": 9,
     "metadata": {},
     "output_type": "execute_result"
    }
   ],
   "source": [
    "current_data[1].actual_lengths"
   ]
  },
  {
   "cell_type": "markdown",
   "metadata": {},
   "source": [
    "### 예를들어 파일한개를 돌려보면.."
   ]
  },
  {
   "cell_type": "code",
   "execution_count": 7,
   "metadata": {},
   "outputs": [
    {
     "name": "stdout",
     "output_type": "stream",
     "text": [
      "56 class\n",
      "class §OOV§ ( object ) : \n",
      " §<indent>§ §OOV§ \n",
      " \n",
      " def __init__ ( self , §OOV§ , §OOV§ ) : \n",
      " §<indent>§ pass \n",
      " \n",
      " §<dedent>§ def __repr__ ( self ) : \n",
      " §<indent>§ §OOV§ \n",
      " if ( self . type in [ §OOV§ , §OOV§ ] ) : \n",
      " §<indent>§ §OOV§ = ( §OOV§ % ( self . type , self . §OOV§ , ord ( self . §OOV§ ) , self . §OOV§ , self . §OOV§ , self . §OOV§ , self . §OOV§ , self . §OOV§ ) ) \n",
      " §<dedent>§ elif ( self .\n",
      "--------------------------------------------------------------------------\n",
      "§OOV§ ( object ) : \n",
      " §<indent>§ §OOV§ \n",
      " \n",
      " def __init__ ( self , §OOV§ , §OOV§ ) : \n",
      " §<indent>§ pass \n",
      " \n",
      " §<dedent>§ def __repr__ ( self ) : \n",
      " §<indent>§ §OOV§ \n",
      " if ( self . type in [ §OOV§ , §OOV§ ] ) : \n",
      " §<indent>§ §OOV§ = ( §OOV§ % ( self . type , self . §OOV§ , ord ( self . §OOV§ ) , self . §OOV§ , self . §OOV§ , self . §OOV§ , self . §OOV§ , self . §OOV§ ) ) \n",
      " §<dedent>§ elif ( self . type\n"
     ]
    }
   ],
   "source": [
    "inv_map = {v: k for k, v in word_to_id.items()} # 아이디값:변수명 으로 reverse시킴.\n",
    "\n",
    "for i in range(len(current_data)):\n",
    "    inputs_raw = [inv_map[k] for k in current_data[i].inputs[0]]\n",
    "#     inputs_raw = [inv_map[k] for k in current_data[i].identifier_usage[0]]\n",
    "    inputs_raw= ' '.join(inputs_raw)\n",
    "    targets_raw = [inv_map[k] for k in current_data[i].targets[0]]\n",
    "    targets_raws = ' '.join(targets_raw)\n",
    "print(word_to_id['class'],inv_map[56])\n",
    "print(inputs_raw)\n",
    "print('--------------------------------------------------------------------------')\n",
    "print(targets_raws)"
   ]
  },
  {
   "cell_type": "markdown",
   "metadata": {},
   "source": [
    "### 위와같이 normalise + indent와 패딩, out of vocabulary의 값들이  나온다.\n",
    "\n",
    "### 실제로 집어넣을 값들은 숫자로 feeding한다."
   ]
  },
  {
   "cell_type": "code",
   "execution_count": 5,
   "metadata": {},
   "outputs": [
    {
     "data": {
      "text/plain": [
       "array([ 56,   1,   3, 210,   4,   8,   2,   9,   1,   2,   2,  17,  65,\n",
       "         3,  11,   6,   1,   6,   1,   4,   8,   2,   9,  82,   2,   2,\n",
       "        10,  17, 245,   3,  11,   4,   8,   2,   9,   1,   2,  16,   3,\n",
       "        11,   5,  69,  20,  13,   1,   6,   1,  14,   4,   8,   2,   9,\n",
       "         1,   7,   3,   1,  23,   3,  11,   5,  69,   6,  11,   5,   1,\n",
       "         6, 627,   3,  11,   5,   1,   4,   6,  11,   5,   1,   6,  11,\n",
       "         5,   1,   6,  11,   5,   1,   6,  11,   5,   1,   6,  11,   5,\n",
       "         1,   4,   4,   2,  10,  52,   3,  11,   5], dtype=int64)"
      ]
     },
     "execution_count": 5,
     "metadata": {},
     "output_type": "execute_result"
    }
   ],
   "source": [
    "current_data[i].inputs[0]"
   ]
  },
  {
   "cell_type": "markdown",
   "metadata": {},
   "source": [
    "### 위와같이 넣게되어있다."
   ]
  },
  {
   "cell_type": "code",
   "execution_count": 6,
   "metadata": {
    "scrolled": true
   },
   "outputs": [
    {
     "name": "stdout",
     "output_type": "stream",
     "text": [
      "Constructing Attention Cell\n",
      "Constructing Basic Model\n",
      "Constructing Attention Model\n",
      "loss 20.108\n",
      "loss 12.3831\n",
      "loss 7.09279\n",
      "loss 5.86391\n",
      "loss 5.97036\n",
      "loss 1.35504\n",
      "loss 5.34213\n",
      "loss 6.29\n",
      "loss 2.34693\n",
      "loss 5.20732\n",
      "loss 2.16649\n",
      "loss 6.44243\n",
      "loss 5.82552\n",
      "loss 2.74365\n",
      "loss 6.66154\n",
      "loss 6.87446\n",
      "loss 0.990804\n",
      "loss 6.1901\n",
      "loss 6.96051\n",
      "loss 4.27856\n",
      "loss 6.58593\n",
      "loss 6.75524\n",
      "loss 4.40741\n",
      "loss 2.02905\n",
      "loss 0.274461\n",
      "loss 0.262891\n",
      "loss 0.618306\n",
      "loss 5.97895\n",
      "loss 4.50095\n",
      "loss 4.00063\n",
      "loss 5.55282\n",
      "loss 6.16202\n",
      "loss 5.74918\n",
      "loss 1.19708\n",
      "loss 4.90465\n",
      "loss 4.73007\n",
      "loss 4.59521\n",
      "loss 4.28174\n",
      "loss 5.0371\n",
      "loss 2.93205\n",
      "loss 1.96934\n",
      "loss 4.57889\n",
      "loss 5.61728\n",
      "loss 4.12503\n",
      "loss 3.84898\n",
      "loss 1.36641\n",
      "loss 3.55735\n",
      "loss 4.0284\n",
      "loss 4.73237\n",
      "loss 4.80192\n",
      "loss 4.21766\n",
      "loss 4.01107\n",
      "loss 4.68324\n",
      "loss 4.87979\n",
      "loss 4.87639\n",
      "loss 3.86066\n",
      "loss 5.09969\n",
      "loss 3.83171\n",
      "loss 4.3907\n",
      "loss 2.89733\n",
      "loss 4.22103\n",
      "loss 4.34626\n",
      "loss 4.65182\n",
      "loss 4.37999\n",
      "loss 3.09249\n",
      "loss 3.40458\n",
      "loss 3.09618\n",
      "loss 2.22543\n",
      "loss 5.25855\n",
      "loss 4.88266\n",
      "loss 3.31036\n",
      "loss 4.78368\n",
      "loss 3.1259\n",
      "loss 3.91789\n",
      "loss 1.89729\n",
      "loss 2.29582\n",
      "loss 2.92529\n",
      "loss 3.71888\n",
      "loss 4.50498\n",
      "loss 3.74079\n",
      "loss 4.34692\n",
      "loss 4.45991\n",
      "loss 4.69533\n",
      "loss 2.25909\n",
      "loss 4.56644\n",
      "loss 1.92161\n",
      "loss 3.65707\n",
      "loss 1.71522\n",
      "loss 4.25361\n",
      "loss 3.47917\n",
      "loss 3.7662\n",
      "loss 2.86692\n",
      "loss 3.66603\n",
      "loss 4.65082\n",
      "loss 4.70805\n",
      "loss 3.94832\n",
      "loss 3.36765\n",
      "loss 3.29866\n",
      "loss 3.84834\n",
      "loss 4.10112\n",
      "loss 3.84472\n",
      "loss 4.4961\n"
     ]
    },
    {
     "ename": "ValueError",
     "evalue": "Cannot feed value of shape (2, 100) for Tensor 'inputs:0', which has shape '(1, 100)'",
     "output_type": "error",
     "traceback": [
      "\u001b[1;31m---------------------------------------------------------------------------\u001b[0m",
      "\u001b[1;31mValueError\u001b[0m                                Traceback (most recent call last)",
      "\u001b[1;32m<ipython-input-6-9b8f2e769860>\u001b[0m in \u001b[0;36m<module>\u001b[1;34m()\u001b[0m\n\u001b[0;32m     30\u001b[0m \u001b[1;33m\u001b[0m\u001b[0m\n\u001b[0;32m     31\u001b[0m         \u001b[0mfeed_dict\u001b[0m \u001b[1;33m=\u001b[0m \u001b[1;33m{\u001b[0m\u001b[0minput_data_\u001b[0m\u001b[1;33m:\u001b[0m\u001b[0minputs\u001b[0m\u001b[1;33m,\u001b[0m \u001b[0mtargets_\u001b[0m\u001b[1;33m:\u001b[0m\u001b[0mtargets\u001b[0m\u001b[1;33m,\u001b[0m \u001b[0mmasks_\u001b[0m\u001b[1;33m:\u001b[0m\u001b[0mmasks\u001b[0m\u001b[1;33m}\u001b[0m\u001b[1;33m\u001b[0m\u001b[0m\n\u001b[1;32m---> 32\u001b[1;33m         \u001b[0mloss_\u001b[0m\u001b[1;33m,\u001b[0m \u001b[0m_\u001b[0m \u001b[1;33m=\u001b[0m \u001b[0msession\u001b[0m\u001b[1;33m.\u001b[0m\u001b[0mrun\u001b[0m\u001b[1;33m(\u001b[0m\u001b[1;33m[\u001b[0m\u001b[0mloss\u001b[0m\u001b[1;33m,\u001b[0m \u001b[0mminimize\u001b[0m\u001b[1;33m]\u001b[0m\u001b[1;33m,\u001b[0m \u001b[0mfeed_dict\u001b[0m\u001b[1;33m=\u001b[0m \u001b[0mfeed_dict\u001b[0m\u001b[1;33m)\u001b[0m\u001b[1;33m\u001b[0m\u001b[0m\n\u001b[0m\u001b[0;32m     33\u001b[0m         \u001b[0mprint\u001b[0m\u001b[1;33m(\u001b[0m\u001b[1;34m'loss'\u001b[0m\u001b[1;33m,\u001b[0m \u001b[0mloss_\u001b[0m\u001b[1;33m[\u001b[0m\u001b[1;36m0\u001b[0m\u001b[1;33m]\u001b[0m\u001b[1;33m)\u001b[0m\u001b[1;33m\u001b[0m\u001b[0m\n",
      "\u001b[1;32mD:\\anaconda_python\\lib\\site-packages\\tensorflow\\python\\client\\session.py\u001b[0m in \u001b[0;36mrun\u001b[1;34m(self, fetches, feed_dict, options, run_metadata)\u001b[0m\n\u001b[0;32m    787\u001b[0m     \u001b[1;32mtry\u001b[0m\u001b[1;33m:\u001b[0m\u001b[1;33m\u001b[0m\u001b[0m\n\u001b[0;32m    788\u001b[0m       result = self._run(None, fetches, feed_dict, options_ptr,\n\u001b[1;32m--> 789\u001b[1;33m                          run_metadata_ptr)\n\u001b[0m\u001b[0;32m    790\u001b[0m       \u001b[1;32mif\u001b[0m \u001b[0mrun_metadata\u001b[0m\u001b[1;33m:\u001b[0m\u001b[1;33m\u001b[0m\u001b[0m\n\u001b[0;32m    791\u001b[0m         \u001b[0mproto_data\u001b[0m \u001b[1;33m=\u001b[0m \u001b[0mtf_session\u001b[0m\u001b[1;33m.\u001b[0m\u001b[0mTF_GetBuffer\u001b[0m\u001b[1;33m(\u001b[0m\u001b[0mrun_metadata_ptr\u001b[0m\u001b[1;33m)\u001b[0m\u001b[1;33m\u001b[0m\u001b[0m\n",
      "\u001b[1;32mD:\\anaconda_python\\lib\\site-packages\\tensorflow\\python\\client\\session.py\u001b[0m in \u001b[0;36m_run\u001b[1;34m(self, handle, fetches, feed_dict, options, run_metadata)\u001b[0m\n\u001b[0;32m    973\u001b[0m                 \u001b[1;34m'Cannot feed value of shape %r for Tensor %r, '\u001b[0m\u001b[1;33m\u001b[0m\u001b[0m\n\u001b[0;32m    974\u001b[0m                 \u001b[1;34m'which has shape %r'\u001b[0m\u001b[1;33m\u001b[0m\u001b[0m\n\u001b[1;32m--> 975\u001b[1;33m                 % (np_val.shape, subfeed_t.name, str(subfeed_t.get_shape())))\n\u001b[0m\u001b[0;32m    976\u001b[0m           \u001b[1;32mif\u001b[0m \u001b[1;32mnot\u001b[0m \u001b[0mself\u001b[0m\u001b[1;33m.\u001b[0m\u001b[0mgraph\u001b[0m\u001b[1;33m.\u001b[0m\u001b[0mis_feedable\u001b[0m\u001b[1;33m(\u001b[0m\u001b[0msubfeed_t\u001b[0m\u001b[1;33m)\u001b[0m\u001b[1;33m:\u001b[0m\u001b[1;33m\u001b[0m\u001b[0m\n\u001b[0;32m    977\u001b[0m             \u001b[1;32mraise\u001b[0m \u001b[0mValueError\u001b[0m\u001b[1;33m(\u001b[0m\u001b[1;34m'Tensor %s may not be fed.'\u001b[0m \u001b[1;33m%\u001b[0m \u001b[0msubfeed_t\u001b[0m\u001b[1;33m)\u001b[0m\u001b[1;33m\u001b[0m\u001b[0m\n",
      "\u001b[1;31mValueError\u001b[0m: Cannot feed value of shape (2, 100) for Tensor 'inputs:0', which has shape '(1, 100)'"
     ]
    }
   ],
   "source": [
    "with tf.Graph().as_default(), tf.Session() as session:\n",
    "    masks_ = tf.placeholder(tf.bool, [seq_length, batch_size, attention_num], name=\"masks\")\n",
    "    input_data_ = tf.placeholder(tf.int32, [seq_length, batch_size], name=\"inputs\")\n",
    "    targets_ = tf.placeholder(tf.float32, [seq_length, batch_size], name=\"targets\")\n",
    "    \n",
    "    a = attention.AttentionModel(input_data=input_data_,\n",
    "                                 targets=targets_,\n",
    "                                 masks=masks_,\n",
    "                                 is_training=True,\n",
    "                                 attention_num= attention_num,\n",
    "                                 batch_size=batch_size,\n",
    "                                 hidden_size=hidden_size,\n",
    "                                 num_samples=num_samples,\n",
    "                                 seq_length=seq_length,\n",
    "                                 vocab_size=vocab_size,\n",
    "                                 lambda_type=lambda_type,\n",
    "                                \n",
    "                                 max_attention=max_attention)\n",
    "    \n",
    "    session.run(tf.global_variables_initializer())\n",
    "    loss = a.loss\n",
    "    minimize = tf.train.GradientDescentOptimizer(learning_rate).minimize(loss)\n",
    "    \n",
    "    \n",
    "    for i, seq_batch in enumerate(current_data):\n",
    "        actual_lengths = seq_batch.actual_lengths\n",
    "        identifier_usage = seq_batch.identifier_usage\n",
    "        inputs = seq_batch.inputs\n",
    "        masks = tf.transpose(seq_batch.masks,[0,2,1]).eval()\n",
    "        targets = seq_batch.targets\n",
    "    \n",
    "        feed_dict = {input_data_:inputs, targets_:targets, masks_:masks}\n",
    "        loss_, _ = session.run([loss, minimize], feed_dict= feed_dict)\n",
    "        print('loss', loss_[0])"
   ]
  }
 ],
 "metadata": {
  "anaconda-cloud": {},
  "kernelspec": {
   "display_name": "Python [conda root]",
   "language": "python",
   "name": "conda-root-py"
  },
  "language_info": {
   "codemirror_mode": {
    "name": "ipython",
    "version": 3
   },
   "file_extension": ".py",
   "mimetype": "text/x-python",
   "name": "python",
   "nbconvert_exporter": "python",
   "pygments_lexer": "ipython3",
   "version": "3.6.1"
  }
 },
 "nbformat": 4,
 "nbformat_minor": 2
}

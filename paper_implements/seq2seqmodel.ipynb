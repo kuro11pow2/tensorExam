{
 "cells": [
  {
   "cell_type": "code",
   "execution_count": 1,
   "metadata": {
    "collapsed": true
   },
   "outputs": [],
   "source": [
    "import tensorflow as tf\n",
    "import pickle\n",
    "import os\n",
    "import shutil\n",
    "import tempfile\n",
    "import datetime\n",
    "from glob import iglob\n",
    "import time\n",
    "# import attention\n",
    "from collections import deque\n",
    "import pickle\n",
    "import pyreader\n",
    "import numpy as np\n",
    "import csv\n",
    "from batchmake import Batcher\n",
    "import pprint\n",
    "tf.set_random_seed(777)"
   ]
  },
  {
   "cell_type": "code",
   "execution_count": 2,
   "metadata": {},
   "outputs": [
    {
     "name": "stdout",
     "output_type": "stream",
     "text": [
      "22669\n"
     ]
    }
   ],
   "source": [
    "datas= 'data_samples/'\n",
    "vocabulary = 'vocab.csv'\n",
    "vocabs = []\n",
    "with open(vocabulary, 'r', newline='', encoding='utf-8') as vocab:\n",
    "    words = csv.reader(vocab)\n",
    "    for word in words:\n",
    "        vocabs.append(word)\n",
    "print(len(vocabs))"
   ]
  },
  {
   "cell_type": "code",
   "execution_count": 3,
   "metadata": {},
   "outputs": [
    {
     "name": "stdout",
     "output_type": "stream",
     "text": [
      "Tensor(\"embedding_lookup:0\", shape=(?, 5, 50), dtype=float32)\n"
     ]
    }
   ],
   "source": [
    "hidden_size=32\n",
    "sequence=5\n",
    "embedding_dim=50\n",
    "attention_size = 50\n",
    "batch_size=16\n",
    "vocab_size=len(vocabs)\n",
    "grucell = tf.nn.rnn_cell.BasicLSTMCell(hidden_size)\n",
    "X = tf.placeholder(tf.int32, [None, sequence], name='inputs_xdata')\n",
    "# Y = tf.placeholder(tf.float32, [None, sequence], name='targets_ydata')\n",
    "Y = tf.placeholder(tf.int32, [None, sequence], name='targets_ydata')\n",
    "seq_len = tf.placeholder(tf.int32, [None], name='seq_len')\n",
    "\n",
    "embedding_variable = tf.Variable(tf.random_uniform([vocab_size, embedding_dim],-1.0,1.0), trainable=True)\n",
    "# inputs_ = tf.transpose(X)\n",
    "batch_embedded = tf.nn.embedding_lookup(embedding_variable, X)\n",
    "\n",
    "print(batch_embedded)\n",
    "with tf.variable_scope('RNN'):\n",
    "    outputs, states = tf.nn.dynamic_rnn(grucell,\n",
    "                                        inputs=batch_embedded,\n",
    "                                        sequence_length=seq_len,\n",
    "                                        dtype=tf.float32)"
   ]
  },
  {
   "cell_type": "code",
   "execution_count": 4,
   "metadata": {},
   "outputs": [
    {
     "data": {
      "text/plain": [
       "(<tf.Tensor 'RNN/rnn/transpose:0' shape=(?, 5, 32) dtype=float32>,\n",
       " LSTMStateTuple(c=<tf.Tensor 'RNN/rnn/while/Exit_2:0' shape=(?, 32) dtype=float32>, h=<tf.Tensor 'RNN/rnn/while/Exit_3:0' shape=(?, 32) dtype=float32>))"
      ]
     },
     "execution_count": 4,
     "metadata": {},
     "output_type": "execute_result"
    }
   ],
   "source": [
    "outputs,states"
   ]
  },
  {
   "cell_type": "code",
   "execution_count": null,
   "metadata": {
    "collapsed": true
   },
   "outputs": [],
   "source": [
    "\n",
    "tf.einsum('')"
   ]
  },
  {
   "cell_type": "code",
   "execution_count": 6,
   "metadata": {},
   "outputs": [],
   "source": [
    "X_for_fc = tf.reshape(outputs, [-1, hidden_size])\n",
    "outputs = tf.contrib.layers.fully_connected(X_for_fc, vocab_size, activation_fn=None)"
   ]
  },
  {
   "cell_type": "code",
   "execution_count": 10,
   "metadata": {},
   "outputs": [
    {
     "data": {
      "text/plain": [
       "<tf.Tensor 'Reshape_3:0' shape=(16, 5, 22669) dtype=float32>"
      ]
     },
     "execution_count": 10,
     "metadata": {},
     "output_type": "execute_result"
    }
   ],
   "source": [
    "outputs = tf.reshape(outputs, [batch_size, sequence, vocab_size])\n",
    "outputs"
   ]
  },
  {
   "cell_type": "code",
   "execution_count": 101,
   "metadata": {},
   "outputs": [
    {
     "data": {
      "text/plain": [
       "<tf.Tensor 'targets_ydata:0' shape=(?, 5) dtype=int32>"
      ]
     },
     "execution_count": 101,
     "metadata": {},
     "output_type": "execute_result"
    }
   ],
   "source": [
    "Y"
   ]
  },
  {
   "cell_type": "code",
   "execution_count": 20,
   "metadata": {},
   "outputs": [],
   "source": [
    "weights = tf.ones([batch_size, sequence])\n",
    "\n",
    "sequence_loss = tf.contrib.seq2seq.sequence_loss(\n",
    "    logits=outputs, targets=Y, weights=weights)\n",
    "loss = tf.reduce_mean(sequence_loss)\n"
   ]
  },
  {
   "cell_type": "code",
   "execution_count": 21,
   "metadata": {},
   "outputs": [],
   "source": [
    "optimizer = tf.train.AdamOptimizer(learning_rate=1e-3).minimize(mean_loss)"
   ]
  },
  {
   "cell_type": "code",
   "execution_count": 22,
   "metadata": {
    "collapsed": true
   },
   "outputs": [],
   "source": [
    "file_name_queue = tf.train.string_input_producer(['inputs'])\n",
    "reader = tf.TFRecordReader()\n",
    "_, single_x = reader.read(file_name_queue)\n",
    "\n",
    "context_features = {\n",
    "    \"length\": tf.FixedLenFeature([], dtype=tf.int64)\n",
    "}\n",
    "sequence_features = {\n",
    "    \"tokens\": tf.FixedLenSequenceFeature([], dtype=tf.int64),\n",
    "    \"labels\": tf.FixedLenSequenceFeature([], dtype=tf.int64)\n",
    "}\n",
    "\n",
    "\n",
    "context_parsed, sequence_parsed = tf.parse_single_sequence_example(serialized=single_x,\n",
    "                                 context_features=context_features,\n",
    "                                 sequence_features=sequence_features\n",
    "                                )\n",
    "batch_seq, batch_x, batch_y = tf.train.batch(tensors=[context_parsed['length'],sequence_parsed['tokens'],sequence_parsed['labels']],\n",
    "                                                     batch_size=batch_size, \n",
    "                                                     capacity=5000,\n",
    "                                                     num_threads=1,\n",
    "                                             dynamic_pad=True\n",
    "                                                    )"
   ]
  },
  {
   "cell_type": "code",
   "execution_count": 25,
   "metadata": {
    "scrolled": true
   },
   "outputs": [
    {
     "name": "stdout",
     "output_type": "stream",
     "text": [
      "start learning!\n",
      "0 start\n",
      " 100 : loss 6.166654586791992 acc 0\n",
      " 200 : loss 6.080562114715576 acc 0\n",
      " 300 : loss 4.802710056304932 acc 0\n",
      " 400 : loss 5.169119834899902 acc 0\n",
      " 500 : loss 5.313636302947998 acc 0\n",
      " 600 : loss 4.895544052124023 acc 0\n",
      " 700 : loss 5.743092060089111 acc 0\n",
      " 800 : loss 6.028770446777344 acc 0\n",
      " 900 : loss 4.821763038635254 acc 0\n",
      " 1000 : loss 5.6741790771484375 acc 0\n",
      " 1100 : loss 5.161557197570801 acc 0\n",
      " 1200 : loss 5.163616180419922 acc 0\n",
      " 1300 : loss 3.7881648540496826 acc 0\n",
      " 1400 : loss 6.136954307556152 acc 0\n",
      " 1500 : loss 4.925378799438477 acc 0\n",
      " 1600 : loss 4.46866512298584 acc 0\n",
      " 1700 : loss 4.525747776031494 acc 0\n",
      " 1800 : loss 5.006093502044678 acc 0\n",
      " 1900 : loss 3.9451472759246826 acc 0\n",
      " 2000 : loss 4.064728736877441 acc 0\n",
      " 2100 : loss 4.5308518409729 acc 0\n",
      " 2200 : loss 5.052001476287842 acc 0\n",
      " 2300 : loss 4.174595832824707 acc 0\n",
      " 2400 : loss 6.403733730316162 acc 0\n",
      " 2500 : loss 4.8307013511657715 acc 0\n",
      " 2600 : loss 2.919546604156494 acc 0\n",
      " 2700 : loss 4.243175506591797 acc 0\n",
      " 2800 : loss 3.836030960083008 acc 0\n",
      " 2900 : loss 4.678788661956787 acc 0\n",
      " 3000 : loss 3.860288619995117 acc 0\n",
      " 3100 : loss 5.27510404586792 acc 0\n",
      " 3200 : loss 4.57393741607666 acc 0\n",
      " 3300 : loss 3.5963330268859863 acc 0\n"
     ]
    },
    {
     "ename": "KeyboardInterrupt",
     "evalue": "",
     "output_type": "error",
     "traceback": [
      "\u001b[1;31m---------------------------------------------------------------------------\u001b[0m",
      "\u001b[1;31mKeyboardInterrupt\u001b[0m                         Traceback (most recent call last)",
      "\u001b[1;32m<ipython-input-25-e1c2edb8d594>\u001b[0m in \u001b[0;36m<module>\u001b[1;34m()\u001b[0m\n\u001b[0;32m     27\u001b[0m \u001b[1;31m#         print(feed_data)\u001b[0m\u001b[1;33m\u001b[0m\u001b[1;33m\u001b[0m\u001b[0m\n\u001b[0;32m     28\u001b[0m \u001b[1;31m#         lo, acc, opt = Ses.run([loss, accuracy, optimizer], feed_dict=feed_data)\u001b[0m\u001b[1;33m\u001b[0m\u001b[1;33m\u001b[0m\u001b[0m\n\u001b[1;32m---> 29\u001b[1;33m         \u001b[0mlo\u001b[0m\u001b[1;33m,\u001b[0m \u001b[0mopt\u001b[0m \u001b[1;33m=\u001b[0m \u001b[0mSes\u001b[0m\u001b[1;33m.\u001b[0m\u001b[0mrun\u001b[0m\u001b[1;33m(\u001b[0m\u001b[1;33m[\u001b[0m\u001b[0mloss\u001b[0m\u001b[1;33m,\u001b[0m \u001b[0moptimizer\u001b[0m\u001b[1;33m]\u001b[0m\u001b[1;33m,\u001b[0m \u001b[0mfeed_dict\u001b[0m\u001b[1;33m=\u001b[0m\u001b[0mfeed_data\u001b[0m\u001b[1;33m)\u001b[0m\u001b[1;33m\u001b[0m\u001b[0m\n\u001b[0m\u001b[0;32m     30\u001b[0m \u001b[1;31m#         accuracy_train+=acc\u001b[0m\u001b[1;33m\u001b[0m\u001b[1;33m\u001b[0m\u001b[0m\n\u001b[0;32m     31\u001b[0m         \u001b[0mloss_train\u001b[0m \u001b[1;33m=\u001b[0m \u001b[0mlo\u001b[0m \u001b[1;33m*\u001b[0m \u001b[0mdelta\u001b[0m \u001b[1;33m+\u001b[0m \u001b[0mloss_train\u001b[0m \u001b[1;33m*\u001b[0m \u001b[1;33m(\u001b[0m\u001b[1;36m1\u001b[0m\u001b[1;33m-\u001b[0m\u001b[0mdelta\u001b[0m\u001b[1;33m)\u001b[0m\u001b[1;33m\u001b[0m\u001b[0m\n",
      "\u001b[1;32mD:\\python3_5anaconda\\lib\\site-packages\\tensorflow\\python\\client\\session.py\u001b[0m in \u001b[0;36mrun\u001b[1;34m(self, fetches, feed_dict, options, run_metadata)\u001b[0m\n\u001b[0;32m    787\u001b[0m     \u001b[1;32mtry\u001b[0m\u001b[1;33m:\u001b[0m\u001b[1;33m\u001b[0m\u001b[0m\n\u001b[0;32m    788\u001b[0m       result = self._run(None, fetches, feed_dict, options_ptr,\n\u001b[1;32m--> 789\u001b[1;33m                          run_metadata_ptr)\n\u001b[0m\u001b[0;32m    790\u001b[0m       \u001b[1;32mif\u001b[0m \u001b[0mrun_metadata\u001b[0m\u001b[1;33m:\u001b[0m\u001b[1;33m\u001b[0m\u001b[0m\n\u001b[0;32m    791\u001b[0m         \u001b[0mproto_data\u001b[0m \u001b[1;33m=\u001b[0m \u001b[0mtf_session\u001b[0m\u001b[1;33m.\u001b[0m\u001b[0mTF_GetBuffer\u001b[0m\u001b[1;33m(\u001b[0m\u001b[0mrun_metadata_ptr\u001b[0m\u001b[1;33m)\u001b[0m\u001b[1;33m\u001b[0m\u001b[0m\n",
      "\u001b[1;32mD:\\python3_5anaconda\\lib\\site-packages\\tensorflow\\python\\client\\session.py\u001b[0m in \u001b[0;36m_run\u001b[1;34m(self, handle, fetches, feed_dict, options, run_metadata)\u001b[0m\n\u001b[0;32m    995\u001b[0m     \u001b[1;32mif\u001b[0m \u001b[0mfinal_fetches\u001b[0m \u001b[1;32mor\u001b[0m \u001b[0mfinal_targets\u001b[0m\u001b[1;33m:\u001b[0m\u001b[1;33m\u001b[0m\u001b[0m\n\u001b[0;32m    996\u001b[0m       results = self._do_run(handle, final_targets, final_fetches,\n\u001b[1;32m--> 997\u001b[1;33m                              feed_dict_string, options, run_metadata)\n\u001b[0m\u001b[0;32m    998\u001b[0m     \u001b[1;32melse\u001b[0m\u001b[1;33m:\u001b[0m\u001b[1;33m\u001b[0m\u001b[0m\n\u001b[0;32m    999\u001b[0m       \u001b[0mresults\u001b[0m \u001b[1;33m=\u001b[0m \u001b[1;33m[\u001b[0m\u001b[1;33m]\u001b[0m\u001b[1;33m\u001b[0m\u001b[0m\n",
      "\u001b[1;32mD:\\python3_5anaconda\\lib\\site-packages\\tensorflow\\python\\client\\session.py\u001b[0m in \u001b[0;36m_do_run\u001b[1;34m(self, handle, target_list, fetch_list, feed_dict, options, run_metadata)\u001b[0m\n\u001b[0;32m   1130\u001b[0m     \u001b[1;32mif\u001b[0m \u001b[0mhandle\u001b[0m \u001b[1;32mis\u001b[0m \u001b[1;32mNone\u001b[0m\u001b[1;33m:\u001b[0m\u001b[1;33m\u001b[0m\u001b[0m\n\u001b[0;32m   1131\u001b[0m       return self._do_call(_run_fn, self._session, feed_dict, fetch_list,\n\u001b[1;32m-> 1132\u001b[1;33m                            target_list, options, run_metadata)\n\u001b[0m\u001b[0;32m   1133\u001b[0m     \u001b[1;32melse\u001b[0m\u001b[1;33m:\u001b[0m\u001b[1;33m\u001b[0m\u001b[0m\n\u001b[0;32m   1134\u001b[0m       return self._do_call(_prun_fn, self._session, handle, feed_dict,\n",
      "\u001b[1;32mD:\\python3_5anaconda\\lib\\site-packages\\tensorflow\\python\\client\\session.py\u001b[0m in \u001b[0;36m_do_call\u001b[1;34m(self, fn, *args)\u001b[0m\n\u001b[0;32m   1137\u001b[0m   \u001b[1;32mdef\u001b[0m \u001b[0m_do_call\u001b[0m\u001b[1;33m(\u001b[0m\u001b[0mself\u001b[0m\u001b[1;33m,\u001b[0m \u001b[0mfn\u001b[0m\u001b[1;33m,\u001b[0m \u001b[1;33m*\u001b[0m\u001b[0margs\u001b[0m\u001b[1;33m)\u001b[0m\u001b[1;33m:\u001b[0m\u001b[1;33m\u001b[0m\u001b[0m\n\u001b[0;32m   1138\u001b[0m     \u001b[1;32mtry\u001b[0m\u001b[1;33m:\u001b[0m\u001b[1;33m\u001b[0m\u001b[0m\n\u001b[1;32m-> 1139\u001b[1;33m       \u001b[1;32mreturn\u001b[0m \u001b[0mfn\u001b[0m\u001b[1;33m(\u001b[0m\u001b[1;33m*\u001b[0m\u001b[0margs\u001b[0m\u001b[1;33m)\u001b[0m\u001b[1;33m\u001b[0m\u001b[0m\n\u001b[0m\u001b[0;32m   1140\u001b[0m     \u001b[1;32mexcept\u001b[0m \u001b[0merrors\u001b[0m\u001b[1;33m.\u001b[0m\u001b[0mOpError\u001b[0m \u001b[1;32mas\u001b[0m \u001b[0me\u001b[0m\u001b[1;33m:\u001b[0m\u001b[1;33m\u001b[0m\u001b[0m\n\u001b[0;32m   1141\u001b[0m       \u001b[0mmessage\u001b[0m \u001b[1;33m=\u001b[0m \u001b[0mcompat\u001b[0m\u001b[1;33m.\u001b[0m\u001b[0mas_text\u001b[0m\u001b[1;33m(\u001b[0m\u001b[0me\u001b[0m\u001b[1;33m.\u001b[0m\u001b[0mmessage\u001b[0m\u001b[1;33m)\u001b[0m\u001b[1;33m\u001b[0m\u001b[0m\n",
      "\u001b[1;32mD:\\python3_5anaconda\\lib\\site-packages\\tensorflow\\python\\client\\session.py\u001b[0m in \u001b[0;36m_run_fn\u001b[1;34m(session, feed_dict, fetch_list, target_list, options, run_metadata)\u001b[0m\n\u001b[0;32m   1119\u001b[0m         return tf_session.TF_Run(session, options,\n\u001b[0;32m   1120\u001b[0m                                  \u001b[0mfeed_dict\u001b[0m\u001b[1;33m,\u001b[0m \u001b[0mfetch_list\u001b[0m\u001b[1;33m,\u001b[0m \u001b[0mtarget_list\u001b[0m\u001b[1;33m,\u001b[0m\u001b[1;33m\u001b[0m\u001b[0m\n\u001b[1;32m-> 1121\u001b[1;33m                                  status, run_metadata)\n\u001b[0m\u001b[0;32m   1122\u001b[0m \u001b[1;33m\u001b[0m\u001b[0m\n\u001b[0;32m   1123\u001b[0m     \u001b[1;32mdef\u001b[0m \u001b[0m_prun_fn\u001b[0m\u001b[1;33m(\u001b[0m\u001b[0msession\u001b[0m\u001b[1;33m,\u001b[0m \u001b[0mhandle\u001b[0m\u001b[1;33m,\u001b[0m \u001b[0mfeed_dict\u001b[0m\u001b[1;33m,\u001b[0m \u001b[0mfetch_list\u001b[0m\u001b[1;33m)\u001b[0m\u001b[1;33m:\u001b[0m\u001b[1;33m\u001b[0m\u001b[0m\n",
      "\u001b[1;31mKeyboardInterrupt\u001b[0m: "
     ]
    }
   ],
   "source": [
    "num_epochs = 10\n",
    "delta = 0.5\n",
    "\n",
    "Ses = tf.Session()\n",
    "coord = tf.train.Coordinator()\n",
    "threads = tf.train.start_queue_runners(sess=Ses, coord=coord)\n",
    "Ses.run(tf.global_variables_initializer())\n",
    "\n",
    "print('start learning!')\n",
    "\n",
    "for epoch in range(num_epochs):\n",
    "    \n",
    "    print('{} start'.format(epoch))\n",
    "    \n",
    "    loss_train = 0\n",
    "    loss_test = 0\n",
    "    accuracy_train = 0\n",
    "    accuracy_test =0\n",
    "    \n",
    "    \n",
    "#     for i in range(1000):\n",
    "    i=0\n",
    "#     try:\n",
    "    while True:\n",
    "        seq_, x_in, y_in = Ses.run([batch_seq, batch_x, batch_y])\n",
    "        feed_data = {X:x_in, Y:y_in, seq_len:seq_}\n",
    "#         print(feed_data)\n",
    "#         lo, acc, opt = Ses.run([loss, accuracy, optimizer], feed_dict=feed_data)\n",
    "        lo, opt = Ses.run([loss, optimizer], feed_dict=feed_data)\n",
    "#         accuracy_train+=acc\n",
    "        loss_train = lo * delta + loss_train * (1-delta)\n",
    "        i+=1\n",
    "        if i%100 ==0:\n",
    "            print(' {} : loss {} acc {}'.format(i, lo, accuracy_train))\n",
    "#     except:\n",
    "#         print('batch : ',i)\n",
    "#         accuracy_train /= \n",
    "        "
   ]
  },
  {
   "cell_type": "code",
   "execution_count": 38,
   "metadata": {},
   "outputs": [
    {
     "name": "stdout",
     "output_type": "stream",
     "text": [
      "[[[-13.29698753   1.50603712   4.18791246 ..., -13.349123   -13.3751421\n",
      "   -13.1564827 ]\n",
      "  [-17.8072567    1.72352362   6.62874079 ..., -17.88330269 -17.91202545\n",
      "   -17.60957336]\n",
      "  [ -8.10572243   0.96238852   3.64221597 ...,  -8.1366148   -8.14382172\n",
      "    -8.0562582 ]\n",
      "  [ -9.59585762   1.19165468   3.02162147 ...,  -9.67808628  -9.68119144\n",
      "    -9.53866673]\n",
      "  [-16.43118095   0.92567235   6.14692831 ..., -16.50385666 -16.52963066\n",
      "   -16.25689888]]\n",
      "\n",
      " [[-12.68002701   2.50740552   4.95650816 ..., -12.72162056 -12.75607491\n",
      "   -12.54108429]\n",
      "  [-10.22591019   0.89076328   4.29207182 ..., -10.25300407 -10.27827072\n",
      "   -10.15265274]\n",
      "  [ -7.87790489   1.41231561   1.4872905  ...,  -7.92313194  -7.90665865\n",
      "    -7.81639719]\n",
      "  [-14.17497826   1.20529819   3.52974939 ..., -14.25171852 -14.27195454\n",
      "   -14.0370369 ]\n",
      "  [ -8.08020782   3.09560299   1.16355121 ...,  -8.10146046  -8.13920975\n",
      "    -8.01443386]]\n",
      "\n",
      " [[-11.9107151    2.65493131   2.21742368 ..., -11.96892166 -11.97667599\n",
      "   -11.79452229]\n",
      "  [ -8.29378128   3.49496508   1.76021314 ...,  -8.33470249  -8.34915352\n",
      "    -8.21941376]\n",
      "  [-16.5308876    2.29418516   3.63171577 ..., -16.56970406 -16.61454964\n",
      "   -16.3437233 ]\n",
      "  [ -7.08833027   3.31023955   1.22841275 ...,  -7.13901138  -7.14507627\n",
      "    -7.04652977]\n",
      "  [-15.04360962   1.07342029   4.32587433 ..., -15.09893131 -15.14183426\n",
      "   -14.89402771]]\n",
      "\n",
      " ..., \n",
      " [[-10.18450165   1.47475362   3.70657301 ..., -10.20915699 -10.22990131\n",
      "   -10.09808636]\n",
      "  [-14.99827576   2.33303761   2.92521453 ..., -15.06704521 -15.07485771\n",
      "   -14.83860111]\n",
      "  [ -8.25104332   3.10059142   1.16515172 ...,  -8.27199841  -8.31237221\n",
      "    -8.18300247]\n",
      "  [-16.51958084   2.39864039   3.55089712 ..., -16.57685089 -16.62143135\n",
      "   -16.34017181]\n",
      "  [ -8.01462746   3.4444406    1.73880255 ...,  -8.0537529   -8.06591415\n",
      "    -7.94523525]]\n",
      "\n",
      " [[ -7.87415838   1.63299322   1.08013701 ...,  -7.91850376  -7.92210674\n",
      "    -7.81242943]\n",
      "  [-17.84194183   2.07331824   6.04539013 ..., -17.91431808 -17.94390869\n",
      "   -17.65196037]\n",
      "  [ -8.20227623   1.04866302   3.59543037 ...,  -8.2327919   -8.24073124\n",
      "    -8.15093994]\n",
      "  [-11.78299141   3.02074909   1.41566801 ..., -11.85335732 -11.87757397\n",
      "   -11.67323494]\n",
      "  [ -8.25613213   3.46088934   1.82156646 ...,  -8.29716778  -8.31014919\n",
      "    -8.18190956]]\n",
      "\n",
      " [[-11.22794914   1.46699822   2.71381998 ..., -11.27250099 -11.2752533\n",
      "   -11.11186218]\n",
      "  [ -9.05190849   3.48652244   1.56867194 ...,  -9.08731937  -9.11453915\n",
      "    -8.97289753]\n",
      "  [-20.06067657   1.99573755   5.85919046 ..., -20.11654663 -20.18092537\n",
      "   -19.83808517]\n",
      "  [-17.21945      1.62291241   6.61204672 ..., -17.29514694 -17.32120323\n",
      "   -17.02147484]\n",
      "  [-12.55705833   2.25245523   5.77538157 ..., -12.5930891  -12.64139557\n",
      "   -12.42106247]]]\n"
     ]
    },
    {
     "ename": "ValueError",
     "evalue": "Tried to convert 'input' to a tensor and failed. Error: Argument must be a dense tensor: [array([[[-13.29698753,   1.50603712,   4.18791246, ..., -13.349123  ,\n         -13.3751421 , -13.1564827 ],\n        [-17.8072567 ,   1.72352362,   6.62874079, ..., -17.88330269,\n         -17.91202545, -17.60957336],\n        [ -8.10572243,   0.96238852,   3.64221597, ...,  -8.1366148 ,\n          -8.14382172,  -8.0562582 ],\n        [ -9.59585762,   1.19165468,   3.02162147, ...,  -9.67808628,\n          -9.68119144,  -9.53866673],\n        [-16.43118095,   0.92567235,   6.14692831, ..., -16.50385666,\n         -16.52963066, -16.25689888]],\n\n       [[-12.68002701,   2.50740552,   4.95650816, ..., -12.72162056,\n         -12.75607491, -12.54108429],\n        [-10.22591019,   0.89076328,   4.29207182, ..., -10.25300407,\n         -10.27827072, -10.15265274],\n        [ -7.87790489,   1.41231561,   1.4872905 , ...,  -7.92313194,\n          -7.90665865,  -7.81639719],\n        [-14.17497826,   1.20529819,   3.52974939, ..., -14.25171852,\n         -14.27195454, -14.0370369 ],\n        [ -8.08020782,   3.09560299,   1.16355121, ...,  -8.10146046,\n          -8.13920975,  -8.01443386]],\n\n       [[-11.9107151 ,   2.65493131,   2.21742368, ..., -11.96892166,\n         -11.97667599, -11.79452229],\n        [ -8.29378128,   3.49496508,   1.76021314, ...,  -8.33470249,\n          -8.34915352,  -8.21941376],\n        [-16.5308876 ,   2.29418516,   3.63171577, ..., -16.56970406,\n         -16.61454964, -16.3437233 ],\n        [ -7.08833027,   3.31023955,   1.22841275, ...,  -7.13901138,\n          -7.14507627,  -7.04652977],\n        [-15.04360962,   1.07342029,   4.32587433, ..., -15.09893131,\n         -15.14183426, -14.89402771]],\n\n       ..., \n       [[-10.18450165,   1.47475362,   3.70657301, ..., -10.20915699,\n         -10.22990131, -10.09808636],\n        [-14.99827576,   2.33303761,   2.92521453, ..., -15.06704521,\n         -15.07485771, -14.83860111],\n        [ -8.25104332,   3.10059142,   1.16515172, ...,  -8.27199841,\n          -8.31237221,  -8.18300247],\n        [-16.51958084,   2.39864039,   3.55089712, ..., -16.57685089,\n         -16.62143135, -16.34017181],\n        [ -8.01462746,   3.4444406 ,   1.73880255, ...,  -8.0537529 ,\n          -8.06591415,  -7.94523525]],\n\n       [[ -7.87415838,   1.63299322,   1.08013701, ...,  -7.91850376,\n          -7.92210674,  -7.81242943],\n        [-17.84194183,   2.07331824,   6.04539013, ..., -17.91431808,\n         -17.94390869, -17.65196037],\n        [ -8.20227623,   1.04866302,   3.59543037, ...,  -8.2327919 ,\n          -8.24073124,  -8.15093994],\n        [-11.78299141,   3.02074909,   1.41566801, ..., -11.85335732,\n         -11.87757397, -11.67323494],\n        [ -8.25613213,   3.46088934,   1.82156646, ...,  -8.29716778,\n          -8.31014919,  -8.18190956]],\n\n       [[-11.22794914,   1.46699822,   2.71381998, ..., -11.27250099,\n         -11.2752533 , -11.11186218],\n        [ -9.05190849,   3.48652244,   1.56867194, ...,  -9.08731937,\n          -9.11453915,  -8.97289753],\n        [-20.06067657,   1.99573755,   5.85919046, ..., -20.11654663,\n         -20.18092537, -19.83808517],\n        [-17.21945   ,   1.62291241,   6.61204672, ..., -17.29514694,\n         -17.32120323, -17.02147484],\n        [-12.55705833,   2.25245523,   5.77538157, ..., -12.5930891 ,\n         -12.64139557, -12.42106247]]], dtype=float32)] - got shape [1, 16, 5, 22669], but wanted [1].",
     "output_type": "error",
     "traceback": [
      "\u001b[1;31m---------------------------------------------------------------------------\u001b[0m",
      "\u001b[1;31mValueError\u001b[0m                                Traceback (most recent call last)",
      "\u001b[1;32mD:\\python3_5anaconda\\lib\\site-packages\\tensorflow\\python\\framework\\op_def_library.py\u001b[0m in \u001b[0;36mapply_op\u001b[1;34m(self, op_type_name, name, **keywords)\u001b[0m\n\u001b[0;32m    489\u001b[0m                 \u001b[0mas_ref\u001b[0m\u001b[1;33m=\u001b[0m\u001b[0minput_arg\u001b[0m\u001b[1;33m.\u001b[0m\u001b[0mis_ref\u001b[0m\u001b[1;33m,\u001b[0m\u001b[1;33m\u001b[0m\u001b[0m\n\u001b[1;32m--> 490\u001b[1;33m                 preferred_dtype=default_dtype)\n\u001b[0m\u001b[0;32m    491\u001b[0m           \u001b[1;32mexcept\u001b[0m \u001b[0mTypeError\u001b[0m \u001b[1;32mas\u001b[0m \u001b[0merr\u001b[0m\u001b[1;33m:\u001b[0m\u001b[1;33m\u001b[0m\u001b[0m\n",
      "\u001b[1;32mD:\\python3_5anaconda\\lib\\site-packages\\tensorflow\\python\\framework\\ops.py\u001b[0m in \u001b[0;36minternal_convert_to_tensor\u001b[1;34m(value, dtype, name, as_ref, preferred_dtype)\u001b[0m\n\u001b[0;32m    740\u001b[0m         \u001b[1;32mif\u001b[0m \u001b[0mret\u001b[0m \u001b[1;32mis\u001b[0m \u001b[1;32mNone\u001b[0m\u001b[1;33m:\u001b[0m\u001b[1;33m\u001b[0m\u001b[0m\n\u001b[1;32m--> 741\u001b[1;33m           \u001b[0mret\u001b[0m \u001b[1;33m=\u001b[0m \u001b[0mconversion_func\u001b[0m\u001b[1;33m(\u001b[0m\u001b[0mvalue\u001b[0m\u001b[1;33m,\u001b[0m \u001b[0mdtype\u001b[0m\u001b[1;33m=\u001b[0m\u001b[0mdtype\u001b[0m\u001b[1;33m,\u001b[0m \u001b[0mname\u001b[0m\u001b[1;33m=\u001b[0m\u001b[0mname\u001b[0m\u001b[1;33m,\u001b[0m \u001b[0mas_ref\u001b[0m\u001b[1;33m=\u001b[0m\u001b[0mas_ref\u001b[0m\u001b[1;33m)\u001b[0m\u001b[1;33m\u001b[0m\u001b[0m\n\u001b[0m\u001b[0;32m    742\u001b[0m \u001b[1;33m\u001b[0m\u001b[0m\n",
      "\u001b[1;32mD:\\python3_5anaconda\\lib\\site-packages\\tensorflow\\python\\framework\\constant_op.py\u001b[0m in \u001b[0;36m_constant_tensor_conversion_function\u001b[1;34m(v, dtype, name, as_ref)\u001b[0m\n\u001b[0;32m    112\u001b[0m   \u001b[0m_\u001b[0m \u001b[1;33m=\u001b[0m \u001b[0mas_ref\u001b[0m\u001b[1;33m\u001b[0m\u001b[0m\n\u001b[1;32m--> 113\u001b[1;33m   \u001b[1;32mreturn\u001b[0m \u001b[0mconstant\u001b[0m\u001b[1;33m(\u001b[0m\u001b[0mv\u001b[0m\u001b[1;33m,\u001b[0m \u001b[0mdtype\u001b[0m\u001b[1;33m=\u001b[0m\u001b[0mdtype\u001b[0m\u001b[1;33m,\u001b[0m \u001b[0mname\u001b[0m\u001b[1;33m=\u001b[0m\u001b[0mname\u001b[0m\u001b[1;33m)\u001b[0m\u001b[1;33m\u001b[0m\u001b[0m\n\u001b[0m\u001b[0;32m    114\u001b[0m \u001b[1;33m\u001b[0m\u001b[0m\n",
      "\u001b[1;32mD:\\python3_5anaconda\\lib\\site-packages\\tensorflow\\python\\framework\\constant_op.py\u001b[0m in \u001b[0;36mconstant\u001b[1;34m(value, dtype, shape, name, verify_shape)\u001b[0m\n\u001b[0;32m    101\u001b[0m   tensor_value.tensor.CopyFrom(\n\u001b[1;32m--> 102\u001b[1;33m       tensor_util.make_tensor_proto(value, dtype=dtype, shape=shape, verify_shape=verify_shape))\n\u001b[0m\u001b[0;32m    103\u001b[0m   \u001b[0mdtype_value\u001b[0m \u001b[1;33m=\u001b[0m \u001b[0mattr_value_pb2\u001b[0m\u001b[1;33m.\u001b[0m\u001b[0mAttrValue\u001b[0m\u001b[1;33m(\u001b[0m\u001b[0mtype\u001b[0m\u001b[1;33m=\u001b[0m\u001b[0mtensor_value\u001b[0m\u001b[1;33m.\u001b[0m\u001b[0mtensor\u001b[0m\u001b[1;33m.\u001b[0m\u001b[0mdtype\u001b[0m\u001b[1;33m)\u001b[0m\u001b[1;33m\u001b[0m\u001b[0m\n",
      "\u001b[1;32mD:\\python3_5anaconda\\lib\\site-packages\\tensorflow\\python\\framework\\tensor_util.py\u001b[0m in \u001b[0;36mmake_tensor_proto\u001b[1;34m(values, dtype, shape, verify_shape)\u001b[0m\n\u001b[0;32m    382\u001b[0m                              \u001b[0mvalues\u001b[0m\u001b[1;33m,\u001b[0m \u001b[0mlist\u001b[0m\u001b[1;33m(\u001b[0m\u001b[0mnparray\u001b[0m\u001b[1;33m.\u001b[0m\u001b[0mshape\u001b[0m\u001b[1;33m)\u001b[0m\u001b[1;33m,\u001b[0m\u001b[1;33m\u001b[0m\u001b[0m\n\u001b[1;32m--> 383\u001b[1;33m                              _GetDenseDimensions(values)))\n\u001b[0m\u001b[0;32m    384\u001b[0m \u001b[1;33m\u001b[0m\u001b[0m\n",
      "\u001b[1;31mValueError\u001b[0m: Argument must be a dense tensor: [array([[[-13.29698753,   1.50603712,   4.18791246, ..., -13.349123  ,\n         -13.3751421 , -13.1564827 ],\n        [-17.8072567 ,   1.72352362,   6.62874079, ..., -17.88330269,\n         -17.91202545, -17.60957336],\n        [ -8.10572243,   0.96238852,   3.64221597, ...,  -8.1366148 ,\n          -8.14382172,  -8.0562582 ],\n        [ -9.59585762,   1.19165468,   3.02162147, ...,  -9.67808628,\n          -9.68119144,  -9.53866673],\n        [-16.43118095,   0.92567235,   6.14692831, ..., -16.50385666,\n         -16.52963066, -16.25689888]],\n\n       [[-12.68002701,   2.50740552,   4.95650816, ..., -12.72162056,\n         -12.75607491, -12.54108429],\n        [-10.22591019,   0.89076328,   4.29207182, ..., -10.25300407,\n         -10.27827072, -10.15265274],\n        [ -7.87790489,   1.41231561,   1.4872905 , ...,  -7.92313194,\n          -7.90665865,  -7.81639719],\n        [-14.17497826,   1.20529819,   3.52974939, ..., -14.25171852,\n         -14.27195454, -14.0370369 ],\n        [ -8.08020782,   3.09560299,   1.16355121, ...,  -8.10146046,\n          -8.13920975,  -8.01443386]],\n\n       [[-11.9107151 ,   2.65493131,   2.21742368, ..., -11.96892166,\n         -11.97667599, -11.79452229],\n        [ -8.29378128,   3.49496508,   1.76021314, ...,  -8.33470249,\n          -8.34915352,  -8.21941376],\n        [-16.5308876 ,   2.29418516,   3.63171577, ..., -16.56970406,\n         -16.61454964, -16.3437233 ],\n        [ -7.08833027,   3.31023955,   1.22841275, ...,  -7.13901138,\n          -7.14507627,  -7.04652977],\n        [-15.04360962,   1.07342029,   4.32587433, ..., -15.09893131,\n         -15.14183426, -14.89402771]],\n\n       ..., \n       [[-10.18450165,   1.47475362,   3.70657301, ..., -10.20915699,\n         -10.22990131, -10.09808636],\n        [-14.99827576,   2.33303761,   2.92521453, ..., -15.06704521,\n         -15.07485771, -14.83860111],\n        [ -8.25104332,   3.10059142,   1.16515172, ...,  -8.27199841,\n          -8.31237221,  -8.18300247],\n        [-16.51958084,   2.39864039,   3.55089712, ..., -16.57685089,\n         -16.62143135, -16.34017181],\n        [ -8.01462746,   3.4444406 ,   1.73880255, ...,  -8.0537529 ,\n          -8.06591415,  -7.94523525]],\n\n       [[ -7.87415838,   1.63299322,   1.08013701, ...,  -7.91850376,\n          -7.92210674,  -7.81242943],\n        [-17.84194183,   2.07331824,   6.04539013, ..., -17.91431808,\n         -17.94390869, -17.65196037],\n        [ -8.20227623,   1.04866302,   3.59543037, ...,  -8.2327919 ,\n          -8.24073124,  -8.15093994],\n        [-11.78299141,   3.02074909,   1.41566801, ..., -11.85335732,\n         -11.87757397, -11.67323494],\n        [ -8.25613213,   3.46088934,   1.82156646, ...,  -8.29716778,\n          -8.31014919,  -8.18190956]],\n\n       [[-11.22794914,   1.46699822,   2.71381998, ..., -11.27250099,\n         -11.2752533 , -11.11186218],\n        [ -9.05190849,   3.48652244,   1.56867194, ...,  -9.08731937,\n          -9.11453915,  -8.97289753],\n        [-20.06067657,   1.99573755,   5.85919046, ..., -20.11654663,\n         -20.18092537, -19.83808517],\n        [-17.21945   ,   1.62291241,   6.61204672, ..., -17.29514694,\n         -17.32120323, -17.02147484],\n        [-12.55705833,   2.25245523,   5.77538157, ..., -12.5930891 ,\n         -12.64139557, -12.42106247]]], dtype=float32)] - got shape [1, 16, 5, 22669], but wanted [1].",
      "\nDuring handling of the above exception, another exception occurred:\n",
      "\u001b[1;31mValueError\u001b[0m                                Traceback (most recent call last)",
      "\u001b[1;32mD:\\python3_5anaconda\\lib\\site-packages\\tensorflow\\python\\framework\\op_def_library.py\u001b[0m in \u001b[0;36mapply_op\u001b[1;34m(self, op_type_name, name, **keywords)\u001b[0m\n\u001b[0;32m    503\u001b[0m               observed = ops.internal_convert_to_tensor(\n\u001b[1;32m--> 504\u001b[1;33m                   values, as_ref=input_arg.is_ref).dtype.name\n\u001b[0m\u001b[0;32m    505\u001b[0m             \u001b[1;32mexcept\u001b[0m \u001b[0mValueError\u001b[0m \u001b[1;32mas\u001b[0m \u001b[0merr\u001b[0m\u001b[1;33m:\u001b[0m\u001b[1;33m\u001b[0m\u001b[0m\n",
      "\u001b[1;32mD:\\python3_5anaconda\\lib\\site-packages\\tensorflow\\python\\framework\\ops.py\u001b[0m in \u001b[0;36minternal_convert_to_tensor\u001b[1;34m(value, dtype, name, as_ref, preferred_dtype)\u001b[0m\n\u001b[0;32m    740\u001b[0m         \u001b[1;32mif\u001b[0m \u001b[0mret\u001b[0m \u001b[1;32mis\u001b[0m \u001b[1;32mNone\u001b[0m\u001b[1;33m:\u001b[0m\u001b[1;33m\u001b[0m\u001b[0m\n\u001b[1;32m--> 741\u001b[1;33m           \u001b[0mret\u001b[0m \u001b[1;33m=\u001b[0m \u001b[0mconversion_func\u001b[0m\u001b[1;33m(\u001b[0m\u001b[0mvalue\u001b[0m\u001b[1;33m,\u001b[0m \u001b[0mdtype\u001b[0m\u001b[1;33m=\u001b[0m\u001b[0mdtype\u001b[0m\u001b[1;33m,\u001b[0m \u001b[0mname\u001b[0m\u001b[1;33m=\u001b[0m\u001b[0mname\u001b[0m\u001b[1;33m,\u001b[0m \u001b[0mas_ref\u001b[0m\u001b[1;33m=\u001b[0m\u001b[0mas_ref\u001b[0m\u001b[1;33m)\u001b[0m\u001b[1;33m\u001b[0m\u001b[0m\n\u001b[0m\u001b[0;32m    742\u001b[0m \u001b[1;33m\u001b[0m\u001b[0m\n",
      "\u001b[1;32mD:\\python3_5anaconda\\lib\\site-packages\\tensorflow\\python\\framework\\constant_op.py\u001b[0m in \u001b[0;36m_constant_tensor_conversion_function\u001b[1;34m(v, dtype, name, as_ref)\u001b[0m\n\u001b[0;32m    112\u001b[0m   \u001b[0m_\u001b[0m \u001b[1;33m=\u001b[0m \u001b[0mas_ref\u001b[0m\u001b[1;33m\u001b[0m\u001b[0m\n\u001b[1;32m--> 113\u001b[1;33m   \u001b[1;32mreturn\u001b[0m \u001b[0mconstant\u001b[0m\u001b[1;33m(\u001b[0m\u001b[0mv\u001b[0m\u001b[1;33m,\u001b[0m \u001b[0mdtype\u001b[0m\u001b[1;33m=\u001b[0m\u001b[0mdtype\u001b[0m\u001b[1;33m,\u001b[0m \u001b[0mname\u001b[0m\u001b[1;33m=\u001b[0m\u001b[0mname\u001b[0m\u001b[1;33m)\u001b[0m\u001b[1;33m\u001b[0m\u001b[0m\n\u001b[0m\u001b[0;32m    114\u001b[0m \u001b[1;33m\u001b[0m\u001b[0m\n",
      "\u001b[1;32mD:\\python3_5anaconda\\lib\\site-packages\\tensorflow\\python\\framework\\constant_op.py\u001b[0m in \u001b[0;36mconstant\u001b[1;34m(value, dtype, shape, name, verify_shape)\u001b[0m\n\u001b[0;32m    101\u001b[0m   tensor_value.tensor.CopyFrom(\n\u001b[1;32m--> 102\u001b[1;33m       tensor_util.make_tensor_proto(value, dtype=dtype, shape=shape, verify_shape=verify_shape))\n\u001b[0m\u001b[0;32m    103\u001b[0m   \u001b[0mdtype_value\u001b[0m \u001b[1;33m=\u001b[0m \u001b[0mattr_value_pb2\u001b[0m\u001b[1;33m.\u001b[0m\u001b[0mAttrValue\u001b[0m\u001b[1;33m(\u001b[0m\u001b[0mtype\u001b[0m\u001b[1;33m=\u001b[0m\u001b[0mtensor_value\u001b[0m\u001b[1;33m.\u001b[0m\u001b[0mtensor\u001b[0m\u001b[1;33m.\u001b[0m\u001b[0mdtype\u001b[0m\u001b[1;33m)\u001b[0m\u001b[1;33m\u001b[0m\u001b[0m\n",
      "\u001b[1;32mD:\\python3_5anaconda\\lib\\site-packages\\tensorflow\\python\\framework\\tensor_util.py\u001b[0m in \u001b[0;36mmake_tensor_proto\u001b[1;34m(values, dtype, shape, verify_shape)\u001b[0m\n\u001b[0;32m    382\u001b[0m                              \u001b[0mvalues\u001b[0m\u001b[1;33m,\u001b[0m \u001b[0mlist\u001b[0m\u001b[1;33m(\u001b[0m\u001b[0mnparray\u001b[0m\u001b[1;33m.\u001b[0m\u001b[0mshape\u001b[0m\u001b[1;33m)\u001b[0m\u001b[1;33m,\u001b[0m\u001b[1;33m\u001b[0m\u001b[0m\n\u001b[1;32m--> 383\u001b[1;33m                              _GetDenseDimensions(values)))\n\u001b[0m\u001b[0;32m    384\u001b[0m \u001b[1;33m\u001b[0m\u001b[0m\n",
      "\u001b[1;31mValueError\u001b[0m: Argument must be a dense tensor: [array([[[-13.29698753,   1.50603712,   4.18791246, ..., -13.349123  ,\n         -13.3751421 , -13.1564827 ],\n        [-17.8072567 ,   1.72352362,   6.62874079, ..., -17.88330269,\n         -17.91202545, -17.60957336],\n        [ -8.10572243,   0.96238852,   3.64221597, ...,  -8.1366148 ,\n          -8.14382172,  -8.0562582 ],\n        [ -9.59585762,   1.19165468,   3.02162147, ...,  -9.67808628,\n          -9.68119144,  -9.53866673],\n        [-16.43118095,   0.92567235,   6.14692831, ..., -16.50385666,\n         -16.52963066, -16.25689888]],\n\n       [[-12.68002701,   2.50740552,   4.95650816, ..., -12.72162056,\n         -12.75607491, -12.54108429],\n        [-10.22591019,   0.89076328,   4.29207182, ..., -10.25300407,\n         -10.27827072, -10.15265274],\n        [ -7.87790489,   1.41231561,   1.4872905 , ...,  -7.92313194,\n          -7.90665865,  -7.81639719],\n        [-14.17497826,   1.20529819,   3.52974939, ..., -14.25171852,\n         -14.27195454, -14.0370369 ],\n        [ -8.08020782,   3.09560299,   1.16355121, ...,  -8.10146046,\n          -8.13920975,  -8.01443386]],\n\n       [[-11.9107151 ,   2.65493131,   2.21742368, ..., -11.96892166,\n         -11.97667599, -11.79452229],\n        [ -8.29378128,   3.49496508,   1.76021314, ...,  -8.33470249,\n          -8.34915352,  -8.21941376],\n        [-16.5308876 ,   2.29418516,   3.63171577, ..., -16.56970406,\n         -16.61454964, -16.3437233 ],\n        [ -7.08833027,   3.31023955,   1.22841275, ...,  -7.13901138,\n          -7.14507627,  -7.04652977],\n        [-15.04360962,   1.07342029,   4.32587433, ..., -15.09893131,\n         -15.14183426, -14.89402771]],\n\n       ..., \n       [[-10.18450165,   1.47475362,   3.70657301, ..., -10.20915699,\n         -10.22990131, -10.09808636],\n        [-14.99827576,   2.33303761,   2.92521453, ..., -15.06704521,\n         -15.07485771, -14.83860111],\n        [ -8.25104332,   3.10059142,   1.16515172, ...,  -8.27199841,\n          -8.31237221,  -8.18300247],\n        [-16.51958084,   2.39864039,   3.55089712, ..., -16.57685089,\n         -16.62143135, -16.34017181],\n        [ -8.01462746,   3.4444406 ,   1.73880255, ...,  -8.0537529 ,\n          -8.06591415,  -7.94523525]],\n\n       [[ -7.87415838,   1.63299322,   1.08013701, ...,  -7.91850376,\n          -7.92210674,  -7.81242943],\n        [-17.84194183,   2.07331824,   6.04539013, ..., -17.91431808,\n         -17.94390869, -17.65196037],\n        [ -8.20227623,   1.04866302,   3.59543037, ...,  -8.2327919 ,\n          -8.24073124,  -8.15093994],\n        [-11.78299141,   3.02074909,   1.41566801, ..., -11.85335732,\n         -11.87757397, -11.67323494],\n        [ -8.25613213,   3.46088934,   1.82156646, ...,  -8.29716778,\n          -8.31014919,  -8.18190956]],\n\n       [[-11.22794914,   1.46699822,   2.71381998, ..., -11.27250099,\n         -11.2752533 , -11.11186218],\n        [ -9.05190849,   3.48652244,   1.56867194, ...,  -9.08731937,\n          -9.11453915,  -8.97289753],\n        [-20.06067657,   1.99573755,   5.85919046, ..., -20.11654663,\n         -20.18092537, -19.83808517],\n        [-17.21945   ,   1.62291241,   6.61204672, ..., -17.29514694,\n         -17.32120323, -17.02147484],\n        [-12.55705833,   2.25245523,   5.77538157, ..., -12.5930891 ,\n         -12.64139557, -12.42106247]]], dtype=float32)] - got shape [1, 16, 5, 22669], but wanted [1].",
      "\nDuring handling of the above exception, another exception occurred:\n",
      "\u001b[1;31mValueError\u001b[0m                                Traceback (most recent call last)",
      "\u001b[1;32m<ipython-input-38-8966176dcc3e>\u001b[0m in \u001b[0;36m<module>\u001b[1;34m()\u001b[0m\n\u001b[0;32m      2\u001b[0m \u001b[0mopt\u001b[0m \u001b[1;33m=\u001b[0m \u001b[0mSes\u001b[0m\u001b[1;33m.\u001b[0m\u001b[0mrun\u001b[0m\u001b[1;33m(\u001b[0m\u001b[1;33m[\u001b[0m\u001b[0moutputs\u001b[0m\u001b[1;33m]\u001b[0m\u001b[1;33m,\u001b[0m \u001b[0mfeed_dict\u001b[0m\u001b[1;33m=\u001b[0m\u001b[0mfeed_data\u001b[0m\u001b[1;33m)\u001b[0m\u001b[1;33m\u001b[0m\u001b[0m\n\u001b[0;32m      3\u001b[0m \u001b[0mprint\u001b[0m\u001b[1;33m(\u001b[0m\u001b[0mopt\u001b[0m\u001b[1;33m[\u001b[0m\u001b[1;36m0\u001b[0m\u001b[1;33m]\u001b[0m\u001b[1;33m)\u001b[0m\u001b[1;33m\u001b[0m\u001b[0m\n\u001b[1;32m----> 4\u001b[1;33m \u001b[0mpredict\u001b[0m \u001b[1;33m=\u001b[0m \u001b[0mtf\u001b[0m\u001b[1;33m.\u001b[0m\u001b[0mnn\u001b[0m\u001b[1;33m.\u001b[0m\u001b[0mtop_k\u001b[0m\u001b[1;33m(\u001b[0m\u001b[0mopt\u001b[0m\u001b[1;33m,\u001b[0m\u001b[1;36m5\u001b[0m\u001b[1;33m)\u001b[0m\u001b[1;33m\u001b[0m\u001b[0m\n\u001b[0m",
      "\u001b[1;32mD:\\python3_5anaconda\\lib\\site-packages\\tensorflow\\python\\ops\\nn_ops.py\u001b[0m in \u001b[0;36mtop_k\u001b[1;34m(input, k, sorted, name)\u001b[0m\n\u001b[0;32m   1944\u001b[0m     \u001b[0mindices\u001b[0m\u001b[1;33m:\u001b[0m \u001b[0mThe\u001b[0m \u001b[0mindices\u001b[0m \u001b[0mof\u001b[0m\u001b[0;31m \u001b[0m\u001b[0;31m`\u001b[0m\u001b[0mvalues\u001b[0m\u001b[0;31m`\u001b[0m \u001b[0mwithin\u001b[0m \u001b[0mthe\u001b[0m \u001b[0mlast\u001b[0m \u001b[0mdimension\u001b[0m \u001b[0mof\u001b[0m\u001b[0;31m \u001b[0m\u001b[0;31m`\u001b[0m\u001b[0minput\u001b[0m\u001b[0;31m`\u001b[0m\u001b[1;33m.\u001b[0m\u001b[1;33m\u001b[0m\u001b[0m\n\u001b[0;32m   1945\u001b[0m   \"\"\"\n\u001b[1;32m-> 1946\u001b[1;33m   \u001b[1;32mreturn\u001b[0m \u001b[0mgen_nn_ops\u001b[0m\u001b[1;33m.\u001b[0m\u001b[0m_top_kv2\u001b[0m\u001b[1;33m(\u001b[0m\u001b[0minput\u001b[0m\u001b[1;33m,\u001b[0m \u001b[0mk\u001b[0m\u001b[1;33m=\u001b[0m\u001b[0mk\u001b[0m\u001b[1;33m,\u001b[0m \u001b[0msorted\u001b[0m\u001b[1;33m=\u001b[0m\u001b[0msorted\u001b[0m\u001b[1;33m,\u001b[0m \u001b[0mname\u001b[0m\u001b[1;33m=\u001b[0m\u001b[0mname\u001b[0m\u001b[1;33m)\u001b[0m\u001b[1;33m\u001b[0m\u001b[0m\n\u001b[0m\u001b[0;32m   1947\u001b[0m \u001b[1;33m\u001b[0m\u001b[0m\n\u001b[0;32m   1948\u001b[0m \u001b[1;33m\u001b[0m\u001b[0m\n",
      "\u001b[1;32mD:\\python3_5anaconda\\lib\\site-packages\\tensorflow\\python\\ops\\gen_nn_ops.py\u001b[0m in \u001b[0;36m_top_kv2\u001b[1;34m(input, k, sorted, name)\u001b[0m\n\u001b[0;32m   2570\u001b[0m   \"\"\"\n\u001b[0;32m   2571\u001b[0m   result = _op_def_lib.apply_op(\"TopKV2\", input=input, k=k, sorted=sorted,\n\u001b[1;32m-> 2572\u001b[1;33m                                 name=name)\n\u001b[0m\u001b[0;32m   2573\u001b[0m   \u001b[1;32mreturn\u001b[0m \u001b[0m_TopKV2Output\u001b[0m\u001b[1;33m.\u001b[0m\u001b[0m_make\u001b[0m\u001b[1;33m(\u001b[0m\u001b[0mresult\u001b[0m\u001b[1;33m)\u001b[0m\u001b[1;33m\u001b[0m\u001b[0m\n\u001b[0;32m   2574\u001b[0m \u001b[1;33m\u001b[0m\u001b[0m\n",
      "\u001b[1;32mD:\\python3_5anaconda\\lib\\site-packages\\tensorflow\\python\\framework\\op_def_library.py\u001b[0m in \u001b[0;36mapply_op\u001b[1;34m(self, op_type_name, name, **keywords)\u001b[0m\n\u001b[0;32m    506\u001b[0m               raise ValueError(\n\u001b[0;32m    507\u001b[0m                   \u001b[1;34m\"Tried to convert '%s' to a tensor and failed. Error: %s\"\u001b[0m \u001b[1;33m%\u001b[0m\u001b[1;33m\u001b[0m\u001b[0m\n\u001b[1;32m--> 508\u001b[1;33m                   (input_name, err))\n\u001b[0m\u001b[0;32m    509\u001b[0m             prefix = (\"Input '%s' of '%s' Op has type %s that does not match\" %\n\u001b[0;32m    510\u001b[0m                       (input_name, op_type_name, observed))\n",
      "\u001b[1;31mValueError\u001b[0m: Tried to convert 'input' to a tensor and failed. Error: Argument must be a dense tensor: [array([[[-13.29698753,   1.50603712,   4.18791246, ..., -13.349123  ,\n         -13.3751421 , -13.1564827 ],\n        [-17.8072567 ,   1.72352362,   6.62874079, ..., -17.88330269,\n         -17.91202545, -17.60957336],\n        [ -8.10572243,   0.96238852,   3.64221597, ...,  -8.1366148 ,\n          -8.14382172,  -8.0562582 ],\n        [ -9.59585762,   1.19165468,   3.02162147, ...,  -9.67808628,\n          -9.68119144,  -9.53866673],\n        [-16.43118095,   0.92567235,   6.14692831, ..., -16.50385666,\n         -16.52963066, -16.25689888]],\n\n       [[-12.68002701,   2.50740552,   4.95650816, ..., -12.72162056,\n         -12.75607491, -12.54108429],\n        [-10.22591019,   0.89076328,   4.29207182, ..., -10.25300407,\n         -10.27827072, -10.15265274],\n        [ -7.87790489,   1.41231561,   1.4872905 , ...,  -7.92313194,\n          -7.90665865,  -7.81639719],\n        [-14.17497826,   1.20529819,   3.52974939, ..., -14.25171852,\n         -14.27195454, -14.0370369 ],\n        [ -8.08020782,   3.09560299,   1.16355121, ...,  -8.10146046,\n          -8.13920975,  -8.01443386]],\n\n       [[-11.9107151 ,   2.65493131,   2.21742368, ..., -11.96892166,\n         -11.97667599, -11.79452229],\n        [ -8.29378128,   3.49496508,   1.76021314, ...,  -8.33470249,\n          -8.34915352,  -8.21941376],\n        [-16.5308876 ,   2.29418516,   3.63171577, ..., -16.56970406,\n         -16.61454964, -16.3437233 ],\n        [ -7.08833027,   3.31023955,   1.22841275, ...,  -7.13901138,\n          -7.14507627,  -7.04652977],\n        [-15.04360962,   1.07342029,   4.32587433, ..., -15.09893131,\n         -15.14183426, -14.89402771]],\n\n       ..., \n       [[-10.18450165,   1.47475362,   3.70657301, ..., -10.20915699,\n         -10.22990131, -10.09808636],\n        [-14.99827576,   2.33303761,   2.92521453, ..., -15.06704521,\n         -15.07485771, -14.83860111],\n        [ -8.25104332,   3.10059142,   1.16515172, ...,  -8.27199841,\n          -8.31237221,  -8.18300247],\n        [-16.51958084,   2.39864039,   3.55089712, ..., -16.57685089,\n         -16.62143135, -16.34017181],\n        [ -8.01462746,   3.4444406 ,   1.73880255, ...,  -8.0537529 ,\n          -8.06591415,  -7.94523525]],\n\n       [[ -7.87415838,   1.63299322,   1.08013701, ...,  -7.91850376,\n          -7.92210674,  -7.81242943],\n        [-17.84194183,   2.07331824,   6.04539013, ..., -17.91431808,\n         -17.94390869, -17.65196037],\n        [ -8.20227623,   1.04866302,   3.59543037, ...,  -8.2327919 ,\n          -8.24073124,  -8.15093994],\n        [-11.78299141,   3.02074909,   1.41566801, ..., -11.85335732,\n         -11.87757397, -11.67323494],\n        [ -8.25613213,   3.46088934,   1.82156646, ...,  -8.29716778,\n          -8.31014919,  -8.18190956]],\n\n       [[-11.22794914,   1.46699822,   2.71381998, ..., -11.27250099,\n         -11.2752533 , -11.11186218],\n        [ -9.05190849,   3.48652244,   1.56867194, ...,  -9.08731937,\n          -9.11453915,  -8.97289753],\n        [-20.06067657,   1.99573755,   5.85919046, ..., -20.11654663,\n         -20.18092537, -19.83808517],\n        [-17.21945   ,   1.62291241,   6.61204672, ..., -17.29514694,\n         -17.32120323, -17.02147484],\n        [-12.55705833,   2.25245523,   5.77538157, ..., -12.5930891 ,\n         -12.64139557, -12.42106247]]], dtype=float32)] - got shape [1, 16, 5, 22669], but wanted [1]."
     ]
    }
   ],
   "source": [
    "# feed_data = {X:}\n",
    "opt = Ses.run([outputs], feed_dict=feed_data)\n",
    "print(opt[0])\n"
   ]
  },
  {
   "cell_type": "code",
   "execution_count": 78,
   "metadata": {},
   "outputs": [],
   "source": [
    "predict = tf.nn.top_k(outputs,5)"
   ]
  },
  {
   "cell_type": "code",
   "execution_count": 98,
   "metadata": {},
   "outputs": [
    {
     "data": {
      "text/plain": [
       "{<tf.Tensor 'inputs_xdata:0' shape=(?, 5) dtype=int32>: array([[6282,    4,    8,    2,    9],\n",
       "        [5482,    7,   15,    5,   37],\n",
       "        [   5,  186,    3,    3,    1],\n",
       "        [  23,    3, 1216,    6,  943],\n",
       "        [   4,    4,    6,   31,    4],\n",
       "        [   2,   16,    3, 5482,   25],\n",
       "        [  31,    4,    8,    2,    9],\n",
       "        [  15,    5,   37,    5,   41],\n",
       "        [   3,    3,    1,   23,    3],\n",
       "        [ 482,    6, 1216,    6,  413],\n",
       "        [   4,    4,    6,   15,    5],\n",
       "        [  72,    4,    2,   18,    2],\n",
       "        [  10,   10,   15,    5,   80],\n",
       "        [   5,   84,    5,  144,    3],\n",
       "        [   4,    2,  294,    7,    3],\n",
       "        [   1,   23,    3, 1216,    6]], dtype=int64),\n",
       " <tf.Tensor 'seq_len:0' shape=(?,) dtype=int32>: array([5, 5, 5, 5, 5, 5, 5, 5, 5, 5, 5, 5, 5, 5, 5, 5], dtype=int64),\n",
       " <tf.Tensor 'targets_ydata:0' shape=(?, 5) dtype=int32>: array([[   4,    8,    2,    9, 5482],\n",
       "        [   7,   15,    5,   37,    5],\n",
       "        [ 186,    3,    3,    1,   23],\n",
       "        [   3, 1216,    6,  943,    4],\n",
       "        [   4,    6,   31,    4,    2],\n",
       "        [  16,    3, 5482,   25,   31],\n",
       "        [   4,    8,    2,    9,   15],\n",
       "        [   5,   37,    5,   41,    3],\n",
       "        [   3,    1,   23,    3,  482],\n",
       "        [   6, 1216,    6,  413,    4],\n",
       "        [   4,    6,   15,    5,   72],\n",
       "        [   4,    2,   18,    2,   10],\n",
       "        [  10,   15,    5,   80,    5],\n",
       "        [  84,    5,  144,    3,    4],\n",
       "        [   2,  294,    7,    3,    1],\n",
       "        [  23,    3, 1216,    6,  482]], dtype=int64)}"
      ]
     },
     "execution_count": 98,
     "metadata": {},
     "output_type": "execute_result"
    }
   ],
   "source": [
    "seq_, x_in, y_in = Ses.run([batch_seq, batch_x, batch_y])\n",
    "feed_data = {X:x_in, seq_len:seq_, Y:y_in}\n",
    "pr = Ses.run(predict, feed_dict=feed_data)\n",
    "feed_data"
   ]
  },
  {
   "cell_type": "code",
   "execution_count": 83,
   "metadata": {},
   "outputs": [],
   "source": [
    "prob = pr[0]\n",
    "probidx = pr[1]\n",
    "idx_to_word = []\n",
    "with open(vocabulary, 'r', newline='', encoding='utf-8') as vocab:\n",
    "    words = csv.reader(vocab)\n",
    "    for word in words:\n",
    "        idx_to_word.append(word)"
   ]
  },
  {
   "cell_type": "code",
   "execution_count": 100,
   "metadata": {},
   "outputs": [
    {
     "name": "stdout",
     "output_type": "stream",
     "text": [
      "[[6282    4    8    2    9]\n",
      " [5482    7   15    5   37]\n",
      " [   5  186    3    3    1]\n",
      " [  23    3 1216    6  943]\n",
      " [   4    4    6   31    4]\n",
      " [   2   16    3 5482   25]\n",
      " [  31    4    8    2    9]\n",
      " [  15    5   37    5   41]\n",
      " [   3    3    1   23    3]\n",
      " [ 482    6 1216    6  413]\n",
      " [   4    4    6   15    5]\n",
      " [  72    4    2   18    2]\n",
      " [  10   10   15    5   80]\n",
      " [   5   84    5  144    3]\n",
      " [   4    2  294    7    3]\n",
      " [   1   23    3 1216    6]] [[   4    8    2    9 5482]\n",
      " [   7   15    5   37    5]\n",
      " [ 186    3    3    1   23]\n",
      " [   3 1216    6  943    4]\n",
      " [   4    6   31    4    2]\n",
      " [  16    3 5482   25   31]\n",
      " [   4    8    2    9   15]\n",
      " [   5   37    5   41    3]\n",
      " [   3    1   23    3  482]\n",
      " [   6 1216    6  413    4]\n",
      " [   4    6   15    5   72]\n",
      " [   4    2   18    2   10]\n",
      " [  10   15    5   80    5]\n",
      " [  84    5  144    3    4]\n",
      " [   2  294    7    3    1]\n",
      " [  23    3 1216    6  482]]\n",
      "['from'] 9\n",
      "['if'] 3\n",
      "['self'] 1\n",
      "['0'] 5\n",
      "['if'] 3\n",
      "\n",
      "['if'] 3\n",
      "['if'] 3\n",
      "['0'] 5\n",
      "['if'] 3\n",
      "['if'] 3\n",
      "\n",
      "['self'] 1\n",
      "['return'] 4\n",
      "['self'] 1\n",
      "['0'] 5\n",
      "['if'] 3\n",
      "\n",
      "['return'] 4\n",
      "['def'] 2\n",
      "['self'] 1\n",
      "['return'] 4\n",
      "['return'] 4\n",
      "\n",
      "['from'] 9\n",
      "['def'] 2\n",
      "['def'] 2\n",
      "['from'] 9\n",
      "['144'] 18\n",
      "\n",
      "['def'] 2\n",
      "['self'] 1\n",
      "['0'] 5\n",
      "['if'] 3\n",
      "['0'] 5\n",
      "\n",
      "['if'] 3\n",
      "['0'] 5\n",
      "['if'] 3\n",
      "['if'] 3\n",
      "['self'] 1\n",
      "\n",
      "['return'] 4\n",
      "['self'] 1\n",
      "['0'] 5\n",
      "['if'] 3\n",
      "['return'] 4\n",
      "\n",
      "['def'] 2\n",
      "['self'] 1\n",
      "['return'] 4\n",
      "['return'] 4\n",
      "['in'] 10\n",
      "\n",
      "['in'] 10\n",
      "['if'] 3\n",
      "['def'] 2\n",
      "['from'] 9\n",
      "['144'] 18\n",
      "\n",
      "['0'] 5\n",
      "['if'] 3\n",
      "['0'] 5\n",
      "['if'] 3\n",
      "['if'] 3\n",
      "\n",
      "['self'] 1\n",
      "['self'] 1\n",
      "['return'] 4\n",
      "['if'] 3\n",
      "['self'] 1\n",
      "\n",
      "['if'] 3\n",
      "['self'] 1\n",
      "['return'] 4\n",
      "['self'] 1\n",
      "['return'] 4\n",
      "\n",
      "['def'] 2\n",
      "['def'] 2\n",
      "['self'] 1\n",
      "['0'] 5\n",
      "['if'] 3\n",
      "\n",
      "['def'] 2\n",
      "['def'] 2\n",
      "['in'] 10\n",
      "['self'] 1\n",
      "['from'] 9\n",
      "\n",
      "['in'] 10\n",
      "['if'] 3\n",
      "['self'] 1\n",
      "['return'] 4\n",
      "['if'] 3\n",
      "\n"
     ]
    }
   ],
   "source": [
    "probidx\n",
    "print(feed_data[X], feed_data[Y])\n",
    "for line in probidx:\n",
    "    for idx in line:\n",
    "#         for each_idx in idx:\n",
    "        print(idx_to_word[idx[0]], idx[0])\n",
    "    print()\n",
    "# predic_word = [idx_to_word[i] for i in probidx[0]]"
   ]
  },
  {
   "cell_type": "code",
   "execution_count": null,
   "metadata": {
    "collapsed": true
   },
   "outputs": [],
   "source": [
    "\n"
   ]
  }
 ],
 "metadata": {
  "anaconda-cloud": {},
  "kernelspec": {
   "display_name": "Python [conda root]",
   "language": "python",
   "name": "conda-root-py"
  },
  "language_info": {
   "codemirror_mode": {
    "name": "ipython",
    "version": 3
   },
   "file_extension": ".py",
   "mimetype": "text/x-python",
   "name": "python",
   "nbconvert_exporter": "python",
   "pygments_lexer": "ipython3",
   "version": "3.5.2"
  }
 },
 "nbformat": 4,
 "nbformat_minor": 2
}
